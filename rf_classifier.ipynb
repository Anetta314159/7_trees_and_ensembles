{
 "cells": [
  {
   "cell_type": "markdown",
   "metadata": {},
   "source": [
    "# Introduction"
   ]
  },
  {
   "cell_type": "markdown",
   "metadata": {},
   "source": [
    "Fortunately, with libraries such as Scikit-Learn, it’s now easy to build and use almost any machine learning algorithm. But it’s helpful to have an idea of how a machine learning model works under the hood. This lets us diagnose the model when it’s underperforming or explain how it makes decisions, which is crucial if we want to convince others to trust our models.\n",
    "In this assignment, we’ll look at how to build and use the Decision Tree and the Random Forest in Python. We’ll start by understanding how a single decision tree makes classifications on a simple problem. Then, we’ll work our way to using a random forest on a real-world data science problem."
   ]
  },
  {
   "cell_type": "markdown",
   "metadata": {},
   "source": [
    "# Dataset"
   ]
  },
  {
   "cell_type": "markdown",
   "metadata": {},
   "source": [
    "The dataset we will use in this assignment is the Sonar dataset.\n",
    "\n",
    "This is a dataset that describes sonar chirp returns bouncing off different surfaces. The 60 predictors are the strength of the returns at different angles. It is a binary classification problem that requires a model to differentiate rocks from metal cylinders. There are 208 observations.\n",
    "\n",
    "It is a well-understood dataset. All of the variables are continuous and generally in the range of 0 to 1. The output variable is a string “M” for mine and “R” for rock, which will need to be converted to integers 1 and 0.\n",
    "\n",
    "By predicting the class with the most observations in the dataset (M or mines) the Zero Rule Algorithm can achieve an accuracy of 53%.\n",
    "\n",
    "You can learn more about this dataset at the UCI Machine Learning repository.\n",
    "https://archive.ics.uci.edu/ml/datasets/Connectionist+Bench+(Sonar,+Mines+vs.+Rocks)\n",
    "\n",
    "Download the dataset for free and place it in the \"data\" folder in your working directory with the filename sonar.all-data.csv."
   ]
  },
  {
   "cell_type": "markdown",
   "metadata": {},
   "source": [
    "# Import section"
   ]
  },
  {
   "cell_type": "code",
   "execution_count": 1,
   "metadata": {
    "ExecuteTime": {
     "end_time": "2022-01-17T20:27:52.137523Z",
     "start_time": "2022-01-17T20:27:51.210945Z"
    }
   },
   "outputs": [],
   "source": [
    "import numpy as np\n",
    "import pandas as pd\n",
    "import matplotlib.pyplot as plt\n",
    "import seaborn as sns\n",
    "from sklearn.model_selection import train_test_split\n",
    "from sklearn.metrics import accuracy_score"
   ]
  },
  {
   "cell_type": "code",
   "execution_count": 2,
   "metadata": {
    "ExecuteTime": {
     "end_time": "2022-01-17T20:27:52.153537Z",
     "start_time": "2022-01-17T20:27:52.139489Z"
    }
   },
   "outputs": [],
   "source": [
    "import tests"
   ]
  },
  {
   "cell_type": "code",
   "execution_count": 3,
   "metadata": {
    "ExecuteTime": {
     "end_time": "2022-01-17T20:27:52.169411Z",
     "start_time": "2022-01-17T20:27:52.156443Z"
    }
   },
   "outputs": [],
   "source": [
    "RANDOM_STATE = 2020"
   ]
  },
  {
   "cell_type": "markdown",
   "metadata": {},
   "source": [
    "# Preprocess data"
   ]
  },
  {
   "cell_type": "markdown",
   "metadata": {},
   "source": [
    "Read data and convert targets to integers 1 and 0."
   ]
  },
  {
   "cell_type": "code",
   "execution_count": 30,
   "metadata": {
    "ExecuteTime": {
     "end_time": "2022-01-17T20:27:52.216149Z",
     "start_time": "2022-01-17T20:27:52.171403Z"
    }
   },
   "outputs": [
    {
     "data": {
      "text/html": [
       "<div>\n",
       "<style scoped>\n",
       "    .dataframe tbody tr th:only-of-type {\n",
       "        vertical-align: middle;\n",
       "    }\n",
       "\n",
       "    .dataframe tbody tr th {\n",
       "        vertical-align: top;\n",
       "    }\n",
       "\n",
       "    .dataframe thead th {\n",
       "        text-align: right;\n",
       "    }\n",
       "</style>\n",
       "<table border=\"1\" class=\"dataframe\">\n",
       "  <thead>\n",
       "    <tr style=\"text-align: right;\">\n",
       "      <th></th>\n",
       "      <th>feat_0</th>\n",
       "      <th>feat_1</th>\n",
       "      <th>feat_2</th>\n",
       "      <th>feat_3</th>\n",
       "      <th>feat_4</th>\n",
       "      <th>feat_5</th>\n",
       "      <th>feat_6</th>\n",
       "      <th>feat_7</th>\n",
       "      <th>feat_8</th>\n",
       "      <th>feat_9</th>\n",
       "      <th>...</th>\n",
       "      <th>feat_51</th>\n",
       "      <th>feat_52</th>\n",
       "      <th>feat_53</th>\n",
       "      <th>feat_54</th>\n",
       "      <th>feat_55</th>\n",
       "      <th>feat_56</th>\n",
       "      <th>feat_57</th>\n",
       "      <th>feat_58</th>\n",
       "      <th>feat_59</th>\n",
       "      <th>target</th>\n",
       "    </tr>\n",
       "  </thead>\n",
       "  <tbody>\n",
       "    <tr>\n",
       "      <th>0</th>\n",
       "      <td>0.0200</td>\n",
       "      <td>0.0371</td>\n",
       "      <td>0.0428</td>\n",
       "      <td>0.0207</td>\n",
       "      <td>0.0954</td>\n",
       "      <td>0.0986</td>\n",
       "      <td>0.1539</td>\n",
       "      <td>0.1601</td>\n",
       "      <td>0.3109</td>\n",
       "      <td>0.2111</td>\n",
       "      <td>...</td>\n",
       "      <td>0.0027</td>\n",
       "      <td>0.0065</td>\n",
       "      <td>0.0159</td>\n",
       "      <td>0.0072</td>\n",
       "      <td>0.0167</td>\n",
       "      <td>0.0180</td>\n",
       "      <td>0.0084</td>\n",
       "      <td>0.0090</td>\n",
       "      <td>0.0032</td>\n",
       "      <td>0</td>\n",
       "    </tr>\n",
       "    <tr>\n",
       "      <th>1</th>\n",
       "      <td>0.0453</td>\n",
       "      <td>0.0523</td>\n",
       "      <td>0.0843</td>\n",
       "      <td>0.0689</td>\n",
       "      <td>0.1183</td>\n",
       "      <td>0.2583</td>\n",
       "      <td>0.2156</td>\n",
       "      <td>0.3481</td>\n",
       "      <td>0.3337</td>\n",
       "      <td>0.2872</td>\n",
       "      <td>...</td>\n",
       "      <td>0.0084</td>\n",
       "      <td>0.0089</td>\n",
       "      <td>0.0048</td>\n",
       "      <td>0.0094</td>\n",
       "      <td>0.0191</td>\n",
       "      <td>0.0140</td>\n",
       "      <td>0.0049</td>\n",
       "      <td>0.0052</td>\n",
       "      <td>0.0044</td>\n",
       "      <td>0</td>\n",
       "    </tr>\n",
       "    <tr>\n",
       "      <th>2</th>\n",
       "      <td>0.0262</td>\n",
       "      <td>0.0582</td>\n",
       "      <td>0.1099</td>\n",
       "      <td>0.1083</td>\n",
       "      <td>0.0974</td>\n",
       "      <td>0.2280</td>\n",
       "      <td>0.2431</td>\n",
       "      <td>0.3771</td>\n",
       "      <td>0.5598</td>\n",
       "      <td>0.6194</td>\n",
       "      <td>...</td>\n",
       "      <td>0.0232</td>\n",
       "      <td>0.0166</td>\n",
       "      <td>0.0095</td>\n",
       "      <td>0.0180</td>\n",
       "      <td>0.0244</td>\n",
       "      <td>0.0316</td>\n",
       "      <td>0.0164</td>\n",
       "      <td>0.0095</td>\n",
       "      <td>0.0078</td>\n",
       "      <td>0</td>\n",
       "    </tr>\n",
       "    <tr>\n",
       "      <th>3</th>\n",
       "      <td>0.0100</td>\n",
       "      <td>0.0171</td>\n",
       "      <td>0.0623</td>\n",
       "      <td>0.0205</td>\n",
       "      <td>0.0205</td>\n",
       "      <td>0.0368</td>\n",
       "      <td>0.1098</td>\n",
       "      <td>0.1276</td>\n",
       "      <td>0.0598</td>\n",
       "      <td>0.1264</td>\n",
       "      <td>...</td>\n",
       "      <td>0.0121</td>\n",
       "      <td>0.0036</td>\n",
       "      <td>0.0150</td>\n",
       "      <td>0.0085</td>\n",
       "      <td>0.0073</td>\n",
       "      <td>0.0050</td>\n",
       "      <td>0.0044</td>\n",
       "      <td>0.0040</td>\n",
       "      <td>0.0117</td>\n",
       "      <td>0</td>\n",
       "    </tr>\n",
       "    <tr>\n",
       "      <th>4</th>\n",
       "      <td>0.0762</td>\n",
       "      <td>0.0666</td>\n",
       "      <td>0.0481</td>\n",
       "      <td>0.0394</td>\n",
       "      <td>0.0590</td>\n",
       "      <td>0.0649</td>\n",
       "      <td>0.1209</td>\n",
       "      <td>0.2467</td>\n",
       "      <td>0.3564</td>\n",
       "      <td>0.4459</td>\n",
       "      <td>...</td>\n",
       "      <td>0.0031</td>\n",
       "      <td>0.0054</td>\n",
       "      <td>0.0105</td>\n",
       "      <td>0.0110</td>\n",
       "      <td>0.0015</td>\n",
       "      <td>0.0072</td>\n",
       "      <td>0.0048</td>\n",
       "      <td>0.0107</td>\n",
       "      <td>0.0094</td>\n",
       "      <td>0</td>\n",
       "    </tr>\n",
       "  </tbody>\n",
       "</table>\n",
       "<p>5 rows × 61 columns</p>\n",
       "</div>"
      ],
      "text/plain": [
       "   feat_0  feat_1  feat_2  feat_3  feat_4  feat_5  feat_6  feat_7  feat_8  \\\n",
       "0  0.0200  0.0371  0.0428  0.0207  0.0954  0.0986  0.1539  0.1601  0.3109   \n",
       "1  0.0453  0.0523  0.0843  0.0689  0.1183  0.2583  0.2156  0.3481  0.3337   \n",
       "2  0.0262  0.0582  0.1099  0.1083  0.0974  0.2280  0.2431  0.3771  0.5598   \n",
       "3  0.0100  0.0171  0.0623  0.0205  0.0205  0.0368  0.1098  0.1276  0.0598   \n",
       "4  0.0762  0.0666  0.0481  0.0394  0.0590  0.0649  0.1209  0.2467  0.3564   \n",
       "\n",
       "   feat_9  ...  feat_51  feat_52  feat_53  feat_54  feat_55  feat_56  feat_57  \\\n",
       "0  0.2111  ...   0.0027   0.0065   0.0159   0.0072   0.0167   0.0180   0.0084   \n",
       "1  0.2872  ...   0.0084   0.0089   0.0048   0.0094   0.0191   0.0140   0.0049   \n",
       "2  0.6194  ...   0.0232   0.0166   0.0095   0.0180   0.0244   0.0316   0.0164   \n",
       "3  0.1264  ...   0.0121   0.0036   0.0150   0.0085   0.0073   0.0050   0.0044   \n",
       "4  0.4459  ...   0.0031   0.0054   0.0105   0.0110   0.0015   0.0072   0.0048   \n",
       "\n",
       "   feat_58  feat_59  target  \n",
       "0   0.0090   0.0032       0  \n",
       "1   0.0052   0.0044       0  \n",
       "2   0.0095   0.0078       0  \n",
       "3   0.0040   0.0117       0  \n",
       "4   0.0107   0.0094       0  \n",
       "\n",
       "[5 rows x 61 columns]"
      ]
     },
     "execution_count": 30,
     "metadata": {},
     "output_type": "execute_result"
    }
   ],
   "source": [
    "PATH = 'data/'\n",
    "df = pd.read_csv(PATH+'sonar-all-data.csv', header=None)\n",
    "df.columns = [f'feat_{col}' if col!=60 else 'target' for col in df.columns]\n",
    "df['target'] = df['target'].map({'M': 1, 'R': 0})\n",
    "df.head()"
   ]
  },
  {
   "cell_type": "markdown",
   "metadata": {},
   "source": [
    "# Split data (train and test)"
   ]
  },
  {
   "cell_type": "code",
   "execution_count": 5,
   "metadata": {
    "ExecuteTime": {
     "end_time": "2022-01-17T20:27:52.230836Z",
     "start_time": "2022-01-17T20:27:52.217831Z"
    }
   },
   "outputs": [],
   "source": [
    "X_train, X_test, y_train, y_test = train_test_split(df.drop(columns='target'), df['target'], test_size=0.2, random_state=RANDOM_STATE)"
   ]
  },
  {
   "cell_type": "markdown",
   "metadata": {},
   "source": [
    "# Homework part 1. Implementation of Random Forest Classifier."
   ]
  },
  {
   "cell_type": "markdown",
   "metadata": {},
   "source": [
    "## Splitting criteria"
   ]
  },
  {
   "cell_type": "markdown",
   "metadata": {},
   "source": [
    "**Task 1 - 2 points.** In this section you should implement two criteria for splitting of the feature space. Any of these can be used in the model."
   ]
  },
  {
   "cell_type": "markdown",
   "metadata": {},
   "source": [
    "### Gini index"
   ]
  },
  {
   "cell_type": "markdown",
   "metadata": {},
   "source": [
    "0.5 points for *gini_index* function"
   ]
  },
  {
   "cell_type": "code",
   "execution_count": 6,
   "metadata": {
    "ExecuteTime": {
     "end_time": "2022-01-17T20:27:52.246755Z",
     "start_time": "2022-01-17T20:27:52.231795Z"
    }
   },
   "outputs": [],
   "source": [
    "def gini_index(x):\n",
    "    \"\"\" Calculate Gini Index for a node\n",
    "    Args:\n",
    "        x: Numpy-array of targets in a node\n",
    "    Returns:\n",
    "        float: Gini index\n",
    "    \"\"\"    \n",
    "    if len(x) > 0:\n",
    "        p1 = sum(x) / len(x);\n",
    "        p2 = (len(x) - sum(x)) / len(x);\n",
    "        return 2*p1*p2;\n",
    "    return 0;"
   ]
  },
  {
   "cell_type": "code",
   "execution_count": 7,
   "metadata": {
    "ExecuteTime": {
     "end_time": "2022-01-17T20:27:52.372197Z",
     "start_time": "2022-01-17T20:27:52.248750Z"
    }
   },
   "outputs": [
    {
     "name": "stdout",
     "output_type": "stream",
     "text": [
      "\u001b[92m All good!\n"
     ]
    }
   ],
   "source": [
    "tests.test_gini_index(gini_index)"
   ]
  },
  {
   "cell_type": "markdown",
   "metadata": {},
   "source": [
    "0.5 points for *gini_gain* function"
   ]
  },
  {
   "cell_type": "code",
   "execution_count": 8,
   "metadata": {
    "ExecuteTime": {
     "end_time": "2022-01-17T20:27:52.374411Z",
     "start_time": "2022-01-17T20:27:51.226Z"
    }
   },
   "outputs": [],
   "source": [
    "def gini_gain(parent_node, splits):\n",
    "    \"\"\" Calculate Gini Gain for a particular split\n",
    "    Args:\n",
    "        parent_node: Numpy-array of targets in a parent node\n",
    "        splits: List of two numpy-arrays. Each numpy-array is targets in a child node\n",
    "    Returns:\n",
    "        float: Gini gain\n",
    "    \"\"\" \n",
    "    current_gini_gain = 0;\n",
    "    for item in splits:\n",
    "        current_gini_gain += gini_index(item) * len(item) / len (parent_node);\n",
    "  \n",
    "    return gini_index(parent_node) - current_gini_gain"
   ]
  },
  {
   "cell_type": "code",
   "execution_count": 9,
   "metadata": {
    "ExecuteTime": {
     "end_time": "2022-01-17T20:27:52.375408Z",
     "start_time": "2022-01-17T20:27:51.228Z"
    }
   },
   "outputs": [
    {
     "name": "stdout",
     "output_type": "stream",
     "text": [
      "\u001b[92m All good!\n"
     ]
    }
   ],
   "source": [
    "tests.test_gini_gain(gini_gain)"
   ]
  },
  {
   "cell_type": "markdown",
   "metadata": {},
   "source": [
    "### Entropy"
   ]
  },
  {
   "cell_type": "markdown",
   "metadata": {},
   "source": [
    "0.5 points for *entropy* function. WARNING! Use only natural logarithm np.log() for calculation."
   ]
  },
  {
   "cell_type": "code",
   "execution_count": 10,
   "metadata": {
    "ExecuteTime": {
     "end_time": "2022-01-17T20:27:52.376406Z",
     "start_time": "2022-01-17T20:27:51.230Z"
    }
   },
   "outputs": [],
   "source": [
    "def entropy(x):\n",
    "    \"\"\" Calculate Entropy for a node\n",
    "    Args:\n",
    "        x: Numpy-array of targets in a node\n",
    "    Returns:\n",
    "        float: Entropy\n",
    "    \"\"\"\n",
    "    # If you use vectorized operations on a vector of frequencies p\n",
    "    # where some of the relative frequencies may be 0, and you need to evaluate\n",
    "    # the expression p * np.log(p), you can use the \"where\" argument of the np.log() function.\n",
    "    # This will leave those elements of the array untouched by the function, \n",
    "    # thus evaluating x*log(x) as zero, exactly as we want it to be.\n",
    "    if len(x) > 0:\n",
    "        p1 = sum(x) / len(x);\n",
    "        p2 = (len(x) - sum(x)) / len(x);\n",
    "        if p1 == 1:\n",
    "            return 0;\n",
    "        if p2 == 1:\n",
    "            return 0;\n",
    "        return  - (p1*np.log(p1) + p2*np.log(p2));\n",
    "    return 0;"
   ]
  },
  {
   "cell_type": "code",
   "execution_count": 11,
   "metadata": {
    "ExecuteTime": {
     "end_time": "2022-01-17T20:27:52.376406Z",
     "start_time": "2022-01-17T20:27:51.233Z"
    }
   },
   "outputs": [
    {
     "name": "stdout",
     "output_type": "stream",
     "text": [
      "\u001b[92m All good!\n"
     ]
    }
   ],
   "source": [
    "tests.test_entropy(entropy)"
   ]
  },
  {
   "cell_type": "markdown",
   "metadata": {},
   "source": [
    "0.5 points for *information_gain* function"
   ]
  },
  {
   "cell_type": "code",
   "execution_count": 12,
   "metadata": {
    "ExecuteTime": {
     "end_time": "2022-01-17T20:27:52.377403Z",
     "start_time": "2022-01-17T20:27:51.234Z"
    }
   },
   "outputs": [],
   "source": [
    "def information_gain(parent_node, splits):\n",
    "    \"\"\" Calculate Information Gain for a particular split\n",
    "    Args:\n",
    "        parent_node: Numpy-array of targets in a parent node\n",
    "        splits: List of two numpy-arrays. Each numpy-array is targets in a child node\n",
    "    Returns:\n",
    "        float: Information Gain\n",
    "    \"\"\"     \n",
    "    current_gini_gain = 0;\n",
    "    for item in splits:\n",
    "        current_gini_gain += entropy(item) * len(item) / len (parent_node);\n",
    "  \n",
    "    return entropy(parent_node) - current_gini_gain"
   ]
  },
  {
   "cell_type": "code",
   "execution_count": 13,
   "metadata": {
    "ExecuteTime": {
     "end_time": "2022-01-17T20:27:52.378400Z",
     "start_time": "2022-01-17T20:27:51.236Z"
    }
   },
   "outputs": [
    {
     "name": "stdout",
     "output_type": "stream",
     "text": [
      "\u001b[92m All good!\n"
     ]
    }
   ],
   "source": [
    "tests.test_information_gain(information_gain)"
   ]
  },
  {
   "cell_type": "markdown",
   "metadata": {},
   "source": [
    "## Split function"
   ]
  },
  {
   "cell_type": "markdown",
   "metadata": {},
   "source": [
    "**Task 2 - 1 point** Implement *split_dataset* function. <br>\n",
    "The rows of the dataframe received by a tree node are split into two dataframes depending on their values in a selected column. Rows with values smaller than the chosen threshold are stored in the resulting left dataframe, and we save rows with values larger than the threshold in the right dataframe. The array with target values should be split in accordance with the feature dataframe."
   ]
  },
  {
   "cell_type": "code",
   "execution_count": 28,
   "metadata": {
    "ExecuteTime": {
     "end_time": "2022-01-17T20:27:52.379398Z",
     "start_time": "2022-01-17T20:27:51.239Z"
    }
   },
   "outputs": [],
   "source": [
    "def split(X, y, value):\n",
    "    \"\"\" Split y-values in order to calculate gain later\n",
    "    Args:\n",
    "        X: 1-dimensional numpy-array of data predictor with shape (N,)\n",
    "        y: 1-dimensional numpy-array of targets with shape (N,)\n",
    "        value (float): the value by which the X should be splitted\n",
    "    Returns:\n",
    "        Two 1-dimensional numpy-arrays with targets related to splits\n",
    "    \"\"\"      \n",
    "    left_mask = X < value\n",
    "    right_mask = X >= value\n",
    "    return y[left_mask], y[right_mask]\n",
    "\n",
    "\n",
    "def split_dataset(X, y, column, value):\n",
    "    \"\"\" Split dataset by a particular column and value\n",
    "    Args:\n",
    "        X: 2-dimensional numpy-array (N, num_feats). N-number of samples\n",
    "        y: 1-dimensional numpy-array of targets with shape (N,)  \n",
    "        column (int): the column by which the X should be splitted\n",
    "        value (float): the value by which the column should be splitted\n",
    "    Returns:\n",
    "        Two 2-dimensional numpy-arrays with data and two 1-dimensional numpy-arrays with targets related to splits\n",
    "        left_X, right_X, left_y, right_y\n",
    "    \"\"\"       \n",
    "    left_mask = X.T[column] < value\n",
    "    right_mask = X.T[column] >= value\n",
    "    left_y, right_y = y[left_mask], y[right_mask]\n",
    "    left_X, right_X = X[left_mask], X[right_mask]\n",
    "    return left_X, right_X, left_y, right_y"
   ]
  },
  {
   "cell_type": "code",
   "execution_count": 29,
   "metadata": {
    "ExecuteTime": {
     "end_time": "2022-01-17T20:27:52.380396Z",
     "start_time": "2022-01-17T20:27:51.240Z"
    }
   },
   "outputs": [
    {
     "name": "stdout",
     "output_type": "stream",
     "text": [
      "\u001b[92m All good!\n"
     ]
    }
   ],
   "source": [
    "tests.test_split_dataset(split_dataset)"
   ]
  },
  {
   "cell_type": "markdown",
   "metadata": {},
   "source": [
    "## Decision tree"
   ]
  },
  {
   "cell_type": "markdown",
   "metadata": {},
   "source": [
    "**Task 3 - 4.5 points** In the Tree class below you need to complete the *fit(), predict_row()* and *predict()* functions.<br>\n",
    "Each tree is basically a tree node that may have a left and a right child that are also trees. If a tree doesn't have any child nodes, we call it a leaf.<br>\n",
    "Since features for splitting a dataframe are chosen randomly, we need a mechanism to control this randomness to aquire reproducibility for testing purposes. In our case we use the [Random Generator](https://numpy.org/doc/stable/reference/random/generator.html)<br>\n",
    "By creation of a tree only the **criterion** and the **rng** fields are not filled with Nones, so each tree knows what criterion for dataframe splitting it should use. Each fitted tree knows as well by which column and value the split should be performed. If a tree is a leaf it doesn't have information about the split, but stores the predicted value."
   ]
  },
  {
   "cell_type": "code",
   "execution_count": 112,
   "metadata": {
    "ExecuteTime": {
     "end_time": "2022-01-17T22:03:37.866634Z",
     "start_time": "2022-01-17T22:03:37.816038Z"
    }
   },
   "outputs": [
    {
     "ename": "SyntaxError",
     "evalue": "invalid syntax (Temp/ipykernel_13464/3414965349.py, line 93)",
     "output_type": "error",
     "traceback": [
      "\u001b[1;36m  File \u001b[1;32m\"C:\\Users\\Anetta\\AppData\\Local\\Temp/ipykernel_13464/3414965349.py\"\u001b[1;36m, line \u001b[1;32m93\u001b[0m\n\u001b[1;33m    if gain is None or gain >= :\u001b[0m\n\u001b[1;37m                               ^\u001b[0m\n\u001b[1;31mSyntaxError\u001b[0m\u001b[1;31m:\u001b[0m invalid syntax\n"
     ]
    }
   ],
   "source": [
    "class Tree(object):\n",
    "    \"\"\"A decision tree classifier.\n",
    "\n",
    "    Args:\n",
    "        criterion : {\"gini\", \"entropy\"}, default=\"gini\"\n",
    "            The function to measure the quality of a split. Supported criteria are\n",
    "            \"gini\" for the Gini impurity and \"entropy\" for the information gain.\n",
    "        random_gen: numpy Random Generator object, default=None\n",
    "            Generator should be passed over for reproducible results. If None, \n",
    "            a new np.random.default_rng() will be created.\n",
    "    \"\"\"\n",
    "    def __init__(self, criterion='gini', random_gen=None):\n",
    "        if criterion not in [\"gini\", \"entropy\"]:\n",
    "            raise ValueError(f'Unknown criteria for splits {criterion}')\n",
    "        self.criterion = criterion\n",
    "        self.threshold = None           # value of the next split\n",
    "        self.column_index = None        # column to use for the next split\n",
    "        self.outcome_probs = None       # the predicted value if the tree is a leaf\n",
    "        self.left_child = None\n",
    "        self.right_child = None\n",
    "        self.rng = random_gen if random_gen is not None else np.random.default_rng()\n",
    "\n",
    "    @property\n",
    "    def is_terminal(self):\n",
    "        \"\"\"Define is it terminal node.\"\"\"          \n",
    "        return not bool(self.left_child and self.right_child)\n",
    "    \n",
    "    def _compute_gain(self, y, splits):\n",
    "        \"\"\"Compute split gain according to chosen criteria.\"\"\"\n",
    "        func = gini_gain if self.criterion == 'gini' else information_gain\n",
    "        return func(y, splits)\n",
    "\n",
    "    def _find_splits(self, X):\n",
    "        \"\"\"Find all possible split values.\"\"\"\n",
    "        split_values = set()\n",
    "\n",
    "        # Get unique values in a sorted order\n",
    "        x_unique = list(np.unique(X))\n",
    "        for i in range(1, len(x_unique)):\n",
    "            # Find a point between two values\n",
    "            average = (x_unique[i - 1] + x_unique[i]) / 2.0\n",
    "            split_values.add(average)\n",
    "\n",
    "        return list(split_values)\n",
    "\n",
    "    def _find_best_split(self, X, y, n_features):\n",
    "        \"\"\"Find best feature and value for a split. Greedy algorithm.\"\"\"\n",
    "        # Sample random subset of features\n",
    "        subset = self.rng.choice(list(range(0, X.shape[1])), n_features, replace=False)\n",
    "\n",
    "        max_gain, max_col, max_val = None, None, None\n",
    "\n",
    "        for column in subset:\n",
    "            split_values = self._find_splits(X[:, column])\n",
    "            for value in split_values:\n",
    "                splits = split(X[:, column], y, value)\n",
    "                gain = self._compute_gain(y, splits)\n",
    "\n",
    "                if (max_gain is None) or (gain > max_gain):\n",
    "                    max_col, max_val, max_gain = column, value, gain\n",
    "        return max_col, max_val, max_gain\n",
    "    \n",
    "    def _compute_outcome(self, y):\n",
    "        \"\"\"Save outcome probabilities for the leaf.\"\"\"\n",
    "        self.outcome_probs = np.around(np.sum(y) / y.shape[0])\n",
    "\n",
    "    def fit(self, X, y, feature_frac=1.0, max_depth=None):\n",
    "        \"\"\"Fit model.\n",
    "\n",
    "        Args:\n",
    "            X (numpy-array):      The training input samples. 2-dimensional numpy array.\n",
    "            y (numpy-array):      The target values. 1-dimensional numpy array.\n",
    "            feature_frac (float): The fraction of features to use when fit is performed. Must be \n",
    "                                  between 0.0 and 1.0 (default: 1.0, i.e. all features).\n",
    "            max_depth (int):      The maximum depth of the tree. If None, then nodes are expanded\n",
    "                                  until all leaves are pure.\n",
    "        \"\"\"\n",
    "        # 3 points\n",
    "        \n",
    "        # Make this tree a leaf and return if max_depth doesn't allow it to grow further\n",
    "        if max_depth is not None and max_depth >=0:\n",
    "            depth_cond = False\n",
    "        \n",
    "        if not 0.0 <= feature_frac <= 1.0:\n",
    "            raise ValueError('feature_frac must lie between 0.0 and 1.0')\n",
    "        # Compute the number of features to use. Should be integer number\n",
    "        n_features = int(X.shape[1])\n",
    "        \n",
    "        # Find the next split    \n",
    "        column, value, gain = self._find_best_split(X, y, n_features)\n",
    "        \n",
    "        # Make this tree a leaf and return if the split doesn't bring any gain\n",
    "        if gain is None or gain >= :\n",
    "            pass\n",
    "        \n",
    "        # Save the necessary information about the next split\n",
    "        pass\n",
    "        \n",
    "        # Reduce the max_depth parameter for the next tree\n",
    "        if max_depth is not None:\n",
    "            pass\n",
    "\n",
    "        # Split dataset\n",
    "        left_X, right_X, left_target, right_target = None\n",
    "\n",
    "        # Grow left and right child. Pass over the parent's random generator\n",
    "        # for reproducible results \n",
    "        self.left_child = None\n",
    "        pass\n",
    "\n",
    "        self.right_child = None\n",
    "        pass\n",
    "\n",
    "    def predict_row(self, row):\n",
    "        \"\"\"Predict single row.\"\"\"\n",
    "        # 0.5 points\n",
    "        \n",
    "        if not self.is_terminal:\n",
    "            # Use the stored information about the split to define \n",
    "            # if the right or the left child to use\n",
    "            if row[None] < None:\n",
    "                pass\n",
    "            else:\n",
    "                pass\n",
    "        return None\n",
    "\n",
    "    def predict(self, X):\n",
    "        \"\"\"Make predictions.\n",
    "\n",
    "        Args:\n",
    "            X (numpy-array): The test input samples. 2-dimensional numpy array.\n",
    "        Returns:\n",
    "            1-dimensional numpy-array with predictions     \n",
    "        \"\"\" \n",
    "        # 1 point\n",
    "\n",
    "        # Create a numpy array of zeros of necessary length to save predictions\n",
    "        result = []\n",
    "        # Go through all rows of the dataset\n",
    "        for i in range(X.shape[0]):\n",
    "            # Save the prediction for the current row\n",
    "            \n",
    "        return (np.array(result).flatten())"
   ]
  },
  {
   "cell_type": "code",
   "execution_count": null,
   "metadata": {
    "ExecuteTime": {
     "end_time": "2022-01-17T20:27:52.381392Z",
     "start_time": "2022-01-17T20:27:51.244Z"
    }
   },
   "outputs": [],
   "source": [
    "tests.test_tree(Tree)"
   ]
  },
  {
   "cell_type": "markdown",
   "metadata": {},
   "source": [
    "**Task 4 - 1 point** Fit two models with \"max_depth=3\" and \"max_depth=None\" hyperparameters. **Explain** the results."
   ]
  },
  {
   "cell_type": "code",
   "execution_count": null,
   "metadata": {
    "ExecuteTime": {
     "end_time": "2022-01-17T20:27:52.382390Z",
     "start_time": "2022-01-17T20:27:51.246Z"
    }
   },
   "outputs": [],
   "source": [
    "# Your code here"
   ]
  },
  {
   "cell_type": "code",
   "execution_count": null,
   "metadata": {
    "ExecuteTime": {
     "end_time": "2022-01-17T20:27:52.383389Z",
     "start_time": "2022-01-17T20:27:51.248Z"
    }
   },
   "outputs": [],
   "source": [
    "# Your code here"
   ]
  },
  {
   "cell_type": "code",
   "execution_count": null,
   "metadata": {
    "ExecuteTime": {
     "end_time": "2022-01-17T20:27:52.384384Z",
     "start_time": "2022-01-17T20:27:51.249Z"
    }
   },
   "outputs": [],
   "source": [
    "def plot_metrics_on_depths(criterion='gini'):\n",
    "    max_depths, train_scores, test_scores = [], [], []\n",
    "    for max_depth in range(0, 8):\n",
    "        max_depths.append(max_depth)\n",
    "        model = Tree(criterion=criterion)\n",
    "        model.fit(X_train.values, y_train.values, max_depth=max_depth)\n",
    "        train_scores.append(accuracy_score(y_train, model.predict(X_train.values)))\n",
    "        y_pred = model.predict(X_test.values)\n",
    "        test_scores.append(accuracy_score(y_test, y_pred))\n",
    "    res_metrics = pd.DataFrame(data={'train': train_scores, 'test': test_scores}, index=max_depths)\n",
    "    sns.set(rc={'figure.figsize':(16, 6)})\n",
    "    plt.plot(res_metrics['train'], label='train score')\n",
    "    plt.plot(res_metrics['test'], label='test score')\n",
    "    plt.title(\"Accuracy as a function of max_depth\")\n",
    "    plt.xlabel('max_depth')\n",
    "    plt.ylabel('accuracy')\n",
    "    plt.legend()\n",
    "    plt.show();"
   ]
  },
  {
   "cell_type": "code",
   "execution_count": null,
   "metadata": {
    "ExecuteTime": {
     "end_time": "2022-01-17T20:27:52.384384Z",
     "start_time": "2022-01-17T20:27:51.250Z"
    }
   },
   "outputs": [],
   "source": [
    "plot_metrics_on_depths('gini')"
   ]
  },
  {
   "cell_type": "code",
   "execution_count": null,
   "metadata": {
    "ExecuteTime": {
     "end_time": "2022-01-17T20:27:52.385383Z",
     "start_time": "2022-01-17T20:27:51.252Z"
    }
   },
   "outputs": [],
   "source": [
    "plot_metrics_on_depths('entropy')"
   ]
  },
  {
   "cell_type": "markdown",
   "metadata": {},
   "source": [
    "## Random forest"
   ]
  },
  {
   "cell_type": "markdown",
   "metadata": {},
   "source": [
    "**Task 5 - 1.5 Points** In the RandomForestClassifier class below you need to complete the *fit* and *predict()* functions"
   ]
  },
  {
   "cell_type": "code",
   "execution_count": null,
   "metadata": {
    "ExecuteTime": {
     "end_time": "2022-01-17T22:16:11.657659Z",
     "start_time": "2022-01-17T22:16:11.627802Z"
    }
   },
   "outputs": [],
   "source": [
    "class RandomForestClassifier(object):\n",
    "    \"\"\"\n",
    "    A random forest classifier.\n",
    "    A random forest is a meta estimator that fits a number of decision tree\n",
    "    classifiers on various sub-samples of the dataset and uses averaging to\n",
    "    improve the predictive accuracy and control overfitting.\n",
    "    \n",
    "    Args:\n",
    "        n_estimators : int, default=10\n",
    "            The number of trees in the forest.\n",
    "\n",
    "        max_depth : int, default=None\n",
    "            The maximum depth of the tree. If None, then nodes are expanded until\n",
    "            all leaves are pure.        \n",
    "\n",
    "        feature_frac : float, default=None\n",
    "            The fraction of features to use when looking for the best split. Must be \n",
    "            between 0.0 and 1.0. If None, then `feature_frac = 1 / sqrt(n_features)`.\n",
    "\n",
    "        criterion : {\"gini\", \"entropy\"}, default=\"gini\"\n",
    "            The function to measure the quality of a split. Supported criteria are\n",
    "            \"gini\" for the Gini impurity and \"entropy\" for the information gain.\n",
    "            \n",
    "        random_gen: numpy Random Generator object, default=None\n",
    "            Generator should be passed over for reproducible results. If None, \n",
    "            a new np.random.default_rng() will be created.\n",
    "    \"\"\"\n",
    "\n",
    "    def __init__(self, n_estimators=10, max_depth=None, feature_frac=None, \n",
    "                 criterion=\"entropy\", bootstrap=True, random_gen=None):\n",
    "        self.n_estimators = n_estimators\n",
    "        self.max_depth = max_depth\n",
    "        self.bootstrap = bootstrap\n",
    "        self.feature_frac = feature_frac\n",
    "        \n",
    "        if criterion not in [\"gini\", \"entropy\"]:\n",
    "            raise ValueError(f'Unknown criteria for splits {criterion}')\n",
    "        self.criterion = criterion\n",
    "        \n",
    "        self.rng = random_gen if random_gen is not None else np.random.default_rng()\n",
    "        self.trees = [Tree(criterion=self.criterion, random_gen=self.rng) \n",
    "                            for _ in range(n_estimators)]\n",
    "        \n",
    "    def _init_data(self, X, y):\n",
    "        \"\"\"Ensure data are in the expected format.\n",
    "        Ensures X and y are stored as numpy ndarrays by converting from an\n",
    "        array-like object if necessary. \n",
    "        Parameters\n",
    "        Args:\n",
    "            X : array-like\n",
    "                Feature dataset.\n",
    "            y : array-like, default=None\n",
    "                Target values. By default is required, but if y_required = false\n",
    "                then may be omitted.\n",
    "        \"\"\"\n",
    "        self.size = len(X)\n",
    "        \n",
    "        if not isinstance(X, np.ndarray):\n",
    "            self.X = np.array(X)\n",
    "        else:\n",
    "            self.X = X\n",
    "\n",
    "        if not isinstance(y, np.ndarray):\n",
    "            self.y = np.array(y)\n",
    "        else:\n",
    "            self.y = y\n",
    "            \n",
    "    def bootstrap_data(self, size):\n",
    "        return self.rng.integers(size, size=size)\n",
    "    \n",
    "    def fit(self, X, y):\n",
    "        \"\"\"Fit model.\n",
    "\n",
    "        Args:\n",
    "            X (numpy-array): The training input samples. 2-dimensional numpy array.\n",
    "            y (numpy-array): The target values. 1-dimensional numpy array.\n",
    "        \"\"\"\n",
    "        # 0.5 points\n",
    "        \n",
    "        if self.feature_frac is None:\n",
    "            self.feature_frac = 1 / np.sqrt(X.shape[1])\n",
    "        elif not 0.0 <= self.feature_frac <= 1.0:\n",
    "            raise ValueError('feature_frac must lie between 0.0 and 1.0')\n",
    "            \n",
    "        self._init_data(X, y)\n",
    "        \n",
    "        # Iterate over all trees in the forest\n",
    "        for tree in None:\n",
    "            if self.bootstrap:\n",
    "                idxs = self.bootstrap_data(self.size)\n",
    "                X = self.X[idxs]\n",
    "                y = self.y[idxs]\n",
    "            else:\n",
    "                X = self.X\n",
    "                y = self.y\n",
    "                \n",
    "            # Fit the tree    \n",
    "            pass\n",
    "            \n",
    "    def predict(self, X):\n",
    "        \"\"\"Make predictions.\n",
    "\n",
    "        Args:\n",
    "            X (numpy-array): The test data input samples. 2-dimensional numpy array.\n",
    "        \"\"\"\n",
    "        # 1 point\n",
    "        \n",
    "        if not isinstance(X, np.ndarray):\n",
    "            X = np.array(X)\n",
    "\n",
    "        if self.X is not None:\n",
    "            # Create a numpy array of zeros of necessary length\n",
    "            predictions = None\n",
    "            # Go through all rows of the dataset\n",
    "            for i in None:\n",
    "                # Initialize a counter for voting\n",
    "                row_pred = None\n",
    "                # Sum up predictions from all the voters\n",
    "                for tree in None:\n",
    "                    pass\n",
    "                # Compute the mean of the votes    \n",
    "                row_pred = None\n",
    "                # Save the rounded value as the prediction for the current row\n",
    "                pass\n",
    "            return predictions  \n",
    "        else:\n",
    "            raise ValueError(\"You should fit a model before `predict`\")"
   ]
  },
  {
   "cell_type": "code",
   "execution_count": null,
   "metadata": {
    "ExecuteTime": {
     "end_time": "2022-01-17T20:27:52.387491Z",
     "start_time": "2022-01-17T20:27:51.255Z"
    }
   },
   "outputs": [],
   "source": [
    "tests.test_random_forest(RandomForestClassifier)"
   ]
  },
  {
   "cell_type": "markdown",
   "metadata": {},
   "source": [
    "**Task 6 - 1 Point** Fit two models with \"n_estimators=10\" and \"n_estimators=100\" hyperparameters. **Explain** the results."
   ]
  },
  {
   "cell_type": "code",
   "execution_count": null,
   "metadata": {
    "ExecuteTime": {
     "end_time": "2022-01-17T20:27:52.388380Z",
     "start_time": "2022-01-17T20:27:51.257Z"
    }
   },
   "outputs": [],
   "source": [
    "# Your code here"
   ]
  },
  {
   "cell_type": "code",
   "execution_count": null,
   "metadata": {
    "ExecuteTime": {
     "end_time": "2022-01-17T20:27:52.389380Z",
     "start_time": "2022-01-17T20:27:51.259Z"
    }
   },
   "outputs": [],
   "source": [
    "# Your code here"
   ]
  },
  {
   "cell_type": "markdown",
   "metadata": {},
   "source": [
    "Now it's your turn to explore the various parameters of RandomForestClassifier and their influence on model quality."
   ]
  },
  {
   "cell_type": "markdown",
   "metadata": {},
   "source": [
    "# Homework part 2. Random Forest in action"
   ]
  },
  {
   "cell_type": "markdown",
   "metadata": {},
   "source": [
    "_Note_: Consider **accuracy** as main metric of model performance on this dataset."
   ]
  },
  {
   "cell_type": "markdown",
   "metadata": {},
   "source": [
    "_Note_: For tasks 1 to 5 please use your custom RandomForestClassifier if it is completed."
   ]
  },
  {
   "cell_type": "markdown",
   "metadata": {},
   "source": [
    "**Task 1 (0.5 points)** Split the dataset into train, test and validation parts (0.6 / 0.2 / 0.2). First two will be used for model hyperparameter tuning whereas the best model quality should be evaluated on validation part."
   ]
  },
  {
   "cell_type": "code",
   "execution_count": 31,
   "metadata": {
    "ExecuteTime": {
     "end_time": "2022-01-17T20:27:52.390375Z",
     "start_time": "2022-01-17T20:27:51.261Z"
    }
   },
   "outputs": [],
   "source": [
    "# Your code here"
   ]
  },
  {
   "cell_type": "code",
   "execution_count": 32,
   "metadata": {},
   "outputs": [],
   "source": [
    "train, validation, test = np.split(df.sample(frac=1), [int(.6*len(df)), int(.8*len(df))])"
   ]
  },
  {
   "cell_type": "code",
   "execution_count": 41,
   "metadata": {},
   "outputs": [
    {
     "name": "stdout",
     "output_type": "stream",
     "text": [
      "208 124.8 41.6\n"
     ]
    }
   ],
   "source": [
    "print(len(df), len(df)*0.6, len(df)*0.2)"
   ]
  },
  {
   "cell_type": "code",
   "execution_count": 44,
   "metadata": {},
   "outputs": [
    {
     "name": "stdout",
     "output_type": "stream",
     "text": [
      "208 124 42 42\n"
     ]
    }
   ],
   "source": [
    "print(len(test)+len(validation)+len(train), len(train), len(test), len(validation))"
   ]
  },
  {
   "cell_type": "code",
   "execution_count": 45,
   "metadata": {},
   "outputs": [],
   "source": [
    "y_train = train['target']"
   ]
  },
  {
   "cell_type": "code",
   "execution_count": 48,
   "metadata": {},
   "outputs": [],
   "source": [
    "X_train = train.drop(['target'], axis=1)"
   ]
  },
  {
   "cell_type": "code",
   "execution_count": 49,
   "metadata": {},
   "outputs": [],
   "source": [
    "y_validation = validation['target']"
   ]
  },
  {
   "cell_type": "code",
   "execution_count": 50,
   "metadata": {},
   "outputs": [],
   "source": [
    "X_validation = validation.drop(['target'], axis=1)"
   ]
  },
  {
   "cell_type": "code",
   "execution_count": 51,
   "metadata": {},
   "outputs": [],
   "source": [
    "y_test = test['target']"
   ]
  },
  {
   "cell_type": "code",
   "execution_count": 52,
   "metadata": {},
   "outputs": [],
   "source": [
    "X_test = test.drop(['target'], axis=1)"
   ]
  },
  {
   "cell_type": "markdown",
   "metadata": {},
   "source": [
    "### Grid Search and Random Search"
   ]
  },
  {
   "cell_type": "markdown",
   "metadata": {},
   "source": [
    "If you have enough computational power for model training in a reasonable amount of time more sophisticated approach of hyperparameter tuning would be either Grid Search or Random Search.<br>\n",
    "\n",
    "In a nutshell Grid Search allows you to pass through all different combinations of given model parameters and their values and choose the best combination. Whereas Random Search would randomly choose values for given model parameters and evaluate them on test data untill it reaches the specified number of iterations.<br>\n",
    "\n",
    "More information here [Gentle introduction to Grid and Random search](https://medium.com/@senapati.dipak97/grid-search-vs-random-search-d34c92946318) and here [Detailed Explanation with code examples](https://machinelearningmastery.com/hyperparameter-optimization-with-random-search-and-grid-search/)."
   ]
  },
  {
   "attachments": {
    "grid_random_search.png": {
     "image/png": "[encoded data removed]"
    }
   },
   "cell_type": "markdown",
   "metadata": {},
   "source": [
    "![grid_random_search.png](attachment:grid_random_search.png)"
   ]
  },
  {
   "cell_type": "markdown",
   "metadata": {
    "ExecuteTime": {
     "end_time": "2022-01-17T10:10:45.984304Z",
     "start_time": "2022-01-17T10:10:45.969369Z"
    }
   },
   "source": [
    "**Task 3 (1 point)**. Compare your previous results with [GridSearch](https://scikit-learn.org/stable/modules/generated/sklearn.model_selection.GridSearchCV.html) hyperparameter tuning. You may tune best hyperparameters for forest with several trees and then increase it while measure the quality on validation dataset."
   ]
  },
  {
   "cell_type": "code",
   "execution_count": 59,
   "metadata": {
    "ExecuteTime": {
     "end_time": "2022-01-17T20:27:52.391365Z",
     "start_time": "2022-01-17T20:27:51.265Z"
    }
   },
   "outputs": [],
   "source": [
    "# Your code here\n",
    "from sklearn.ensemble import RandomForestClassifier\n",
    "from sklearn import metrics\n",
    "from sklearn.model_selection import cross_validate"
   ]
  },
  {
   "cell_type": "code",
   "execution_count": 58,
   "metadata": {},
   "outputs": [
    {
     "name": "stdout",
     "output_type": "stream",
     "text": [
      "Accuracy: 0.8095238095238095\n"
     ]
    }
   ],
   "source": [
    "clf=RandomForestClassifier(n_estimators=100);\n",
    "clf.fit(X_train,y_train);\n",
    "y_pred=clf.predict(X_test);\n",
    "print(\"Accuracy:\",metrics.accuracy_score(y_test, y_pred))"
   ]
  },
  {
   "cell_type": "code",
   "execution_count": null,
   "metadata": {},
   "outputs": [],
   "source": []
  },
  {
   "cell_type": "markdown",
   "metadata": {},
   "source": [
    "**Task 4 (1 point)**. And finally tune forest hyperparameters with [RandomSearch](https://scikit-learn.org/stable/modules/generated/sklearn.model_selection.RandomizedSearchCV.html). Compare results to previous attempts."
   ]
  },
  {
   "cell_type": "code",
   "execution_count": null,
   "metadata": {
    "ExecuteTime": {
     "end_time": "2022-01-17T20:27:52.392364Z",
     "start_time": "2022-01-17T20:27:51.266Z"
    }
   },
   "outputs": [],
   "source": [
    "# Your code here"
   ]
  },
  {
   "cell_type": "markdown",
   "metadata": {},
   "source": [
    "**Task 5 (0.5 points)**. Tell us about your experience in hyperparameter tuning with the approaches above. What do you think would be the best option for this task and why?"
   ]
  },
  {
   "cell_type": "markdown",
   "metadata": {},
   "source": [
    "Your cool ideas here..."
   ]
  },
  {
   "cell_type": "markdown",
   "metadata": {},
   "source": [
    "### Desicion tree explained"
   ]
  },
  {
   "cell_type": "markdown",
   "metadata": {},
   "source": [
    "Remember the [Titanic](https://www.kaggle.com/c/titanic) competition from last week? Wouldn't be a good idea to visualize one of possible desicion-making processes of _survived_ / _dead_ labeling?"
   ]
  },
  {
   "cell_type": "markdown",
   "metadata": {},
   "source": [
    "**Task 6 (1 point)**. Load titanic dataset, split it into train/test parts, apply simple hyperparameter tuning of [DesicionTreeClassifier](https://scikit-learn.org/stable/modules/generated/sklearn.tree.DecisionTreeClassifier.html) (use one of the approaches above) in order to have **test accuracy more than 0.65**. <br>\n",
    "\n",
    "Draw the best tree decision making process. You may use [sklearn.tree.prot_tree](https://scikit-learn.org/stable/modules/generated/sklearn.tree.plot_tree.html).<br>"
   ]
  },
  {
   "cell_type": "code",
   "execution_count": 61,
   "metadata": {
    "ExecuteTime": {
     "end_time": "2022-01-17T20:27:52.393362Z",
     "start_time": "2022-01-17T20:27:51.269Z"
    }
   },
   "outputs": [
    {
     "data": {
      "text/html": [
       "<div>\n",
       "<style scoped>\n",
       "    .dataframe tbody tr th:only-of-type {\n",
       "        vertical-align: middle;\n",
       "    }\n",
       "\n",
       "    .dataframe tbody tr th {\n",
       "        vertical-align: top;\n",
       "    }\n",
       "\n",
       "    .dataframe thead th {\n",
       "        text-align: right;\n",
       "    }\n",
       "</style>\n",
       "<table border=\"1\" class=\"dataframe\">\n",
       "  <thead>\n",
       "    <tr style=\"text-align: right;\">\n",
       "      <th></th>\n",
       "      <th>PassengerId</th>\n",
       "      <th>Survived</th>\n",
       "      <th>Pclass</th>\n",
       "      <th>Name</th>\n",
       "      <th>Sex</th>\n",
       "      <th>Age</th>\n",
       "      <th>SibSp</th>\n",
       "      <th>Parch</th>\n",
       "      <th>Ticket</th>\n",
       "      <th>Fare</th>\n",
       "      <th>Cabin</th>\n",
       "      <th>Embarked</th>\n",
       "    </tr>\n",
       "  </thead>\n",
       "  <tbody>\n",
       "    <tr>\n",
       "      <th>0</th>\n",
       "      <td>0</td>\n",
       "      <td>1</td>\n",
       "      <td>1</td>\n",
       "      <td>Oconnor, Frankie</td>\n",
       "      <td>male</td>\n",
       "      <td>NaN</td>\n",
       "      <td>2</td>\n",
       "      <td>0</td>\n",
       "      <td>209245</td>\n",
       "      <td>27.14</td>\n",
       "      <td>C12239</td>\n",
       "      <td>S</td>\n",
       "    </tr>\n",
       "    <tr>\n",
       "      <th>1</th>\n",
       "      <td>1</td>\n",
       "      <td>0</td>\n",
       "      <td>3</td>\n",
       "      <td>Bryan, Drew</td>\n",
       "      <td>male</td>\n",
       "      <td>NaN</td>\n",
       "      <td>0</td>\n",
       "      <td>0</td>\n",
       "      <td>27323</td>\n",
       "      <td>13.35</td>\n",
       "      <td>NaN</td>\n",
       "      <td>S</td>\n",
       "    </tr>\n",
       "    <tr>\n",
       "      <th>2</th>\n",
       "      <td>2</td>\n",
       "      <td>0</td>\n",
       "      <td>3</td>\n",
       "      <td>Owens, Kenneth</td>\n",
       "      <td>male</td>\n",
       "      <td>0.33</td>\n",
       "      <td>1</td>\n",
       "      <td>2</td>\n",
       "      <td>CA 457703</td>\n",
       "      <td>71.29</td>\n",
       "      <td>NaN</td>\n",
       "      <td>S</td>\n",
       "    </tr>\n",
       "    <tr>\n",
       "      <th>3</th>\n",
       "      <td>3</td>\n",
       "      <td>0</td>\n",
       "      <td>3</td>\n",
       "      <td>Kramer, James</td>\n",
       "      <td>male</td>\n",
       "      <td>19.00</td>\n",
       "      <td>0</td>\n",
       "      <td>0</td>\n",
       "      <td>A. 10866</td>\n",
       "      <td>13.04</td>\n",
       "      <td>NaN</td>\n",
       "      <td>S</td>\n",
       "    </tr>\n",
       "    <tr>\n",
       "      <th>4</th>\n",
       "      <td>4</td>\n",
       "      <td>1</td>\n",
       "      <td>3</td>\n",
       "      <td>Bond, Michael</td>\n",
       "      <td>male</td>\n",
       "      <td>25.00</td>\n",
       "      <td>0</td>\n",
       "      <td>0</td>\n",
       "      <td>427635</td>\n",
       "      <td>7.76</td>\n",
       "      <td>NaN</td>\n",
       "      <td>S</td>\n",
       "    </tr>\n",
       "  </tbody>\n",
       "</table>\n",
       "</div>"
      ],
      "text/plain": [
       "   PassengerId  Survived  Pclass              Name   Sex    Age  SibSp  Parch  \\\n",
       "0            0         1       1  Oconnor, Frankie  male    NaN      2      0   \n",
       "1            1         0       3       Bryan, Drew  male    NaN      0      0   \n",
       "2            2         0       3    Owens, Kenneth  male   0.33      1      2   \n",
       "3            3         0       3     Kramer, James  male  19.00      0      0   \n",
       "4            4         1       3     Bond, Michael  male  25.00      0      0   \n",
       "\n",
       "      Ticket   Fare   Cabin Embarked  \n",
       "0     209245  27.14  C12239        S  \n",
       "1      27323  13.35     NaN        S  \n",
       "2  CA 457703  71.29     NaN        S  \n",
       "3   A. 10866  13.04     NaN        S  \n",
       "4     427635   7.76     NaN        S  "
      ]
     },
     "execution_count": 61,
     "metadata": {},
     "output_type": "execute_result"
    }
   ],
   "source": [
    "from sklearn.tree import DecisionTreeClassifier\n",
    "\n",
    "# your code here\n",
    "data = pd.read_csv('train.csv');\n",
    "data.head()"
   ]
  },
  {
   "cell_type": "code",
   "execution_count": 62,
   "metadata": {},
   "outputs": [],
   "source": [
    "data['Sex'].replace({'male': 0, 'female': 1},inplace=True)\n",
    "data['Embarked'].replace({'C': 0, 'Q': 1, 'S': 2},inplace=True)"
   ]
  },
  {
   "cell_type": "code",
   "execution_count": 67,
   "metadata": {},
   "outputs": [],
   "source": [
    "data = data.drop(['PassengerId', 'Name', 'Ticket', 'Cabin'], axis=1);"
   ]
  },
  {
   "cell_type": "code",
   "execution_count": 71,
   "metadata": {},
   "outputs": [],
   "source": [
    "data = data.dropna()"
   ]
  },
  {
   "cell_type": "code",
   "execution_count": 74,
   "metadata": {},
   "outputs": [],
   "source": [
    "conditions = [\n",
    "    (data['Age'] <= 3),\n",
    "    (data['Age'] > 3) & (data['Age'] <= 7),\n",
    "    (data['Age'] > 7) & (data['Age'] <= 13),\n",
    "    (data['Age'] > 13) & (data['Age'] <= 18),\n",
    "    (data['Age'] > 18) & (data['Age'] <= 44),\n",
    "    (data['Age'] > 44) & (data['Age'] <= 59),\n",
    "    (data['Age'] > 59) & (data['Age'] <= 75),\n",
    "    (data['Age'] > 75)\n",
    "    ]\n",
    "\n",
    "#values = ['baby', 'child', 'schoolboy', 'teenager', 'young', 'adult', 'elderly', 'old']\n",
    "values = ['1', '2', '3', '4', '5', '6', '7', '8']\n",
    "\n",
    "data['Age_range'] = np.select(conditions, values)"
   ]
  },
  {
   "cell_type": "code",
   "execution_count": null,
   "metadata": {},
   "outputs": [],
   "source": [
    "data = data.drop(['Age'], axis=1);"
   ]
  },
  {
   "cell_type": "code",
   "execution_count": 78,
   "metadata": {},
   "outputs": [
    {
     "data": {
      "text/html": [
       "<div>\n",
       "<style scoped>\n",
       "    .dataframe tbody tr th:only-of-type {\n",
       "        vertical-align: middle;\n",
       "    }\n",
       "\n",
       "    .dataframe tbody tr th {\n",
       "        vertical-align: top;\n",
       "    }\n",
       "\n",
       "    .dataframe thead th {\n",
       "        text-align: right;\n",
       "    }\n",
       "</style>\n",
       "<table border=\"1\" class=\"dataframe\">\n",
       "  <thead>\n",
       "    <tr style=\"text-align: right;\">\n",
       "      <th></th>\n",
       "      <th>Survived</th>\n",
       "      <th>Pclass</th>\n",
       "      <th>Sex</th>\n",
       "      <th>SibSp</th>\n",
       "      <th>Parch</th>\n",
       "      <th>Fare</th>\n",
       "      <th>Embarked</th>\n",
       "      <th>Age_range</th>\n",
       "    </tr>\n",
       "  </thead>\n",
       "  <tbody>\n",
       "    <tr>\n",
       "      <th>2</th>\n",
       "      <td>0</td>\n",
       "      <td>3</td>\n",
       "      <td>0</td>\n",
       "      <td>1</td>\n",
       "      <td>2</td>\n",
       "      <td>71.29</td>\n",
       "      <td>2.0</td>\n",
       "      <td>1</td>\n",
       "    </tr>\n",
       "    <tr>\n",
       "      <th>3</th>\n",
       "      <td>0</td>\n",
       "      <td>3</td>\n",
       "      <td>0</td>\n",
       "      <td>0</td>\n",
       "      <td>0</td>\n",
       "      <td>13.04</td>\n",
       "      <td>2.0</td>\n",
       "      <td>5</td>\n",
       "    </tr>\n",
       "    <tr>\n",
       "      <th>4</th>\n",
       "      <td>1</td>\n",
       "      <td>3</td>\n",
       "      <td>0</td>\n",
       "      <td>0</td>\n",
       "      <td>0</td>\n",
       "      <td>7.76</td>\n",
       "      <td>2.0</td>\n",
       "      <td>5</td>\n",
       "    </tr>\n",
       "    <tr>\n",
       "      <th>5</th>\n",
       "      <td>0</td>\n",
       "      <td>2</td>\n",
       "      <td>0</td>\n",
       "      <td>0</td>\n",
       "      <td>0</td>\n",
       "      <td>6.71</td>\n",
       "      <td>2.0</td>\n",
       "      <td>5</td>\n",
       "    </tr>\n",
       "    <tr>\n",
       "      <th>6</th>\n",
       "      <td>0</td>\n",
       "      <td>3</td>\n",
       "      <td>0</td>\n",
       "      <td>0</td>\n",
       "      <td>0</td>\n",
       "      <td>9.77</td>\n",
       "      <td>2.0</td>\n",
       "      <td>2</td>\n",
       "    </tr>\n",
       "  </tbody>\n",
       "</table>\n",
       "</div>"
      ],
      "text/plain": [
       "   Survived  Pclass  Sex  SibSp  Parch   Fare  Embarked Age_range\n",
       "2         0       3    0      1      2  71.29       2.0         1\n",
       "3         0       3    0      0      0  13.04       2.0         5\n",
       "4         1       3    0      0      0   7.76       2.0         5\n",
       "5         0       2    0      0      0   6.71       2.0         5\n",
       "6         0       3    0      0      0   9.77       2.0         2"
      ]
     },
     "execution_count": 78,
     "metadata": {},
     "output_type": "execute_result"
    }
   ],
   "source": [
    "data.head()"
   ]
  },
  {
   "cell_type": "code",
   "execution_count": 94,
   "metadata": {},
   "outputs": [
    {
     "data": {
      "text/plain": [
       "Survived\n",
       "0    AxesSubplot(0.125,0.125;0.775x0.755)\n",
       "1    AxesSubplot(0.125,0.125;0.775x0.755)\n",
       "Name: Fare, dtype: object"
      ]
     },
     "execution_count": 94,
     "metadata": {},
     "output_type": "execute_result"
    },
    {
     "data": {
      "image/png": "[encoded data removed]",
      "text/plain": [
       "<Figure size 432x288 with 1 Axes>"
      ]
     },
     "metadata": {
      "needs_background": "light"
     },
     "output_type": "display_data"
    }
   ],
   "source": [
    "(data[data['Fare'] < 100]).groupby('Survived').Fare.hist(legend=True, alpha=0.5)"
   ]
  },
  {
   "cell_type": "code",
   "execution_count": 91,
   "metadata": {},
   "outputs": [
    {
     "data": {
      "text/plain": [
       "Survived\n",
       "0    AxesSubplot(0.125,0.125;0.775x0.755)\n",
       "1    AxesSubplot(0.125,0.125;0.775x0.755)\n",
       "Name: Fare, dtype: object"
      ]
     },
     "execution_count": 91,
     "metadata": {},
     "output_type": "execute_result"
    },
    {
     "data": {
      "image/png": "[encoded data removed]",
      "text/plain": [
       "<Figure size 432x288 with 1 Axes>"
      ]
     },
     "metadata": {
      "needs_background": "light"
     },
     "output_type": "display_data"
    }
   ],
   "source": [
    "(data[data['Fare'] >= 100]).groupby('Survived').Fare.hist(legend=True, alpha=0.5)"
   ]
  },
  {
   "cell_type": "code",
   "execution_count": 93,
   "metadata": {},
   "outputs": [],
   "source": [
    "conditions = [\n",
    "    (data['Fare'] <= 20),\n",
    "    (data['Fare'] > 20) & (data['Fare'] <= 40),\n",
    "    (data['Fare'] > 40) & (data['Fare'] <= 70),\n",
    "    (data['Fare'] > 70) & (data['Fare'] <= 100),\n",
    "    (data['Fare'] > 100) & (data['Fare'] <= 300),\n",
    "    (data['Fare'] > 300)\n",
    "    ]\n",
    "\n",
    "values = ['1', '2', '3', '4', '5', '6']\n",
    "\n",
    "data['Fare_range'] = np.select(conditions, values)"
   ]
  },
  {
   "cell_type": "code",
   "execution_count": 96,
   "metadata": {},
   "outputs": [],
   "source": [
    "data=data.drop(['Fare'], axis=1)"
   ]
  },
  {
   "cell_type": "code",
   "execution_count": 102,
   "metadata": {},
   "outputs": [
    {
     "data": {
      "text/html": [
       "<div>\n",
       "<style scoped>\n",
       "    .dataframe tbody tr th:only-of-type {\n",
       "        vertical-align: middle;\n",
       "    }\n",
       "\n",
       "    .dataframe tbody tr th {\n",
       "        vertical-align: top;\n",
       "    }\n",
       "\n",
       "    .dataframe thead th {\n",
       "        text-align: right;\n",
       "    }\n",
       "</style>\n",
       "<table border=\"1\" class=\"dataframe\">\n",
       "  <thead>\n",
       "    <tr style=\"text-align: right;\">\n",
       "      <th></th>\n",
       "      <th>Survived</th>\n",
       "      <th>Pclass</th>\n",
       "      <th>Sex</th>\n",
       "      <th>SibSp</th>\n",
       "      <th>Parch</th>\n",
       "      <th>Embarked</th>\n",
       "      <th>Age_range</th>\n",
       "      <th>Fare_range</th>\n",
       "    </tr>\n",
       "  </thead>\n",
       "  <tbody>\n",
       "    <tr>\n",
       "      <th>2</th>\n",
       "      <td>0</td>\n",
       "      <td>3</td>\n",
       "      <td>0</td>\n",
       "      <td>1</td>\n",
       "      <td>2</td>\n",
       "      <td>2.0</td>\n",
       "      <td>1</td>\n",
       "      <td>4</td>\n",
       "    </tr>\n",
       "    <tr>\n",
       "      <th>3</th>\n",
       "      <td>0</td>\n",
       "      <td>3</td>\n",
       "      <td>0</td>\n",
       "      <td>0</td>\n",
       "      <td>0</td>\n",
       "      <td>2.0</td>\n",
       "      <td>5</td>\n",
       "      <td>1</td>\n",
       "    </tr>\n",
       "    <tr>\n",
       "      <th>4</th>\n",
       "      <td>1</td>\n",
       "      <td>3</td>\n",
       "      <td>0</td>\n",
       "      <td>0</td>\n",
       "      <td>0</td>\n",
       "      <td>2.0</td>\n",
       "      <td>5</td>\n",
       "      <td>1</td>\n",
       "    </tr>\n",
       "    <tr>\n",
       "      <th>5</th>\n",
       "      <td>0</td>\n",
       "      <td>2</td>\n",
       "      <td>0</td>\n",
       "      <td>0</td>\n",
       "      <td>0</td>\n",
       "      <td>2.0</td>\n",
       "      <td>5</td>\n",
       "      <td>1</td>\n",
       "    </tr>\n",
       "    <tr>\n",
       "      <th>6</th>\n",
       "      <td>0</td>\n",
       "      <td>3</td>\n",
       "      <td>0</td>\n",
       "      <td>0</td>\n",
       "      <td>0</td>\n",
       "      <td>2.0</td>\n",
       "      <td>2</td>\n",
       "      <td>1</td>\n",
       "    </tr>\n",
       "  </tbody>\n",
       "</table>\n",
       "</div>"
      ],
      "text/plain": [
       "   Survived  Pclass  Sex  SibSp  Parch  Embarked Age_range Fare_range\n",
       "2         0       3    0      1      2       2.0         1          4\n",
       "3         0       3    0      0      0       2.0         5          1\n",
       "4         1       3    0      0      0       2.0         5          1\n",
       "5         0       2    0      0      0       2.0         5          1\n",
       "6         0       3    0      0      0       2.0         2          1"
      ]
     },
     "execution_count": 102,
     "metadata": {},
     "output_type": "execute_result"
    }
   ],
   "source": [
    "data.head()"
   ]
  },
  {
   "cell_type": "code",
   "execution_count": 97,
   "metadata": {},
   "outputs": [],
   "source": [
    "X_train, X_test, y_train, y_test = train_test_split(data.drop(['Survived'], axis=1), data['Survived'], test_size=0.3, random_state=42)"
   ]
  },
  {
   "cell_type": "code",
   "execution_count": 100,
   "metadata": {},
   "outputs": [],
   "source": [
    "from sklearn.preprocessing import StandardScaler\n",
    "sc = StandardScaler()\n",
    "X_train = sc.fit_transform(X_train)\n",
    "X_test = sc.fit_transform(X_test)"
   ]
  },
  {
   "cell_type": "code",
   "execution_count": 101,
   "metadata": {},
   "outputs": [
    {
     "name": "stdout",
     "output_type": "stream",
     "text": [
      "Accuracy: 0.7577854671280276\n"
     ]
    }
   ],
   "source": [
    "clf = DecisionTreeClassifier();\n",
    "clf = clf.fit(X_train,y_train);\n",
    "y_pred = clf.predict(X_test);\n",
    "print(\"Accuracy:\",metrics.accuracy_score(y_test, y_pred))"
   ]
  },
  {
   "cell_type": "code",
   "execution_count": 109,
   "metadata": {},
   "outputs": [],
   "source": [
    "from sklearn import tree"
   ]
  },
  {
   "cell_type": "code",
   "execution_count": 111,
   "metadata": {},
   "outputs": [
    {
     "data": {
      "text/plain": [
       "[Text(154.20367450947955, 212.71304347826086, 'X[1] <= 0.119\\ngini = 0.49\\nsamples = 67432\\nvalue = [38493, 28939]'),\n",
       " Text(72.31750510901672, 203.2591304347826, 'X[4] <= -0.001\\ngini = 0.326\\nsamples = 37688\\nvalue = [29949, 7739]'),\n",
       " Text(39.87578655094759, 193.80521739130435, 'X[0] <= 0.467\\ngini = 0.5\\nsamples = 5319\\nvalue = [2743, 2576]'),\n",
       " Text(28.14669125818905, 184.3513043478261, 'X[6] <= 1.855\\ngini = 0.495\\nsamples = 4069\\nvalue = [1824, 2245]'),\n",
       " Text(17.045380644595227, 174.89739130434782, 'X[2] <= 0.117\\ngini = 0.499\\nsamples = 3087\\nvalue = [1493, 1594]'),\n",
       " Text(8.944450163781001, 165.44347826086957, 'X[4] <= -1.2\\ngini = 0.494\\nsamples = 2077\\nvalue = [927, 1150]'),\n",
       " Text(5.5343051006083295, 155.98956521739132, 'X[0] <= -0.727\\ngini = 0.484\\nsamples = 1639\\nvalue = [674, 965]'),\n",
       " Text(3.181670566214319, 146.53565217391304, 'X[3] <= 1.101\\ngini = 0.474\\nsamples = 1096\\nvalue = [423, 673]'),\n",
       " Text(0.8538418343472157, 137.08173913043478, 'X[5] <= -2.719\\ngini = 0.466\\nsamples = 977\\nvalue = [362, 615]'),\n",
       " Text(0.1671127749181095, 127.62782608695652, 'X[6] <= 0.336\\ngini = 0.245\\nsamples = 7\\nvalue = [6, 1]'),\n",
       " Text(0.08355638745905475, 118.17391304347825, 'gini = 0.0\\nsamples = 5\\nvalue = [5, 0]'),\n",
       " Text(0.25066916237716425, 118.17391304347825, 'X[6] <= 1.095\\ngini = 0.5\\nsamples = 2\\nvalue = [1, 1]'),\n",
       " Text(0.1671127749181095, 108.72, 'gini = 0.0\\nsamples = 1\\nvalue = [0, 1]'),\n",
       " Text(0.334225549836219, 108.72, 'gini = 0.0\\nsamples = 1\\nvalue = [1, 0]'),\n",
       " Text(1.5405708937763218, 127.62782608695652, 'X[6] <= -0.424\\ngini = 0.465\\nsamples = 970\\nvalue = [356, 614]'),\n",
       " Text(0.5848947122133832, 118.17391304347825, 'X[5] <= -1.985\\ngini = 0.497\\nsamples = 143\\nvalue = [66, 77]'),\n",
       " Text(0.5013383247543285, 108.72, 'gini = 0.0\\nsamples = 1\\nvalue = [1, 0]'),\n",
       " Text(0.668451099672438, 108.72, 'X[3] <= 0.048\\ngini = 0.496\\nsamples = 142\\nvalue = [65, 77]'),\n",
       " Text(0.5013383247543285, 99.26608695652173, 'X[5] <= -1.251\\ngini = 0.498\\nsamples = 134\\nvalue = [63, 71]'),\n",
       " Text(0.41778193729527374, 89.81217391304348, 'gini = 0.0\\nsamples = 1\\nvalue = [0, 1]'),\n",
       " Text(0.5848947122133832, 89.81217391304348, 'X[5] <= -0.517\\ngini = 0.499\\nsamples = 133\\nvalue = [63, 70]'),\n",
       " Text(0.5013383247543285, 80.35826086956521, 'gini = 0.0\\nsamples = 1\\nvalue = [1, 0]'),\n",
       " Text(0.668451099672438, 80.35826086956521, 'X[5] <= 0.951\\ngini = 0.498\\nsamples = 132\\nvalue = [62, 70]'),\n",
       " Text(0.5848947122133832, 70.90434782608696, 'X[5] <= 0.217\\ngini = 0.498\\nsamples = 120\\nvalue = [56, 64]'),\n",
       " Text(0.5013383247543285, 61.45043478260868, 'gini = 0.498\\nsamples = 62\\nvalue = [29, 33]'),\n",
       " Text(0.668451099672438, 61.45043478260868, 'gini = 0.498\\nsamples = 58\\nvalue = [27, 31]'),\n",
       " Text(0.7520074871314928, 70.90434782608696, 'gini = 0.5\\nsamples = 12\\nvalue = [6, 6]'),\n",
       " Text(0.8355638745905475, 99.26608695652173, 'X[5] <= 0.217\\ngini = 0.375\\nsamples = 8\\nvalue = [2, 6]'),\n",
       " Text(0.7520074871314928, 89.81217391304348, 'gini = 0.0\\nsamples = 1\\nvalue = [1, 0]'),\n",
       " Text(0.9191202620496022, 89.81217391304348, 'gini = 0.245\\nsamples = 7\\nvalue = [1, 6]'),\n",
       " Text(2.4962470753392605, 118.17391304347825, 'X[6] <= 0.336\\ngini = 0.455\\nsamples = 827\\nvalue = [290, 537]'),\n",
       " Text(1.733795039775386, 108.72, 'X[5] <= 0.217\\ngini = 0.436\\nsamples = 463\\nvalue = [149, 314]'),\n",
       " Text(1.3786803930744034, 99.26608695652173, 'X[3] <= 0.048\\ngini = 0.462\\nsamples = 224\\nvalue = [81, 143]'),\n",
       " Text(1.1697894244267664, 89.81217391304348, 'X[5] <= -1.251\\ngini = 0.454\\nsamples = 207\\nvalue = [72, 135]'),\n",
       " Text(1.002676649508657, 80.35826086956521, 'X[5] <= -1.985\\ngini = 0.32\\nsamples = 5\\nvalue = [1, 4]'),\n",
       " Text(0.9191202620496022, 70.90434782608696, 'gini = 0.444\\nsamples = 3\\nvalue = [1, 2]'),\n",
       " Text(1.0862330369677118, 70.90434782608696, 'gini = 0.0\\nsamples = 2\\nvalue = [0, 2]'),\n",
       " Text(1.336902199344876, 80.35826086956521, 'X[5] <= -0.517\\ngini = 0.456\\nsamples = 202\\nvalue = [71, 131]'),\n",
       " Text(1.2533458118858212, 70.90434782608696, 'gini = 0.5\\nsamples = 4\\nvalue = [2, 2]'),\n",
       " Text(1.4204585868039308, 70.90434782608696, 'gini = 0.454\\nsamples = 198\\nvalue = [69, 129]'),\n",
       " Text(1.5875713617220402, 89.81217391304348, 'X[5] <= -0.884\\ngini = 0.498\\nsamples = 17\\nvalue = [9, 8]'),\n",
       " Text(1.5040149742629856, 80.35826086956521, 'gini = 0.0\\nsamples = 2\\nvalue = [0, 2]'),\n",
       " Text(1.671127749181095, 80.35826086956521, 'gini = 0.48\\nsamples = 15\\nvalue = [9, 6]'),\n",
       " Text(2.0889096864763688, 99.26608695652173, 'X[5] <= 0.951\\ngini = 0.407\\nsamples = 239\\nvalue = [68, 171]'),\n",
       " Text(1.9217969115582592, 89.81217391304348, 'X[3] <= 0.048\\ngini = 0.386\\nsamples = 184\\nvalue = [48, 136]'),\n",
       " Text(1.8382405240992044, 80.35826086956521, 'gini = 0.372\\nsamples = 158\\nvalue = [39, 119]'),\n",
       " Text(2.005353299017314, 80.35826086956521, 'gini = 0.453\\nsamples = 26\\nvalue = [9, 17]'),\n",
       " Text(2.2560224613944784, 89.81217391304348, 'X[3] <= 0.048\\ngini = 0.463\\nsamples = 55\\nvalue = [20, 35]'),\n",
       " Text(2.1724660739354236, 80.35826086956521, 'gini = 0.47\\nsamples = 53\\nvalue = [20, 33]'),\n",
       " Text(2.3395788488535327, 80.35826086956521, 'gini = 0.0\\nsamples = 2\\nvalue = [0, 2]'),\n",
       " Text(3.258699110903135, 108.72, 'X[6] <= 1.095\\ngini = 0.475\\nsamples = 364\\nvalue = [141, 223]'),\n",
       " Text(2.8409171736078616, 99.26608695652173, 'X[5] <= 0.217\\ngini = 0.5\\nsamples = 125\\nvalue = [64, 61]'),\n",
       " Text(2.590248011230697, 89.81217391304348, 'X[3] <= 0.048\\ngini = 0.5\\nsamples = 64\\nvalue = [31, 33]'),\n",
       " Text(2.5066916237716423, 80.35826086956521, 'X[5] <= -1.251\\ngini = 0.5\\nsamples = 57\\nvalue = [29, 28]'),\n",
       " Text(2.3395788488535327, 70.90434782608696, 'X[5] <= -1.985\\ngini = 0.444\\nsamples = 3\\nvalue = [2, 1]'),\n",
       " Text(2.2560224613944784, 61.45043478260868, 'gini = 0.5\\nsamples = 2\\nvalue = [1, 1]'),\n",
       " Text(2.4231352363125875, 61.45043478260868, 'gini = 0.0\\nsamples = 1\\nvalue = [1, 0]'),\n",
       " Text(2.673804398689752, 70.90434782608696, 'X[5] <= -0.517\\ngini = 0.5\\nsamples = 54\\nvalue = [27, 27]'),\n",
       " Text(2.590248011230697, 61.45043478260868, 'gini = 0.0\\nsamples = 1\\nvalue = [0, 1]'),\n",
       " Text(2.7573607861488068, 61.45043478260868, 'gini = 0.5\\nsamples = 53\\nvalue = [27, 26]'),\n",
       " Text(2.673804398689752, 80.35826086956521, 'gini = 0.408\\nsamples = 7\\nvalue = [2, 5]'),\n",
       " Text(3.0915863359850255, 89.81217391304348, 'X[3] <= 0.048\\ngini = 0.497\\nsamples = 61\\nvalue = [33, 28]'),\n",
       " Text(2.9244735610669164, 80.35826086956521, 'X[5] <= 0.951\\ngini = 0.499\\nsamples = 56\\nvalue = [29, 27]'),\n",
       " Text(2.8409171736078616, 70.90434782608696, 'gini = 0.5\\nsamples = 45\\nvalue = [23, 22]'),\n",
       " Text(3.008029948525971, 70.90434782608696, 'gini = 0.496\\nsamples = 11\\nvalue = [6, 5]'),\n",
       " Text(3.258699110903135, 80.35826086956521, 'X[5] <= 0.951\\ngini = 0.32\\nsamples = 5\\nvalue = [4, 1]'),\n",
       " Text(3.1751427234440803, 70.90434782608696, 'gini = 0.375\\nsamples = 4\\nvalue = [3, 1]'),\n",
       " Text(3.34225549836219, 70.90434782608696, 'gini = 0.0\\nsamples = 1\\nvalue = [1, 0]'),\n",
       " Text(3.6764810481984087, 99.26608695652173, 'X[5] <= -1.251\\ngini = 0.437\\nsamples = 239\\nvalue = [77, 162]'),\n",
       " Text(3.5929246607393543, 89.81217391304348, 'gini = 0.0\\nsamples = 1\\nvalue = [1, 0]'),\n",
       " Text(3.7600374356574635, 89.81217391304348, 'X[3] <= 0.048\\ngini = 0.435\\nsamples = 238\\nvalue = [76, 162]'),\n",
       " Text(3.5929246607393543, 80.35826086956521, 'X[5] <= 0.951\\ngini = 0.43\\nsamples = 214\\nvalue = [67, 147]'),\n",
       " Text(3.5093682732802995, 70.90434782608696, 'X[5] <= -0.517\\ngini = 0.439\\nsamples = 197\\nvalue = [64, 133]'),\n",
       " Text(3.4258118858212447, 61.45043478260868, 'gini = 0.375\\nsamples = 4\\nvalue = [1, 3]'),\n",
       " Text(3.5929246607393543, 61.45043478260868, 'X[5] <= 0.217\\ngini = 0.44\\nsamples = 193\\nvalue = [63, 130]'),\n",
       " Text(3.5093682732802995, 51.99652173913043, 'gini = 0.437\\nsamples = 93\\nvalue = [30, 63]'),\n",
       " Text(3.6764810481984087, 51.99652173913043, 'gini = 0.442\\nsamples = 100\\nvalue = [33, 67]'),\n",
       " Text(3.6764810481984087, 70.90434782608696, 'gini = 0.291\\nsamples = 17\\nvalue = [3, 14]'),\n",
       " Text(3.927150210575573, 80.35826086956521, 'X[5] <= 0.951\\ngini = 0.469\\nsamples = 24\\nvalue = [9, 15]'),\n",
       " Text(3.8435938231165183, 70.90434782608696, 'X[5] <= 0.217\\ngini = 0.434\\nsamples = 22\\nvalue = [7, 15]'),\n",
       " Text(3.7600374356574635, 61.45043478260868, 'gini = 0.494\\nsamples = 9\\nvalue = [5, 4]'),\n",
       " Text(3.927150210575573, 61.45043478260868, 'gini = 0.26\\nsamples = 13\\nvalue = [2, 11]'),\n",
       " Text(4.010706598034628, 70.90434782608696, 'gini = 0.0\\nsamples = 2\\nvalue = [2, 0]'),\n",
       " Text(5.509499298081423, 137.08173913043478, 'X[3] <= 3.208\\ngini = 0.5\\nsamples = 119\\nvalue = [61, 58]'),\n",
       " Text(4.752269536733738, 127.62782608695652, 'X[6] <= 0.336\\ngini = 0.499\\nsamples = 110\\nvalue = [58, 52]'),\n",
       " Text(4.219597566682265, 118.17391304347825, 'X[5] <= -1.251\\ngini = 0.5\\nsamples = 68\\nvalue = [33, 35]'),\n",
       " Text(4.13604117922321, 108.72, 'gini = 0.0\\nsamples = 1\\nvalue = [1, 0]'),\n",
       " Text(4.30315395414132, 108.72, 'X[5] <= 0.217\\ngini = 0.499\\nsamples = 67\\nvalue = [32, 35]'),\n",
       " Text(4.094262985493683, 99.26608695652173, 'X[6] <= -0.424\\ngini = 0.492\\nsamples = 32\\nvalue = [14, 18]'),\n",
       " Text(4.010706598034628, 89.81217391304348, 'gini = 0.375\\nsamples = 4\\nvalue = [1, 3]'),\n",
       " Text(4.1778193729527375, 89.81217391304348, 'X[3] <= 2.155\\ngini = 0.497\\nsamples = 28\\nvalue = [13, 15]'),\n",
       " Text(4.094262985493683, 80.35826086956521, 'gini = 0.497\\nsamples = 24\\nvalue = [11, 13]'),\n",
       " Text(4.261375760411792, 80.35826086956521, 'gini = 0.5\\nsamples = 4\\nvalue = [2, 2]'),\n",
       " Text(4.512044922788957, 99.26608695652173, 'X[6] <= -0.424\\ngini = 0.5\\nsamples = 35\\nvalue = [18, 17]'),\n",
       " Text(4.428488535329902, 89.81217391304348, 'gini = 0.0\\nsamples = 1\\nvalue = [1, 0]'),\n",
       " Text(4.5956013102480116, 89.81217391304348, 'X[3] <= 2.155\\ngini = 0.5\\nsamples = 34\\nvalue = [17, 17]'),\n",
       " Text(4.428488535329902, 80.35826086956521, 'X[5] <= 0.951\\ngini = 0.499\\nsamples = 31\\nvalue = [15, 16]'),\n",
       " Text(4.344932147870847, 70.90434782608696, 'gini = 0.499\\nsamples = 27\\nvalue = [13, 14]'),\n",
       " Text(4.512044922788957, 70.90434782608696, 'gini = 0.5\\nsamples = 4\\nvalue = [2, 2]'),\n",
       " Text(4.76271408516612, 80.35826086956521, 'X[5] <= 0.951\\ngini = 0.444\\nsamples = 3\\nvalue = [2, 1]'),\n",
       " Text(4.6791576977070655, 70.90434782608696, 'gini = 0.0\\nsamples = 2\\nvalue = [2, 0]'),\n",
       " Text(4.846270472625175, 70.90434782608696, 'gini = 0.0\\nsamples = 1\\nvalue = [0, 1]'),\n",
       " Text(5.284941506785213, 118.17391304347825, 'X[5] <= -0.517\\ngini = 0.482\\nsamples = 42\\nvalue = [25, 17]'),\n",
       " Text(5.013383247543285, 108.72, 'X[5] <= -1.618\\ngini = 0.444\\nsamples = 3\\nvalue = [1, 2]'),\n",
       " Text(4.92982686008423, 99.26608695652173, 'X[6] <= 1.095\\ngini = 0.5\\nsamples = 2\\nvalue = [1, 1]'),\n",
       " Text(4.846270472625175, 89.81217391304348, 'gini = 0.0\\nsamples = 1\\nvalue = [0, 1]'),\n",
       " Text(5.013383247543285, 89.81217391304348, 'gini = 0.0\\nsamples = 1\\nvalue = [1, 0]'),\n",
       " Text(5.0969396350023395, 99.26608695652173, 'gini = 0.0\\nsamples = 1\\nvalue = [0, 1]'),\n",
       " Text(5.556499766027141, 108.72, 'X[3] <= 2.155\\ngini = 0.473\\nsamples = 39\\nvalue = [24, 15]'),\n",
       " Text(5.347608797379504, 99.26608695652173, 'X[6] <= 1.095\\ngini = 0.461\\nsamples = 36\\nvalue = [23, 13]'),\n",
       " Text(5.180496022461394, 89.81217391304348, 'X[5] <= 0.951\\ngini = 0.346\\nsamples = 9\\nvalue = [7, 2]'),\n",
       " Text(5.0969396350023395, 80.35826086956521, 'X[5] <= 0.217\\ngini = 0.219\\nsamples = 8\\nvalue = [7, 1]'),\n",
       " Text(5.013383247543285, 70.90434782608696, 'gini = 0.375\\nsamples = 4\\nvalue = [3, 1]'),\n",
       " Text(5.180496022461394, 70.90434782608696, 'gini = 0.0\\nsamples = 4\\nvalue = [4, 0]'),\n",
       " Text(5.264052409920449, 80.35826086956521, 'gini = 0.0\\nsamples = 1\\nvalue = [0, 1]'),\n",
       " Text(5.5147215722976135, 89.81217391304348, 'X[5] <= 0.217\\ngini = 0.483\\nsamples = 27\\nvalue = [16, 11]'),\n",
       " Text(5.431165184838559, 80.35826086956521, 'gini = 0.397\\nsamples = 11\\nvalue = [8, 3]'),\n",
       " Text(5.598277959756668, 80.35826086956521, 'X[5] <= 0.951\\ngini = 0.5\\nsamples = 16\\nvalue = [8, 8]'),\n",
       " Text(5.5147215722976135, 70.90434782608696, 'gini = 0.494\\nsamples = 9\\nvalue = [4, 5]'),\n",
       " Text(5.681834347215723, 70.90434782608696, 'gini = 0.49\\nsamples = 7\\nvalue = [4, 3]'),\n",
       " Text(5.765390734674778, 99.26608695652173, 'X[6] <= 1.095\\ngini = 0.444\\nsamples = 3\\nvalue = [1, 2]'),\n",
       " Text(5.681834347215723, 89.81217391304348, 'gini = 0.5\\nsamples = 2\\nvalue = [1, 1]'),\n",
       " Text(5.848947122133833, 89.81217391304348, 'gini = 0.0\\nsamples = 1\\nvalue = [0, 1]'),\n",
       " Text(6.266729059429106, 127.62782608695652, 'X[6] <= 0.716\\ngini = 0.444\\nsamples = 9\\nvalue = [3, 6]'),\n",
       " Text(6.183172671970051, 118.17391304347825, 'X[5] <= 0.217\\ngini = 0.49\\nsamples = 7\\nvalue = [3, 4]'),\n",
       " Text(6.016059897051942, 108.72, 'X[3] <= 4.261\\ngini = 0.5\\nsamples = 4\\nvalue = [2, 2]'),\n",
       " Text(5.9325035095928875, 99.26608695652173, 'gini = 0.0\\nsamples = 1\\nvalue = [1, 0]'),\n",
       " Text(6.099616284510996, 99.26608695652173, 'X[3] <= 6.894\\ngini = 0.444\\nsamples = 3\\nvalue = [1, 2]'),\n",
       " Text(6.016059897051942, 89.81217391304348, 'gini = 0.0\\nsamples = 1\\nvalue = [0, 1]'),\n",
       " Text(6.183172671970051, 89.81217391304348, 'gini = 0.5\\nsamples = 2\\nvalue = [1, 1]'),\n",
       " Text(6.350285446888161, 108.72, 'X[3] <= 4.261\\ngini = 0.444\\nsamples = 3\\nvalue = [1, 2]'),\n",
       " Text(6.266729059429106, 99.26608695652173, 'gini = 0.0\\nsamples = 1\\nvalue = [0, 1]'),\n",
       " Text(6.4338418343472155, 99.26608695652173, 'gini = 0.5\\nsamples = 2\\nvalue = [1, 1]'),\n",
       " Text(6.350285446888161, 118.17391304347825, 'gini = 0.0\\nsamples = 2\\nvalue = [0, 2]'),\n",
       " Text(7.8869396350023395, 146.53565217391304, 'X[5] <= -1.251\\ngini = 0.497\\nsamples = 543\\nvalue = [251, 292]'),\n",
       " Text(6.935180159101544, 137.08173913043478, 'X[6] <= 0.336\\ngini = 0.423\\nsamples = 23\\nvalue = [7, 16]'),\n",
       " Text(6.8516237716424895, 127.62782608695652, 'X[6] <= -0.424\\ngini = 0.363\\nsamples = 21\\nvalue = [5, 16]'),\n",
       " Text(6.600954609265325, 118.17391304347825, 'X[5] <= -2.719\\ngini = 0.5\\nsamples = 6\\nvalue = [3, 3]'),\n",
       " Text(6.51739822180627, 108.72, 'gini = 0.0\\nsamples = 2\\nvalue = [2, 0]'),\n",
       " Text(6.68451099672438, 108.72, 'X[3] <= 0.048\\ngini = 0.375\\nsamples = 4\\nvalue = [1, 3]'),\n",
       " Text(6.600954609265325, 99.26608695652173, 'gini = 0.0\\nsamples = 2\\nvalue = [0, 2]'),\n",
       " Text(6.768067384183435, 99.26608695652173, 'gini = 0.5\\nsamples = 2\\nvalue = [1, 1]'),\n",
       " Text(7.102292934019654, 118.17391304347825, 'X[3] <= 0.048\\ngini = 0.231\\nsamples = 15\\nvalue = [2, 13]'),\n",
       " Text(7.018736546560599, 108.72, 'X[5] <= -2.719\\ngini = 0.32\\nsamples = 10\\nvalue = [2, 8]'),\n",
       " Text(6.935180159101544, 99.26608695652173, 'gini = 0.0\\nsamples = 1\\nvalue = [0, 1]'),\n",
       " Text(7.102292934019654, 99.26608695652173, 'X[5] <= -1.985\\ngini = 0.346\\nsamples = 9\\nvalue = [2, 7]'),\n",
       " Text(7.018736546560599, 89.81217391304348, 'gini = 0.444\\nsamples = 3\\nvalue = [1, 2]'),\n",
       " Text(7.185849321478709, 89.81217391304348, 'gini = 0.278\\nsamples = 6\\nvalue = [1, 5]'),\n",
       " Text(7.185849321478709, 108.72, 'gini = 0.0\\nsamples = 5\\nvalue = [0, 5]'),\n",
       " Text(7.018736546560599, 127.62782608695652, 'gini = 0.0\\nsamples = 2\\nvalue = [2, 0]'),\n",
       " Text(8.838699110903136, 137.08173913043478, 'X[5] <= -0.517\\ngini = 0.498\\nsamples = 520\\nvalue = [244, 276]'),\n",
       " Text(8.261637810014038, 127.62782608695652, 'X[6] <= -0.424\\ngini = 0.346\\nsamples = 9\\nvalue = [7, 2]'),\n",
       " Text(8.178081422554984, 118.17391304347825, 'gini = 0.375\\nsamples = 8\\nvalue = [6, 2]'),\n",
       " Text(8.345194197473093, 118.17391304347825, 'gini = 0.0\\nsamples = 1\\nvalue = [1, 0]'),\n",
       " Text(9.415760411792231, 127.62782608695652, 'X[3] <= 1.101\\ngini = 0.497\\nsamples = 511\\nvalue = [237, 274]'),\n",
       " Text(8.512306972391203, 118.17391304347825, 'X[6] <= 0.336\\ngini = 0.496\\nsamples = 483\\nvalue = [221, 262]'),\n",
       " Text(7.8334113242863825, 108.72, 'X[3] <= 0.048\\ngini = 0.495\\nsamples = 453\\nvalue = [204, 249]'),\n",
       " Text(7.436518483855872, 99.26608695652173, 'X[5] <= 1.685\\ngini = 0.497\\nsamples = 412\\nvalue = [190, 222]'),\n",
       " Text(7.352962096396817, 89.81217391304348, 'X[5] <= 0.217\\ngini = 0.497\\nsamples = 411\\nvalue = [189, 222]'),\n",
       " Text(7.144071127749181, 80.35826086956521, 'X[6] <= -0.424\\ngini = 0.499\\nsamples = 230\\nvalue = [111, 119]'),\n",
       " Text(7.0605147402901265, 70.90434782608696, 'gini = 0.497\\nsamples = 139\\nvalue = [64, 75]'),\n",
       " Text(7.227627515208236, 70.90434782608696, 'gini = 0.499\\nsamples = 91\\nvalue = [47, 44]'),\n",
       " Text(7.561853065044454, 80.35826086956521, 'X[6] <= -0.424\\ngini = 0.49\\nsamples = 181\\nvalue = [78, 103]'),\n",
       " Text(7.394740290126345, 70.90434782608696, 'X[5] <= 0.951\\ngini = 0.499\\nsamples = 95\\nvalue = [45, 50]'),\n",
       " Text(7.311183902667291, 61.45043478260868, 'gini = 0.496\\nsamples = 64\\nvalue = [29, 35]'),\n",
       " Text(7.4782966775854, 61.45043478260868, 'gini = 0.499\\nsamples = 31\\nvalue = [16, 15]'),\n",
       " Text(7.728965839962564, 70.90434782608696, 'X[5] <= 0.951\\ngini = 0.473\\nsamples = 86\\nvalue = [33, 53]'),\n",
       " Text(7.645409452503509, 61.45043478260868, 'gini = 0.492\\nsamples = 62\\nvalue = [27, 35]'),\n",
       " Text(7.812522227421619, 61.45043478260868, 'gini = 0.375\\nsamples = 24\\nvalue = [6, 18]'),\n",
       " Text(7.520074871314927, 89.81217391304348, 'gini = 0.0\\nsamples = 1\\nvalue = [1, 0]'),\n",
       " Text(8.230304164716893, 99.26608695652173, 'X[6] <= -0.424\\ngini = 0.45\\nsamples = 41\\nvalue = [14, 27]'),\n",
       " Text(8.063191389798783, 89.81217391304348, 'X[5] <= 0.951\\ngini = 0.497\\nsamples = 13\\nvalue = [6, 7]'),\n",
       " Text(7.9796350023397284, 80.35826086956521, 'X[5] <= 0.217\\ngini = 0.48\\nsamples = 10\\nvalue = [4, 6]'),\n",
       " Text(7.896078614880674, 70.90434782608696, 'gini = 0.5\\nsamples = 8\\nvalue = [4, 4]'),\n",
       " Text(8.063191389798783, 70.90434782608696, 'gini = 0.0\\nsamples = 2\\nvalue = [0, 2]'),\n",
       " Text(8.146747777257838, 80.35826086956521, 'gini = 0.444\\nsamples = 3\\nvalue = [2, 1]'),\n",
       " Text(8.397416939635002, 89.81217391304348, 'X[5] <= 0.951\\ngini = 0.408\\nsamples = 28\\nvalue = [8, 20]'),\n",
       " Text(8.313860552175948, 80.35826086956521, 'X[5] <= 0.217\\ngini = 0.397\\nsamples = 22\\nvalue = [6, 16]'),\n",
       " Text(8.230304164716893, 70.90434782608696, 'gini = 0.426\\nsamples = 13\\nvalue = [4, 9]'),\n",
       " Text(8.397416939635002, 70.90434782608696, 'gini = 0.346\\nsamples = 9\\nvalue = [2, 7]'),\n",
       " Text(8.480973327094057, 80.35826086956521, 'gini = 0.444\\nsamples = 6\\nvalue = [2, 4]'),\n",
       " Text(9.191202620496023, 108.72, 'X[3] <= 0.048\\ngini = 0.491\\nsamples = 30\\nvalue = [17, 13]'),\n",
       " Text(8.898755264389331, 99.26608695652173, 'X[6] <= 1.095\\ngini = 0.5\\nsamples = 24\\nvalue = [12, 12]'),\n",
       " Text(8.731642489471222, 89.81217391304348, 'X[5] <= 0.217\\ngini = 0.473\\nsamples = 13\\nvalue = [8, 5]'),\n",
       " Text(8.648086102012167, 80.35826086956521, 'gini = 0.494\\nsamples = 9\\nvalue = [5, 4]'),\n",
       " Text(8.815198876930276, 80.35826086956521, 'gini = 0.375\\nsamples = 4\\nvalue = [3, 1]'),\n",
       " Text(9.065868039307441, 89.81217391304348, 'X[5] <= 0.217\\ngini = 0.463\\nsamples = 11\\nvalue = [4, 7]'),\n",
       " Text(8.982311651848386, 80.35826086956521, 'gini = 0.444\\nsamples = 6\\nvalue = [2, 4]'),\n",
       " Text(9.149424426766496, 80.35826086956521, 'gini = 0.48\\nsamples = 5\\nvalue = [2, 3]'),\n",
       " Text(9.483649976602713, 99.26608695652173, 'X[6] <= 1.095\\ngini = 0.278\\nsamples = 6\\nvalue = [5, 1]'),\n",
       " Text(9.400093589143658, 89.81217391304348, 'X[5] <= 0.584\\ngini = 0.5\\nsamples = 2\\nvalue = [1, 1]'),\n",
       " Text(9.316537201684605, 80.35826086956521, 'gini = 0.0\\nsamples = 1\\nvalue = [0, 1]'),\n",
       " Text(9.483649976602713, 80.35826086956521, 'gini = 0.0\\nsamples = 1\\nvalue = [1, 0]'),\n",
       " Text(9.567206364061768, 89.81217391304348, 'gini = 0.0\\nsamples = 4\\nvalue = [4, 0]'),\n",
       " Text(10.319213851193261, 118.17391304347825, 'X[6] <= -0.424\\ngini = 0.49\\nsamples = 28\\nvalue = [16, 12]'),\n",
       " Text(9.984988301357042, 108.72, 'X[3] <= 3.208\\ngini = 0.408\\nsamples = 7\\nvalue = [2, 5]'),\n",
       " Text(9.901431913897987, 99.26608695652173, 'X[5] <= 0.217\\ngini = 0.444\\nsamples = 6\\nvalue = [2, 4]'),\n",
       " Text(9.734319138979878, 89.81217391304348, 'X[3] <= 2.155\\ngini = 0.5\\nsamples = 2\\nvalue = [1, 1]'),\n",
       " Text(9.650762751520823, 80.35826086956521, 'gini = 0.0\\nsamples = 1\\nvalue = [1, 0]'),\n",
       " Text(9.817875526438932, 80.35826086956521, 'gini = 0.0\\nsamples = 1\\nvalue = [0, 1]'),\n",
       " Text(10.068544688816097, 89.81217391304348, 'X[3] <= 2.155\\ngini = 0.375\\nsamples = 4\\nvalue = [1, 3]'),\n",
       " Text(9.984988301357042, 80.35826086956521, 'gini = 0.0\\nsamples = 2\\nvalue = [0, 2]'),\n",
       " Text(10.152101076275152, 80.35826086956521, 'gini = 0.5\\nsamples = 2\\nvalue = [1, 1]'),\n",
       " Text(10.068544688816097, 99.26608695652173, 'gini = 0.0\\nsamples = 1\\nvalue = [0, 1]'),\n",
       " Text(10.65343940102948, 108.72, 'X[6] <= 0.336\\ngini = 0.444\\nsamples = 21\\nvalue = [14, 7]'),\n",
       " Text(10.48632662611137, 99.26608695652173, 'X[5] <= 0.951\\ngini = 0.391\\nsamples = 15\\nvalue = [11, 4]'),\n",
       " Text(10.402770238652316, 89.81217391304348, 'X[3] <= 3.734\\ngini = 0.355\\nsamples = 13\\nvalue = [10, 3]'),\n",
       " Text(10.319213851193261, 80.35826086956521, 'X[3] <= 2.155\\ngini = 0.375\\nsamples = 12\\nvalue = [9, 3]'),\n",
       " Text(10.152101076275152, 70.90434782608696, 'X[5] <= 0.217\\ngini = 0.32\\nsamples = 10\\nvalue = [8, 2]'),\n",
       " Text(10.068544688816097, 61.45043478260868, 'gini = 0.32\\nsamples = 5\\nvalue = [4, 1]'),\n",
       " Text(10.235657463734206, 61.45043478260868, 'gini = 0.32\\nsamples = 5\\nvalue = [4, 1]'),\n",
       " Text(10.48632662611137, 70.90434782608696, 'X[5] <= 0.217\\ngini = 0.5\\nsamples = 2\\nvalue = [1, 1]'),\n",
       " Text(10.402770238652316, 61.45043478260868, 'gini = 0.0\\nsamples = 1\\nvalue = [1, 0]'),\n",
       " Text(10.569883013570426, 61.45043478260868, 'gini = 0.0\\nsamples = 1\\nvalue = [0, 1]'),\n",
       " Text(10.48632662611137, 80.35826086956521, 'gini = 0.0\\nsamples = 1\\nvalue = [1, 0]'),\n",
       " Text(10.569883013570426, 89.81217391304348, 'gini = 0.5\\nsamples = 2\\nvalue = [1, 1]'),\n",
       " Text(10.82055217594759, 99.26608695652173, 'X[6] <= 1.095\\ngini = 0.5\\nsamples = 6\\nvalue = [3, 3]'),\n",
       " Text(10.736995788488535, 89.81217391304348, 'gini = 0.0\\nsamples = 1\\nvalue = [0, 1]'),\n",
       " Text(10.904108563406645, 89.81217391304348, 'X[5] <= 0.217\\ngini = 0.48\\nsamples = 5\\nvalue = [3, 2]'),\n",
       " Text(10.82055217594759, 80.35826086956521, 'gini = 0.5\\nsamples = 2\\nvalue = [1, 1]'),\n",
       " Text(10.9876649508657, 80.35826086956521, 'gini = 0.444\\nsamples = 3\\nvalue = [2, 1]'),\n",
       " Text(12.354595226953673, 155.98956521739132, 'X[6] <= -0.424\\ngini = 0.488\\nsamples = 438\\nvalue = [253, 185]'),\n",
       " Text(11.405446888160974, 146.53565217391304, 'X[5] <= 0.217\\ngini = 0.414\\nsamples = 113\\nvalue = [80, 33]'),\n",
       " Text(10.9876649508657, 137.08173913043478, 'X[5] <= -0.517\\ngini = 0.313\\nsamples = 67\\nvalue = [54, 13]'),\n",
       " Text(10.904108563406645, 127.62782608695652, 'gini = 0.0\\nsamples = 9\\nvalue = [9, 0]'),\n",
       " Text(11.071221338324754, 127.62782608695652, 'X[3] <= 0.048\\ngini = 0.348\\nsamples = 58\\nvalue = [45, 13]'),\n",
       " Text(10.904108563406645, 118.17391304347825, 'X[0] <= -0.727\\ngini = 0.315\\nsamples = 51\\nvalue = [41, 10]'),\n",
       " Text(10.82055217594759, 108.72, 'gini = 0.278\\nsamples = 12\\nvalue = [10, 2]'),\n",
       " Text(10.9876649508657, 108.72, 'gini = 0.326\\nsamples = 39\\nvalue = [31, 8]'),\n",
       " Text(11.238334113242864, 118.17391304347825, 'X[3] <= 1.101\\ngini = 0.49\\nsamples = 7\\nvalue = [4, 3]'),\n",
       " Text(11.15477772578381, 108.72, 'gini = 0.0\\nsamples = 1\\nvalue = [0, 1]'),\n",
       " Text(11.321890500701919, 108.72, 'X[0] <= -0.727\\ngini = 0.444\\nsamples = 6\\nvalue = [4, 2]'),\n",
       " Text(11.238334113242864, 99.26608695652173, 'gini = 0.0\\nsamples = 1\\nvalue = [0, 1]'),\n",
       " Text(11.405446888160974, 99.26608695652173, 'X[3] <= 2.155\\ngini = 0.32\\nsamples = 5\\nvalue = [4, 1]'),\n",
       " Text(11.321890500701919, 89.81217391304348, 'gini = 0.5\\nsamples = 2\\nvalue = [1, 1]'),\n",
       " Text(11.489003275620028, 89.81217391304348, 'gini = 0.0\\nsamples = 3\\nvalue = [3, 0]'),\n",
       " Text(11.823228825456248, 137.08173913043478, 'X[3] <= 0.575\\ngini = 0.491\\nsamples = 46\\nvalue = [26, 20]'),\n",
       " Text(11.739672437997193, 127.62782608695652, 'X[5] <= 0.951\\ngini = 0.499\\nsamples = 42\\nvalue = [22, 20]'),\n",
       " Text(11.572559663079083, 118.17391304347825, 'X[0] <= -0.727\\ngini = 0.493\\nsamples = 25\\nvalue = [11, 14]'),\n",
       " Text(11.489003275620028, 108.72, 'gini = 0.48\\nsamples = 10\\nvalue = [4, 6]'),\n",
       " Text(11.656116050538138, 108.72, 'gini = 0.498\\nsamples = 15\\nvalue = [7, 8]'),\n",
       " Text(11.906785212915302, 118.17391304347825, 'X[5] <= 1.685\\ngini = 0.457\\nsamples = 17\\nvalue = [11, 6]'),\n",
       " Text(11.823228825456248, 108.72, 'X[0] <= -0.727\\ngini = 0.469\\nsamples = 16\\nvalue = [10, 6]'),\n",
       " Text(11.739672437997193, 99.26608695652173, 'gini = 0.463\\nsamples = 11\\nvalue = [7, 4]'),\n",
       " Text(11.906785212915302, 99.26608695652173, 'gini = 0.48\\nsamples = 5\\nvalue = [3, 2]'),\n",
       " Text(11.990341600374357, 108.72, 'gini = 0.0\\nsamples = 1\\nvalue = [1, 0]'),\n",
       " Text(11.906785212915302, 127.62782608695652, 'gini = 0.0\\nsamples = 4\\nvalue = [4, 0]'),\n",
       " Text(13.303743565746373, 146.53565217391304, 'X[5] <= -1.985\\ngini = 0.498\\nsamples = 325\\nvalue = [173, 152]'),\n",
       " Text(13.220187178287318, 137.08173913043478, 'gini = 0.0\\nsamples = 2\\nvalue = [2, 0]'),\n",
       " Text(13.387299953205428, 137.08173913043478, 'X[5] <= -0.517\\ngini = 0.498\\nsamples = 323\\nvalue = [171, 152]'),\n",
       " Text(13.303743565746373, 127.62782608695652, 'gini = 0.0\\nsamples = 5\\nvalue = [0, 5]'),\n",
       " Text(13.470856340664483, 127.62782608695652, 'X[5] <= 0.217\\ngini = 0.497\\nsamples = 318\\nvalue = [171, 147]'),\n",
       " Text(12.429012634534393, 118.17391304347825, 'X[3] <= 3.208\\ngini = 0.483\\nsamples = 86\\nvalue = [51, 35]'),\n",
       " Text(12.345456247075338, 108.72, 'X[6] <= 1.095\\ngini = 0.477\\nsamples = 84\\nvalue = [51, 33]'),\n",
       " Text(12.07389798783341, 99.26608695652173, 'X[3] <= 2.155\\ngini = 0.457\\nsamples = 65\\nvalue = [42, 23]'),\n",
       " Text(11.990341600374357, 89.81217391304348, 'X[3] <= 0.048\\ngini = 0.451\\nsamples = 64\\nvalue = [42, 22]'),\n",
       " Text(11.697894244267665, 80.35826086956521, 'X[0] <= -0.727\\ngini = 0.473\\nsamples = 47\\nvalue = [29, 18]'),\n",
       " Text(11.530781469349556, 70.90434782608696, 'X[6] <= 0.336\\ngini = 0.444\\nsamples = 30\\nvalue = [20, 10]'),\n",
       " Text(11.447225081890501, 61.45043478260868, 'gini = 0.428\\nsamples = 29\\nvalue = [20, 9]'),\n",
       " Text(11.61433785680861, 61.45043478260868, 'gini = 0.0\\nsamples = 1\\nvalue = [0, 1]'),\n",
       " Text(11.865007019185775, 70.90434782608696, 'X[6] <= 0.336\\ngini = 0.498\\nsamples = 17\\nvalue = [9, 8]'),\n",
       " Text(11.78145063172672, 61.45043478260868, 'gini = 0.5\\nsamples = 16\\nvalue = [8, 8]'),\n",
       " Text(11.94856340664483, 61.45043478260868, 'gini = 0.0\\nsamples = 1\\nvalue = [1, 0]'),\n",
       " Text(12.282788956481047, 80.35826086956521, 'X[0] <= -0.727\\ngini = 0.36\\nsamples = 17\\nvalue = [13, 4]'),\n",
       " Text(12.199232569021992, 70.90434782608696, 'X[3] <= 1.101\\ngini = 0.48\\nsamples = 10\\nvalue = [6, 4]'),\n",
       " Text(12.115676181562938, 61.45043478260868, 'gini = 0.375\\nsamples = 4\\nvalue = [3, 1]'),\n",
       " Text(12.282788956481047, 61.45043478260868, 'X[6] <= 0.336\\ngini = 0.5\\nsamples = 6\\nvalue = [3, 3]'),\n",
       " Text(12.199232569021992, 51.99652173913043, 'gini = 0.444\\nsamples = 3\\nvalue = [1, 2]'),\n",
       " Text(12.366345343940102, 51.99652173913043, 'gini = 0.444\\nsamples = 3\\nvalue = [2, 1]'),\n",
       " Text(12.366345343940102, 70.90434782608696, 'gini = 0.0\\nsamples = 7\\nvalue = [7, 0]'),\n",
       " Text(12.157454375292465, 89.81217391304348, 'gini = 0.0\\nsamples = 1\\nvalue = [0, 1]'),\n",
       " Text(12.617014506317267, 99.26608695652173, 'X[3] <= 1.101\\ngini = 0.499\\nsamples = 19\\nvalue = [9, 10]'),\n",
       " Text(12.533458118858212, 89.81217391304348, 'X[0] <= -0.727\\ngini = 0.494\\nsamples = 18\\nvalue = [8, 10]'),\n",
       " Text(12.449901731399157, 80.35826086956521, 'gini = 0.498\\nsamples = 17\\nvalue = [8, 9]'),\n",
       " Text(12.617014506317267, 80.35826086956521, 'gini = 0.0\\nsamples = 1\\nvalue = [0, 1]'),\n",
       " Text(12.700570893776321, 89.81217391304348, 'gini = 0.0\\nsamples = 1\\nvalue = [1, 0]'),\n",
       " Text(12.512569021993448, 108.72, 'gini = 0.0\\nsamples = 2\\nvalue = [0, 2]'),\n",
       " Text(14.512700046794572, 118.17391304347825, 'X[3] <= 1.101\\ngini = 0.499\\nsamples = 232\\nvalue = [120, 112]'),\n",
       " Text(13.734581188582125, 108.72, 'X[5] <= 0.951\\ngini = 0.499\\nsamples = 205\\nvalue = [108, 97]'),\n",
       " Text(13.222798315395414, 99.26608695652173, 'X[3] <= 0.048\\ngini = 0.5\\nsamples = 105\\nvalue = [51, 54]'),\n",
       " Text(12.993018249883013, 89.81217391304348, 'X[6] <= 0.336\\ngini = 0.5\\nsamples = 100\\nvalue = [50, 50]'),\n",
       " Text(12.784127281235376, 80.35826086956521, 'X[0] <= -0.727\\ngini = 0.492\\nsamples = 55\\nvalue = [24, 31]'),\n",
       " Text(12.700570893776321, 70.90434782608696, 'gini = 0.498\\nsamples = 45\\nvalue = [21, 24]'),\n",
       " Text(12.867683668694431, 70.90434782608696, 'gini = 0.42\\nsamples = 10\\nvalue = [3, 7]'),\n",
       " Text(13.20190921853065, 80.35826086956521, 'X[0] <= -0.727\\ngini = 0.488\\nsamples = 45\\nvalue = [26, 19]'),\n",
       " Text(13.03479644361254, 70.90434782608696, 'X[6] <= 1.095\\ngini = 0.5\\nsamples = 37\\nvalue = [19, 18]'),\n",
       " Text(12.951240056153486, 61.45043478260868, 'gini = 0.475\\nsamples = 18\\nvalue = [11, 7]'),\n",
       " Text(13.118352831071595, 61.45043478260868, 'gini = 0.488\\nsamples = 19\\nvalue = [8, 11]'),\n",
       " Text(13.36902199344876, 70.90434782608696, 'X[6] <= 1.095\\ngini = 0.219\\nsamples = 8\\nvalue = [7, 1]'),\n",
       " Text(13.285465605989705, 61.45043478260868, 'gini = 0.375\\nsamples = 4\\nvalue = [3, 1]'),\n",
       " Text(13.452578380907815, 61.45043478260868, 'gini = 0.0\\nsamples = 4\\nvalue = [4, 0]'),\n",
       " Text(13.452578380907815, 89.81217391304348, 'X[6] <= 1.095\\ngini = 0.32\\nsamples = 5\\nvalue = [1, 4]'),\n",
       " Text(13.36902199344876, 80.35826086956521, 'gini = 0.0\\nsamples = 4\\nvalue = [0, 4]'),\n",
       " Text(13.53613476836687, 80.35826086956521, 'gini = 0.0\\nsamples = 1\\nvalue = [1, 0]'),\n",
       " Text(14.246364061768835, 99.26608695652173, 'X[6] <= 1.095\\ngini = 0.49\\nsamples = 100\\nvalue = [57, 43]'),\n",
       " Text(14.16280767430978, 89.81217391304348, 'X[0] <= -0.727\\ngini = 0.48\\nsamples = 85\\nvalue = [51, 34]'),\n",
       " Text(13.870360318203089, 80.35826086956521, 'X[3] <= 0.048\\ngini = 0.486\\nsamples = 77\\nvalue = [45, 32]'),\n",
       " Text(13.703247543284979, 70.90434782608696, 'X[6] <= 0.336\\ngini = 0.488\\nsamples = 71\\nvalue = [41, 30]'),\n",
       " Text(13.619691155825924, 61.45043478260868, 'gini = 0.489\\nsamples = 47\\nvalue = [27, 20]'),\n",
       " Text(13.786803930744034, 61.45043478260868, 'gini = 0.486\\nsamples = 24\\nvalue = [14, 10]'),\n",
       " Text(14.037473093121198, 70.90434782608696, 'X[6] <= 0.336\\ngini = 0.444\\nsamples = 6\\nvalue = [4, 2]'),\n",
       " Text(13.953916705662143, 61.45043478260868, 'gini = 0.48\\nsamples = 5\\nvalue = [3, 2]'),\n",
       " Text(14.121029480580253, 61.45043478260868, 'gini = 0.0\\nsamples = 1\\nvalue = [1, 0]'),\n",
       " Text(14.455255030416472, 80.35826086956521, 'X[3] <= 0.048\\ngini = 0.375\\nsamples = 8\\nvalue = [6, 2]'),\n",
       " Text(14.371698642957417, 70.90434782608696, 'X[6] <= 0.336\\ngini = 0.408\\nsamples = 7\\nvalue = [5, 2]'),\n",
       " Text(14.288142255498363, 61.45043478260868, 'gini = 0.444\\nsamples = 6\\nvalue = [4, 2]'),\n",
       " Text(14.455255030416472, 61.45043478260868, 'gini = 0.0\\nsamples = 1\\nvalue = [1, 0]'),\n",
       " Text(14.538811417875527, 70.90434782608696, 'gini = 0.0\\nsamples = 1\\nvalue = [1, 0]'),\n",
       " Text(14.32992044922789, 89.81217391304348, 'gini = 0.48\\nsamples = 15\\nvalue = [6, 9]'),\n",
       " Text(15.290818905007018, 108.72, 'X[5] <= 0.951\\ngini = 0.494\\nsamples = 27\\nvalue = [12, 15]'),\n",
       " Text(15.040149742629854, 99.26608695652173, 'X[3] <= 5.314\\ngini = 0.486\\nsamples = 12\\nvalue = [7, 5]'),\n",
       " Text(14.9565933551708, 89.81217391304348, 'X[3] <= 3.208\\ngini = 0.42\\nsamples = 10\\nvalue = [7, 3]'),\n",
       " Text(14.873036967711744, 80.35826086956521, 'X[3] <= 2.155\\ngini = 0.469\\nsamples = 8\\nvalue = [5, 3]'),\n",
       " Text(14.705924192793635, 70.90434782608696, 'X[6] <= 0.716\\ngini = 0.32\\nsamples = 5\\nvalue = [4, 1]'),\n",
       " Text(14.622367805334582, 61.45043478260868, 'X[0] <= -0.727\\ngini = 0.375\\nsamples = 4\\nvalue = [3, 1]'),\n",
       " Text(14.538811417875527, 51.99652173913043, 'gini = 0.444\\nsamples = 3\\nvalue = [2, 1]'),\n",
       " Text(14.705924192793635, 51.99652173913043, 'gini = 0.0\\nsamples = 1\\nvalue = [1, 0]'),\n",
       " Text(14.78948058025269, 61.45043478260868, 'gini = 0.0\\nsamples = 1\\nvalue = [1, 0]'),\n",
       " Text(15.040149742629854, 70.90434782608696, 'X[6] <= 0.336\\ngini = 0.444\\nsamples = 3\\nvalue = [1, 2]'),\n",
       " Text(14.9565933551708, 61.45043478260868, 'gini = 0.0\\nsamples = 1\\nvalue = [0, 1]'),\n",
       " Text(15.123706130088909, 61.45043478260868, 'gini = 0.5\\nsamples = 2\\nvalue = [1, 1]'),\n",
       " Text(15.040149742629854, 80.35826086956521, 'gini = 0.0\\nsamples = 2\\nvalue = [2, 0]'),\n",
       " Text(15.123706130088909, 89.81217391304348, 'gini = 0.0\\nsamples = 2\\nvalue = [0, 2]'),\n",
       " Text(15.541488067384183, 99.26608695652173, 'X[3] <= 2.155\\ngini = 0.444\\nsamples = 15\\nvalue = [5, 10]'),\n",
       " Text(15.374375292466073, 89.81217391304348, 'X[0] <= -0.727\\ngini = 0.198\\nsamples = 9\\nvalue = [1, 8]'),\n",
       " Text(15.290818905007018, 80.35826086956521, 'X[6] <= 0.716\\ngini = 0.219\\nsamples = 8\\nvalue = [1, 7]'),\n",
       " Text(15.207262517547964, 70.90434782608696, 'gini = 0.245\\nsamples = 7\\nvalue = [1, 6]'),\n",
       " Text(15.374375292466073, 70.90434782608696, 'gini = 0.0\\nsamples = 1\\nvalue = [0, 1]'),\n",
       " Text(15.457931679925128, 80.35826086956521, 'gini = 0.0\\nsamples = 1\\nvalue = [0, 1]'),\n",
       " Text(15.708600842302292, 89.81217391304348, 'X[6] <= 1.095\\ngini = 0.444\\nsamples = 6\\nvalue = [4, 2]'),\n",
       " Text(15.625044454843238, 80.35826086956521, 'X[3] <= 6.367\\ngini = 0.48\\nsamples = 5\\nvalue = [3, 2]'),\n",
       " Text(15.541488067384183, 70.90434782608696, 'X[6] <= 0.336\\ngini = 0.5\\nsamples = 4\\nvalue = [2, 2]'),\n",
       " Text(15.457931679925128, 61.45043478260868, 'gini = 0.5\\nsamples = 2\\nvalue = [1, 1]'),\n",
       " Text(15.625044454843238, 61.45043478260868, 'gini = 0.5\\nsamples = 2\\nvalue = [1, 1]'),\n",
       " Text(15.708600842302292, 70.90434782608696, 'gini = 0.0\\nsamples = 1\\nvalue = [1, 0]'),\n",
       " Text(15.792157229761347, 80.35826086956521, 'gini = 0.0\\nsamples = 1\\nvalue = [1, 0]'),\n",
       " Text(25.14631112540945, 165.44347826086957, 'X[3] <= 1.101\\ngini = 0.493\\nsamples = 1010\\nvalue = [566, 444]'),\n",
       " Text(18.392360201216658, 155.98956521739132, 'X[5] <= -1.251\\ngini = 0.498\\nsamples = 731\\nvalue = [391, 340]'),\n",
       " Text(16.669499298081423, 146.53565217391304, 'X[4] <= -1.2\\ngini = 0.488\\nsamples = 52\\nvalue = [22, 30]'),\n",
       " Text(16.585942910622368, 137.08173913043478, 'X[2] <= 3.581\\ngini = 0.462\\nsamples = 47\\nvalue = [17, 30]'),\n",
       " Text(16.502386523163313, 127.62782608695652, 'X[6] <= 1.095\\ngini = 0.434\\nsamples = 44\\nvalue = [14, 30]'),\n",
       " Text(16.335273748245204, 118.17391304347825, 'X[2] <= 2.426\\ngini = 0.461\\nsamples = 36\\nvalue = [13, 23]'),\n",
       " Text(16.25171736078615, 108.72, 'X[6] <= -0.424\\ngini = 0.478\\nsamples = 33\\nvalue = [13, 20]'),\n",
       " Text(16.168160973327094, 99.26608695652173, 'gini = 0.0\\nsamples = 2\\nvalue = [2, 0]'),\n",
       " Text(16.335273748245204, 99.26608695652173, 'X[6] <= 0.336\\ngini = 0.458\\nsamples = 31\\nvalue = [11, 20]'),\n",
       " Text(16.168160973327094, 89.81217391304348, 'X[2] <= 1.272\\ngini = 0.436\\nsamples = 28\\nvalue = [9, 19]'),\n",
       " Text(16.08460458586804, 80.35826086956521, 'X[3] <= 0.048\\ngini = 0.453\\nsamples = 26\\nvalue = [9, 17]'),\n",
       " Text(15.875713617220402, 70.90434782608696, 'X[5] <= -2.719\\ngini = 0.496\\nsamples = 11\\nvalue = [5, 6]'),\n",
       " Text(15.792157229761347, 61.45043478260868, 'gini = 0.0\\nsamples = 1\\nvalue = [1, 0]'),\n",
       " Text(15.959270004679457, 61.45043478260868, 'X[0] <= -0.727\\ngini = 0.48\\nsamples = 10\\nvalue = [4, 6]'),\n",
       " Text(15.792157229761347, 51.99652173913043, 'X[5] <= -1.985\\ngini = 0.444\\nsamples = 6\\nvalue = [2, 4]'),\n",
       " Text(15.708600842302292, 42.54260869565218, 'gini = 0.5\\nsamples = 4\\nvalue = [2, 2]'),\n",
       " Text(15.875713617220402, 42.54260869565218, 'gini = 0.0\\nsamples = 2\\nvalue = [0, 2]'),\n",
       " Text(16.126382779597566, 51.99652173913043, 'X[5] <= -1.985\\ngini = 0.5\\nsamples = 4\\nvalue = [2, 2]'),\n",
       " Text(16.04282639213851, 42.54260869565218, 'gini = 0.444\\nsamples = 3\\nvalue = [1, 2]'),\n",
       " Text(16.20993916705662, 42.54260869565218, 'gini = 0.0\\nsamples = 1\\nvalue = [1, 0]'),\n",
       " Text(16.293495554515676, 70.90434782608696, 'X[0] <= -0.727\\ngini = 0.391\\nsamples = 15\\nvalue = [4, 11]'),\n",
       " Text(16.20993916705662, 61.45043478260868, 'gini = 0.5\\nsamples = 2\\nvalue = [1, 1]'),\n",
       " Text(16.37705194197473, 61.45043478260868, 'X[5] <= -2.719\\ngini = 0.355\\nsamples = 13\\nvalue = [3, 10]'),\n",
       " Text(16.293495554515676, 51.99652173913043, 'gini = 0.32\\nsamples = 5\\nvalue = [1, 4]'),\n",
       " Text(16.460608329433786, 51.99652173913043, 'gini = 0.375\\nsamples = 8\\nvalue = [2, 6]'),\n",
       " Text(16.25171736078615, 80.35826086956521, 'gini = 0.0\\nsamples = 2\\nvalue = [0, 2]'),\n",
       " Text(16.502386523163313, 89.81217391304348, 'X[3] <= 0.048\\ngini = 0.444\\nsamples = 3\\nvalue = [2, 1]'),\n",
       " Text(16.41883013570426, 80.35826086956521, 'gini = 0.0\\nsamples = 1\\nvalue = [0, 1]'),\n",
       " Text(16.585942910622368, 80.35826086956521, 'gini = 0.0\\nsamples = 2\\nvalue = [2, 0]'),\n",
       " Text(16.41883013570426, 108.72, 'gini = 0.0\\nsamples = 3\\nvalue = [0, 3]'),\n",
       " Text(16.669499298081423, 118.17391304347825, 'X[5] <= -1.985\\ngini = 0.219\\nsamples = 8\\nvalue = [1, 7]'),\n",
       " Text(16.585942910622368, 108.72, 'gini = 0.0\\nsamples = 5\\nvalue = [0, 5]'),\n",
       " Text(16.753055685540478, 108.72, 'X[3] <= 0.048\\ngini = 0.444\\nsamples = 3\\nvalue = [1, 2]'),\n",
       " Text(16.669499298081423, 99.26608695652173, 'gini = 0.0\\nsamples = 1\\nvalue = [0, 1]'),\n",
       " Text(16.836612072999532, 99.26608695652173, 'gini = 0.5\\nsamples = 2\\nvalue = [1, 1]'),\n",
       " Text(16.669499298081423, 127.62782608695652, 'gini = 0.0\\nsamples = 3\\nvalue = [3, 0]'),\n",
       " Text(16.753055685540478, 137.08173913043478, 'gini = 0.0\\nsamples = 5\\nvalue = [5, 0]'),\n",
       " Text(20.115221104351896, 146.53565217391304, 'X[5] <= -0.517\\ngini = 0.496\\nsamples = 679\\nvalue = [369, 310]'),\n",
       " Text(17.630397753860553, 137.08173913043478, 'X[2] <= 3.004\\ngini = 0.298\\nsamples = 11\\nvalue = [9, 2]'),\n",
       " Text(17.546841366401498, 127.62782608695652, 'X[0] <= -0.727\\ngini = 0.18\\nsamples = 10\\nvalue = [9, 1]'),\n",
       " Text(17.463284978942443, 118.17391304347825, 'gini = 0.0\\nsamples = 6\\nvalue = [6, 0]'),\n",
       " Text(17.630397753860553, 118.17391304347825, 'X[2] <= 1.272\\ngini = 0.375\\nsamples = 4\\nvalue = [3, 1]'),\n",
       " Text(17.546841366401498, 108.72, 'gini = 0.0\\nsamples = 3\\nvalue = [3, 0]'),\n",
       " Text(17.713954141319608, 108.72, 'gini = 0.0\\nsamples = 1\\nvalue = [0, 1]'),\n",
       " Text(17.713954141319608, 127.62782608695652, 'gini = 0.0\\nsamples = 1\\nvalue = [0, 1]'),\n",
       " Text(22.60004445484324, 137.08173913043478, 'X[5] <= 0.217\\ngini = 0.497\\nsamples = 668\\nvalue = [360, 308]'),\n",
       " Text(19.625306504445483, 127.62782608695652, 'X[3] <= 0.048\\ngini = 0.5\\nsamples = 325\\nvalue = [166, 159]'),\n",
       " Text(18.57040711277492, 118.17391304347825, 'X[0] <= -0.727\\ngini = 0.497\\nsamples = 257\\nvalue = [138, 119]'),\n",
       " Text(17.881066916237717, 108.72, 'X[2] <= 2.426\\ngini = 0.5\\nsamples = 198\\nvalue = [101, 97]'),\n",
       " Text(17.546841366401498, 99.26608695652173, 'X[4] <= -1.2\\ngini = 0.5\\nsamples = 189\\nvalue = [94, 95]'),\n",
       " Text(17.129059429106224, 89.81217391304348, 'X[6] <= 0.336\\ngini = 0.499\\nsamples = 168\\nvalue = [81, 87]'),\n",
       " Text(16.794833879270005, 80.35826086956521, 'X[6] <= -0.424\\ngini = 0.5\\nsamples = 98\\nvalue = [50, 48]'),\n",
       " Text(16.627721104351895, 70.90434782608696, 'X[2] <= 1.272\\ngini = 0.496\\nsamples = 11\\nvalue = [5, 6]'),\n",
       " Text(16.54416471689284, 61.45043478260868, 'gini = 0.5\\nsamples = 10\\nvalue = [5, 5]'),\n",
       " Text(16.71127749181095, 61.45043478260868, 'gini = 0.0\\nsamples = 1\\nvalue = [0, 1]'),\n",
       " Text(16.961946654188115, 70.90434782608696, 'X[2] <= 1.272\\ngini = 0.499\\nsamples = 87\\nvalue = [45, 42]'),\n",
       " Text(16.87839026672906, 61.45043478260868, 'gini = 0.5\\nsamples = 63\\nvalue = [32, 31]'),\n",
       " Text(17.04550304164717, 61.45043478260868, 'gini = 0.497\\nsamples = 24\\nvalue = [13, 11]'),\n",
       " Text(17.463284978942443, 80.35826086956521, 'X[2] <= 1.272\\ngini = 0.493\\nsamples = 70\\nvalue = [31, 39]'),\n",
       " Text(17.296172204024334, 70.90434782608696, 'X[6] <= 1.095\\ngini = 0.495\\nsamples = 58\\nvalue = [26, 32]'),\n",
       " Text(17.21261581656528, 61.45043478260868, 'gini = 0.5\\nsamples = 18\\nvalue = [9, 9]'),\n",
       " Text(17.37972859148339, 61.45043478260868, 'gini = 0.489\\nsamples = 40\\nvalue = [17, 23]'),\n",
       " Text(17.630397753860553, 70.90434782608696, 'X[6] <= 1.095\\ngini = 0.486\\nsamples = 12\\nvalue = [5, 7]'),\n",
       " Text(17.546841366401498, 61.45043478260868, 'gini = 0.375\\nsamples = 4\\nvalue = [1, 3]'),\n",
       " Text(17.713954141319608, 61.45043478260868, 'gini = 0.5\\nsamples = 8\\nvalue = [4, 4]'),\n",
       " Text(17.964623303696772, 89.81217391304348, 'X[6] <= 1.095\\ngini = 0.472\\nsamples = 21\\nvalue = [13, 8]'),\n",
       " Text(17.881066916237717, 80.35826086956521, 'X[6] <= -0.424\\ngini = 0.494\\nsamples = 18\\nvalue = [10, 8]'),\n",
       " Text(17.797510528778663, 70.90434782608696, 'gini = 0.0\\nsamples = 2\\nvalue = [2, 0]'),\n",
       " Text(17.964623303696772, 70.90434782608696, 'X[2] <= 1.272\\ngini = 0.5\\nsamples = 16\\nvalue = [8, 8]'),\n",
       " Text(17.881066916237717, 61.45043478260868, 'X[6] <= 0.336\\ngini = 0.498\\nsamples = 15\\nvalue = [7, 8]'),\n",
       " Text(17.797510528778663, 51.99652173913043, 'gini = 0.496\\nsamples = 11\\nvalue = [5, 6]'),\n",
       " Text(17.964623303696772, 51.99652173913043, 'gini = 0.5\\nsamples = 4\\nvalue = [2, 2]'),\n",
       " Text(18.048179691155827, 61.45043478260868, 'gini = 0.0\\nsamples = 1\\nvalue = [1, 0]'),\n",
       " Text(18.048179691155827, 80.35826086956521, 'gini = 0.0\\nsamples = 3\\nvalue = [3, 0]'),\n",
       " Text(18.215292466073937, 99.26608695652173, 'X[2] <= 3.581\\ngini = 0.346\\nsamples = 9\\nvalue = [7, 2]'),\n",
       " Text(18.131736078614882, 89.81217391304348, 'gini = 0.0\\nsamples = 4\\nvalue = [4, 0]'),\n",
       " Text(18.29884885353299, 89.81217391304348, 'X[6] <= 0.336\\ngini = 0.48\\nsamples = 5\\nvalue = [3, 2]'),\n",
       " Text(18.215292466073937, 80.35826086956521, 'gini = 0.0\\nsamples = 1\\nvalue = [0, 1]'),\n",
       " Text(18.382405240992046, 80.35826086956521, 'X[6] <= 1.095\\ngini = 0.375\\nsamples = 4\\nvalue = [3, 1]'),\n",
       " Text(18.29884885353299, 70.90434782608696, 'gini = 0.0\\nsamples = 2\\nvalue = [2, 0]'),\n",
       " Text(18.4659616284511, 70.90434782608696, 'X[2] <= 6.467\\ngini = 0.5\\nsamples = 2\\nvalue = [1, 1]'),\n",
       " Text(18.382405240992046, 61.45043478260868, 'gini = 0.0\\nsamples = 1\\nvalue = [1, 0]'),\n",
       " Text(18.549518015910156, 61.45043478260868, 'gini = 0.0\\nsamples = 1\\nvalue = [0, 1]'),\n",
       " Text(19.259747309312118, 108.72, 'X[6] <= 1.095\\ngini = 0.468\\nsamples = 59\\nvalue = [37, 22]'),\n",
       " Text(19.176190921853063, 99.26608695652173, 'X[2] <= 1.272\\ngini = 0.456\\nsamples = 57\\nvalue = [37, 20]'),\n",
       " Text(18.967299953205426, 89.81217391304348, 'X[4] <= -1.2\\ngini = 0.408\\nsamples = 35\\nvalue = [25, 10]'),\n",
       " Text(18.88374356574637, 80.35826086956521, 'X[6] <= 0.336\\ngini = 0.397\\nsamples = 33\\nvalue = [24, 9]'),\n",
       " Text(18.800187178287317, 70.90434782608696, 'X[6] <= -0.424\\ngini = 0.404\\nsamples = 32\\nvalue = [23, 9]'),\n",
       " Text(18.716630790828262, 61.45043478260868, 'gini = 0.444\\nsamples = 9\\nvalue = [6, 3]'),\n",
       " Text(18.88374356574637, 61.45043478260868, 'gini = 0.386\\nsamples = 23\\nvalue = [17, 6]'),\n",
       " Text(18.967299953205426, 70.90434782608696, 'gini = 0.0\\nsamples = 1\\nvalue = [1, 0]'),\n",
       " Text(19.05085634066448, 80.35826086956521, 'gini = 0.5\\nsamples = 2\\nvalue = [1, 1]'),\n",
       " Text(19.3850818905007, 89.81217391304348, 'X[6] <= 0.336\\ngini = 0.496\\nsamples = 22\\nvalue = [12, 10]'),\n",
       " Text(19.301525503041645, 80.35826086956521, 'X[2] <= 6.467\\ngini = 0.499\\nsamples = 21\\nvalue = [11, 10]'),\n",
       " Text(19.21796911558259, 70.90434782608696, 'X[2] <= 2.426\\ngini = 0.5\\nsamples = 20\\nvalue = [10, 10]'),\n",
       " Text(19.05085634066448, 61.45043478260868, 'X[4] <= -1.2\\ngini = 0.497\\nsamples = 13\\nvalue = [7, 6]'),\n",
       " Text(18.967299953205426, 51.99652173913043, 'X[6] <= -0.424\\ngini = 0.5\\nsamples = 12\\nvalue = [6, 6]'),\n",
       " Text(18.88374356574637, 42.54260869565218, 'gini = 0.444\\nsamples = 6\\nvalue = [4, 2]'),\n",
       " Text(19.05085634066448, 42.54260869565218, 'gini = 0.444\\nsamples = 6\\nvalue = [2, 4]'),\n",
       " Text(19.134412728123536, 51.99652173913043, 'gini = 0.0\\nsamples = 1\\nvalue = [1, 0]'),\n",
       " Text(19.3850818905007, 61.45043478260868, 'X[4] <= -1.2\\ngini = 0.49\\nsamples = 7\\nvalue = [3, 4]'),\n",
       " Text(19.301525503041645, 51.99652173913043, 'X[2] <= 3.581\\ngini = 0.5\\nsamples = 6\\nvalue = [3, 3]'),\n",
       " Text(19.21796911558259, 42.54260869565218, 'gini = 0.48\\nsamples = 5\\nvalue = [2, 3]'),\n",
       " Text(19.3850818905007, 42.54260869565218, 'gini = 0.0\\nsamples = 1\\nvalue = [1, 0]'),\n",
       " Text(19.468638277959755, 51.99652173913043, 'gini = 0.0\\nsamples = 1\\nvalue = [0, 1]'),\n",
       " Text(19.3850818905007, 70.90434782608696, 'gini = 0.0\\nsamples = 1\\nvalue = [1, 0]'),\n",
       " Text(19.468638277959755, 80.35826086956521, 'gini = 0.0\\nsamples = 1\\nvalue = [1, 0]'),\n",
       " Text(19.343303696771173, 99.26608695652173, 'gini = 0.0\\nsamples = 2\\nvalue = [0, 2]'),\n",
       " Text(20.68020589611605, 118.17391304347825, 'X[6] <= 0.336\\ngini = 0.484\\nsamples = 68\\nvalue = [28, 40]'),\n",
       " Text(20.22064576509125, 108.72, 'X[2] <= 6.467\\ngini = 0.457\\nsamples = 51\\nvalue = [18, 33]'),\n",
       " Text(20.137089377632194, 99.26608695652173, 'X[0] <= -0.727\\ngini = 0.449\\nsamples = 50\\nvalue = [17, 33]'),\n",
       " Text(19.802863827795974, 89.81217391304348, 'X[2] <= 1.272\\ngini = 0.493\\nsamples = 25\\nvalue = [11, 14]'),\n",
       " Text(19.635751052877865, 80.35826086956521, 'X[6] <= -0.424\\ngini = 0.5\\nsamples = 20\\nvalue = [10, 10]'),\n",
       " Text(19.55219466541881, 70.90434782608696, 'gini = 0.0\\nsamples = 1\\nvalue = [1, 0]'),\n",
       " Text(19.71930744033692, 70.90434782608696, 'X[4] <= -1.2\\ngini = 0.499\\nsamples = 19\\nvalue = [9, 10]'),\n",
       " Text(19.635751052877865, 61.45043478260868, 'gini = 0.498\\nsamples = 17\\nvalue = [8, 9]'),\n",
       " Text(19.802863827795974, 61.45043478260868, 'gini = 0.5\\nsamples = 2\\nvalue = [1, 1]'),\n",
       " Text(19.969976602714084, 80.35826086956521, 'X[2] <= 2.426\\ngini = 0.32\\nsamples = 5\\nvalue = [1, 4]'),\n",
       " Text(19.88642021525503, 70.90434782608696, 'gini = 0.375\\nsamples = 4\\nvalue = [1, 3]'),\n",
       " Text(20.05353299017314, 70.90434782608696, 'gini = 0.0\\nsamples = 1\\nvalue = [0, 1]'),\n",
       " Text(20.471314927468413, 89.81217391304348, 'X[4] <= -1.2\\ngini = 0.365\\nsamples = 25\\nvalue = [6, 19]'),\n",
       " Text(20.387758540009358, 80.35826086956521, 'X[2] <= 1.272\\ngini = 0.375\\nsamples = 24\\nvalue = [6, 18]'),\n",
       " Text(20.22064576509125, 70.90434782608696, 'X[6] <= -0.424\\ngini = 0.401\\nsamples = 18\\nvalue = [5, 13]'),\n",
       " Text(20.137089377632194, 61.45043478260868, 'gini = 0.444\\nsamples = 3\\nvalue = [1, 2]'),\n",
       " Text(20.304202152550303, 61.45043478260868, 'gini = 0.391\\nsamples = 15\\nvalue = [4, 11]'),\n",
       " Text(20.554871314927468, 70.90434782608696, 'X[2] <= 3.004\\ngini = 0.278\\nsamples = 6\\nvalue = [1, 5]'),\n",
       " Text(20.471314927468413, 61.45043478260868, 'gini = 0.0\\nsamples = 2\\nvalue = [0, 2]'),\n",
       " Text(20.638427702386522, 61.45043478260868, 'X[6] <= -0.424\\ngini = 0.375\\nsamples = 4\\nvalue = [1, 3]'),\n",
       " Text(20.554871314927468, 51.99652173913043, 'gini = 0.0\\nsamples = 1\\nvalue = [0, 1]'),\n",
       " Text(20.721984089845577, 51.99652173913043, 'gini = 0.444\\nsamples = 3\\nvalue = [1, 2]'),\n",
       " Text(20.554871314927468, 80.35826086956521, 'gini = 0.0\\nsamples = 1\\nvalue = [0, 1]'),\n",
       " Text(20.304202152550303, 99.26608695652173, 'gini = 0.0\\nsamples = 1\\nvalue = [1, 0]'),\n",
       " Text(21.13976602714085, 108.72, 'X[2] <= 3.581\\ngini = 0.484\\nsamples = 17\\nvalue = [10, 7]'),\n",
       " Text(21.056209639681796, 99.26608695652173, 'X[2] <= 1.272\\ngini = 0.498\\nsamples = 15\\nvalue = [8, 7]'),\n",
       " Text(20.97265325222274, 89.81217391304348, 'X[6] <= 1.095\\ngini = 0.473\\nsamples = 13\\nvalue = [8, 5]'),\n",
       " Text(20.805540477304632, 80.35826086956521, 'X[0] <= -0.727\\ngini = 0.48\\nsamples = 5\\nvalue = [2, 3]'),\n",
       " Text(20.721984089845577, 70.90434782608696, 'gini = 0.5\\nsamples = 4\\nvalue = [2, 2]'),\n",
       " Text(20.889096864763687, 70.90434782608696, 'gini = 0.0\\nsamples = 1\\nvalue = [0, 1]'),\n",
       " Text(21.13976602714085, 80.35826086956521, 'X[0] <= -0.727\\ngini = 0.375\\nsamples = 8\\nvalue = [6, 2]'),\n",
       " Text(21.056209639681796, 70.90434782608696, 'gini = 0.48\\nsamples = 5\\nvalue = [3, 2]'),\n",
       " Text(21.223322414599906, 70.90434782608696, 'gini = 0.0\\nsamples = 3\\nvalue = [3, 0]'),\n",
       " Text(21.13976602714085, 89.81217391304348, 'gini = 0.0\\nsamples = 2\\nvalue = [0, 2]'),\n",
       " Text(21.223322414599906, 99.26608695652173, 'gini = 0.0\\nsamples = 2\\nvalue = [2, 0]'),\n",
       " Text(25.574782405240992, 127.62782608695652, 'X[6] <= 0.336\\ngini = 0.491\\nsamples = 343\\nvalue = [194, 149]'),\n",
       " Text(23.852737482452035, 118.17391304347825, 'X[5] <= 0.951\\ngini = 0.498\\nsamples = 206\\nvalue = [110, 96]'),\n",
       " Text(22.690781469349556, 108.72, 'X[3] <= 0.048\\ngini = 0.499\\nsamples = 143\\nvalue = [69, 74]'),\n",
       " Text(21.902218062704726, 99.26608695652173, 'X[6] <= -0.424\\ngini = 0.5\\nsamples = 110\\nvalue = [56, 54]'),\n",
       " Text(21.557547964436125, 89.81217391304348, 'X[2] <= 1.272\\ngini = 0.472\\nsamples = 21\\nvalue = [8, 13]'),\n",
       " Text(21.47399157697707, 80.35826086956521, 'X[4] <= -1.2\\ngini = 0.401\\nsamples = 18\\nvalue = [5, 13]'),\n",
       " Text(21.390435189518016, 70.90434782608696, 'X[0] <= -0.727\\ngini = 0.32\\nsamples = 15\\nvalue = [3, 12]'),\n",
       " Text(21.30687880205896, 61.45043478260868, 'gini = 0.346\\nsamples = 9\\nvalue = [2, 7]'),\n",
       " Text(21.47399157697707, 61.45043478260868, 'gini = 0.278\\nsamples = 6\\nvalue = [1, 5]'),\n",
       " Text(21.557547964436125, 70.90434782608696, 'gini = 0.444\\nsamples = 3\\nvalue = [2, 1]'),\n",
       " Text(21.64110435189518, 80.35826086956521, 'gini = 0.0\\nsamples = 3\\nvalue = [3, 0]'),\n",
       " Text(22.246888160973327, 89.81217391304348, 'X[2] <= 2.426\\ngini = 0.497\\nsamples = 89\\nvalue = [48, 41]'),\n",
       " Text(22.017108095460927, 80.35826086956521, 'X[2] <= 1.272\\ngini = 0.493\\nsamples = 84\\nvalue = [47, 37]'),\n",
       " Text(21.80821712681329, 70.90434782608696, 'X[4] <= -1.2\\ngini = 0.497\\nsamples = 72\\nvalue = [39, 33]'),\n",
       " Text(21.64110435189518, 61.45043478260868, 'X[0] <= -0.727\\ngini = 0.492\\nsamples = 57\\nvalue = [32, 25]'),\n",
       " Text(21.557547964436125, 51.99652173913043, 'gini = 0.491\\nsamples = 44\\nvalue = [25, 19]'),\n",
       " Text(21.724660739354235, 51.99652173913043, 'gini = 0.497\\nsamples = 13\\nvalue = [7, 6]'),\n",
       " Text(21.9753299017314, 61.45043478260868, 'X[0] <= -0.727\\ngini = 0.498\\nsamples = 15\\nvalue = [7, 8]'),\n",
       " Text(21.891773514272344, 51.99652173913043, 'gini = 0.486\\nsamples = 12\\nvalue = [5, 7]'),\n",
       " Text(22.058886289190454, 51.99652173913043, 'gini = 0.444\\nsamples = 3\\nvalue = [2, 1]'),\n",
       " Text(22.225999064108564, 70.90434782608696, 'X[0] <= -0.727\\ngini = 0.444\\nsamples = 12\\nvalue = [8, 4]'),\n",
       " Text(22.14244267664951, 61.45043478260868, 'gini = 0.48\\nsamples = 10\\nvalue = [6, 4]'),\n",
       " Text(22.30955545156762, 61.45043478260868, 'gini = 0.0\\nsamples = 2\\nvalue = [2, 0]'),\n",
       " Text(22.476668226485728, 80.35826086956521, 'X[2] <= 3.581\\ngini = 0.32\\nsamples = 5\\nvalue = [1, 4]'),\n",
       " Text(22.393111839026673, 70.90434782608696, 'gini = 0.0\\nsamples = 2\\nvalue = [0, 2]'),\n",
       " Text(22.560224613944783, 70.90434782608696, 'X[0] <= -0.727\\ngini = 0.444\\nsamples = 3\\nvalue = [1, 2]'),\n",
       " Text(22.476668226485728, 61.45043478260868, 'gini = 0.5\\nsamples = 2\\nvalue = [1, 1]'),\n",
       " Text(22.643781001403838, 61.45043478260868, 'gini = 0.0\\nsamples = 1\\nvalue = [0, 1]'),\n",
       " Text(23.479344875994386, 99.26608695652173, 'X[2] <= 3.581\\ngini = 0.478\\nsamples = 33\\nvalue = [13, 20]'),\n",
       " Text(23.39578848853533, 89.81217391304348, 'X[2] <= 2.426\\ngini = 0.469\\nsamples = 32\\nvalue = [12, 20]'),\n",
       " Text(23.145119326158166, 80.35826086956521, 'X[0] <= -0.727\\ngini = 0.464\\nsamples = 30\\nvalue = [11, 19]'),\n",
       " Text(22.894450163781002, 70.90434782608696, 'X[6] <= -0.424\\ngini = 0.43\\nsamples = 16\\nvalue = [5, 11]'),\n",
       " Text(22.810893776321947, 61.45043478260868, 'gini = 0.0\\nsamples = 2\\nvalue = [0, 2]'),\n",
       " Text(22.978006551240057, 61.45043478260868, 'X[4] <= -1.2\\ngini = 0.459\\nsamples = 14\\nvalue = [5, 9]'),\n",
       " Text(22.894450163781002, 51.99652173913043, 'X[2] <= 1.272\\ngini = 0.473\\nsamples = 13\\nvalue = [5, 8]'),\n",
       " Text(22.810893776321947, 42.54260869565218, 'gini = 0.48\\nsamples = 10\\nvalue = [4, 6]'),\n",
       " Text(22.978006551240057, 42.54260869565218, 'gini = 0.444\\nsamples = 3\\nvalue = [1, 2]'),\n",
       " Text(23.06156293869911, 51.99652173913043, 'gini = 0.0\\nsamples = 1\\nvalue = [0, 1]'),\n",
       " Text(23.39578848853533, 70.90434782608696, 'X[4] <= -1.2\\ngini = 0.49\\nsamples = 14\\nvalue = [6, 8]'),\n",
       " Text(23.312232101076276, 61.45043478260868, 'X[6] <= -0.424\\ngini = 0.473\\nsamples = 13\\nvalue = [5, 8]'),\n",
       " Text(23.22867571361722, 51.99652173913043, 'gini = 0.444\\nsamples = 3\\nvalue = [2, 1]'),\n",
       " Text(23.39578848853533, 51.99652173913043, 'gini = 0.42\\nsamples = 10\\nvalue = [3, 7]'),\n",
       " Text(23.479344875994386, 61.45043478260868, 'gini = 0.0\\nsamples = 1\\nvalue = [1, 0]'),\n",
       " Text(23.646457650912495, 80.35826086956521, 'X[0] <= -0.727\\ngini = 0.5\\nsamples = 2\\nvalue = [1, 1]'),\n",
       " Text(23.56290126345344, 70.90434782608696, 'gini = 0.0\\nsamples = 1\\nvalue = [1, 0]'),\n",
       " Text(23.73001403837155, 70.90434782608696, 'gini = 0.0\\nsamples = 1\\nvalue = [0, 1]'),\n",
       " Text(23.56290126345344, 89.81217391304348, 'gini = 0.0\\nsamples = 1\\nvalue = [1, 0]'),\n",
       " Text(25.014693495554514, 108.72, 'X[0] <= -0.727\\ngini = 0.455\\nsamples = 63\\nvalue = [41, 22]'),\n",
       " Text(24.54468881609733, 99.26608695652173, 'X[5] <= 1.685\\ngini = 0.485\\nsamples = 41\\nvalue = [24, 17]'),\n",
       " Text(24.461132428638276, 89.81217391304348, 'X[2] <= 2.426\\ngini = 0.48\\nsamples = 40\\nvalue = [24, 16]'),\n",
       " Text(24.189574169396348, 80.35826086956521, 'X[4] <= -1.2\\ngini = 0.49\\nsamples = 35\\nvalue = [20, 15]'),\n",
       " Text(23.89712681328966, 70.90434782608696, 'X[2] <= 1.272\\ngini = 0.463\\nsamples = 22\\nvalue = [14, 8]'),\n",
       " Text(23.73001403837155, 61.45043478260868, 'X[3] <= 0.048\\ngini = 0.457\\nsamples = 17\\nvalue = [11, 6]'),\n",
       " Text(23.646457650912495, 51.99652173913043, 'gini = 0.48\\nsamples = 15\\nvalue = [9, 6]'),\n",
       " Text(23.813570425830605, 51.99652173913043, 'gini = 0.0\\nsamples = 2\\nvalue = [2, 0]'),\n",
       " Text(24.06423958820777, 61.45043478260868, 'X[3] <= 0.048\\ngini = 0.48\\nsamples = 5\\nvalue = [3, 2]'),\n",
       " Text(23.980683200748715, 51.99652173913043, 'gini = 0.375\\nsamples = 4\\nvalue = [3, 1]'),\n",
       " Text(24.14779597566682, 51.99652173913043, 'gini = 0.0\\nsamples = 1\\nvalue = [0, 1]'),\n",
       " Text(24.48202152550304, 70.90434782608696, 'X[3] <= 0.048\\ngini = 0.497\\nsamples = 13\\nvalue = [6, 7]'),\n",
       " Text(24.398465138043985, 61.45043478260868, 'X[6] <= -0.424\\ngini = 0.5\\nsamples = 12\\nvalue = [6, 6]'),\n",
       " Text(24.31490875058493, 51.99652173913043, 'gini = 0.444\\nsamples = 3\\nvalue = [2, 1]'),\n",
       " Text(24.48202152550304, 51.99652173913043, 'gini = 0.494\\nsamples = 9\\nvalue = [4, 5]'),\n",
       " Text(24.565577912962095, 61.45043478260868, 'gini = 0.0\\nsamples = 1\\nvalue = [0, 1]'),\n",
       " Text(24.732690687880204, 80.35826086956521, 'X[3] <= 0.048\\ngini = 0.32\\nsamples = 5\\nvalue = [4, 1]'),\n",
       " Text(24.64913430042115, 70.90434782608696, 'gini = 0.0\\nsamples = 2\\nvalue = [2, 0]'),\n",
       " Text(24.81624707533926, 70.90434782608696, 'X[2] <= 3.581\\ngini = 0.444\\nsamples = 3\\nvalue = [2, 1]'),\n",
       " Text(24.732690687880204, 61.45043478260868, 'X[4] <= -1.2\\ngini = 0.5\\nsamples = 2\\nvalue = [1, 1]'),\n",
       " Text(24.64913430042115, 51.99652173913043, 'gini = 0.0\\nsamples = 1\\nvalue = [0, 1]'),\n",
       " Text(24.81624707533926, 51.99652173913043, 'gini = 0.0\\nsamples = 1\\nvalue = [1, 0]'),\n",
       " Text(24.899803462798314, 61.45043478260868, 'gini = 0.0\\nsamples = 1\\nvalue = [1, 0]'),\n",
       " Text(24.628245203556386, 89.81217391304348, 'gini = 0.0\\nsamples = 1\\nvalue = [0, 1]'),\n",
       " Text(25.484698175011697, 99.26608695652173, 'X[3] <= 0.048\\ngini = 0.351\\nsamples = 22\\nvalue = [17, 5]'),\n",
       " Text(25.401141787552643, 89.81217391304348, 'X[4] <= -1.2\\ngini = 0.388\\nsamples = 19\\nvalue = [14, 5]'),\n",
       " Text(25.317585400093588, 80.35826086956521, 'X[6] <= -0.424\\ngini = 0.415\\nsamples = 17\\nvalue = [12, 5]'),\n",
       " Text(25.150472625175478, 70.90434782608696, 'X[2] <= 1.272\\ngini = 0.5\\nsamples = 4\\nvalue = [2, 2]'),\n",
       " Text(25.066916237716423, 61.45043478260868, 'gini = 0.444\\nsamples = 3\\nvalue = [2, 1]'),\n",
       " Text(25.234029012634533, 61.45043478260868, 'gini = 0.0\\nsamples = 1\\nvalue = [0, 1]'),\n",
       " Text(25.484698175011697, 70.90434782608696, 'X[2] <= 1.272\\ngini = 0.355\\nsamples = 13\\nvalue = [10, 3]'),\n",
       " Text(25.401141787552643, 61.45043478260868, 'gini = 0.42\\nsamples = 10\\nvalue = [7, 3]'),\n",
       " Text(25.568254562470752, 61.45043478260868, 'gini = 0.0\\nsamples = 3\\nvalue = [3, 0]'),\n",
       " Text(25.484698175011697, 80.35826086956521, 'gini = 0.0\\nsamples = 2\\nvalue = [2, 0]'),\n",
       " Text(25.568254562470752, 89.81217391304348, 'gini = 0.0\\nsamples = 3\\nvalue = [3, 0]'),\n",
       " Text(27.29682732802995, 118.17391304347825, 'X[6] <= 1.095\\ngini = 0.474\\nsamples = 137\\nvalue = [84, 53]'),\n",
       " Text(26.550042115114646, 108.72, 'X[5] <= 0.951\\ngini = 0.425\\nsamples = 49\\nvalue = [34, 15]'),\n",
       " Text(26.194927468413663, 99.26608695652173, 'X[2] <= 1.272\\ngini = 0.405\\nsamples = 46\\nvalue = [33, 13]'),\n",
       " Text(25.986036499766026, 89.81217391304348, 'X[0] <= -0.727\\ngini = 0.437\\nsamples = 31\\nvalue = [21, 10]'),\n",
       " Text(25.90248011230697, 80.35826086956521, 'X[4] <= -1.2\\ngini = 0.459\\nsamples = 28\\nvalue = [18, 10]'),\n",
       " Text(25.818923724847917, 70.90434782608696, 'X[3] <= 0.048\\ngini = 0.454\\nsamples = 23\\nvalue = [15, 8]'),\n",
       " Text(25.735367337388862, 61.45043478260868, 'gini = 0.457\\nsamples = 17\\nvalue = [11, 6]'),\n",
       " Text(25.90248011230697, 61.45043478260868, 'gini = 0.444\\nsamples = 6\\nvalue = [4, 2]'),\n",
       " Text(25.986036499766026, 70.90434782608696, 'gini = 0.48\\nsamples = 5\\nvalue = [3, 2]'),\n",
       " Text(26.06959288722508, 80.35826086956521, 'gini = 0.0\\nsamples = 3\\nvalue = [3, 0]'),\n",
       " Text(26.4038184370613, 89.81217391304348, 'X[0] <= -0.727\\ngini = 0.32\\nsamples = 15\\nvalue = [12, 3]'),\n",
       " Text(26.23670566214319, 80.35826086956521, 'X[3] <= 0.048\\ngini = 0.153\\nsamples = 12\\nvalue = [11, 1]'),\n",
       " Text(26.153149274684136, 70.90434782608696, 'X[4] <= -1.2\\ngini = 0.219\\nsamples = 8\\nvalue = [7, 1]'),\n",
       " Text(26.06959288722508, 61.45043478260868, 'gini = 0.245\\nsamples = 7\\nvalue = [6, 1]'),\n",
       " Text(26.23670566214319, 61.45043478260868, 'gini = 0.0\\nsamples = 1\\nvalue = [1, 0]'),\n",
       " Text(26.320262049602245, 70.90434782608696, 'gini = 0.0\\nsamples = 4\\nvalue = [4, 0]'),\n",
       " Text(26.57093121197941, 80.35826086956521, 'X[2] <= 2.426\\ngini = 0.444\\nsamples = 3\\nvalue = [1, 2]'),\n",
       " Text(26.487374824520355, 70.90434782608696, 'gini = 0.0\\nsamples = 1\\nvalue = [0, 1]'),\n",
       " Text(26.654487599438465, 70.90434782608696, 'X[3] <= 0.048\\ngini = 0.5\\nsamples = 2\\nvalue = [1, 1]'),\n",
       " Text(26.57093121197941, 61.45043478260868, 'gini = 0.0\\nsamples = 1\\nvalue = [1, 0]'),\n",
       " Text(26.73804398689752, 61.45043478260868, 'gini = 0.0\\nsamples = 1\\nvalue = [0, 1]'),\n",
       " Text(26.90515676181563, 99.26608695652173, 'X[3] <= 0.048\\ngini = 0.444\\nsamples = 3\\nvalue = [1, 2]'),\n",
       " Text(26.821600374356574, 89.81217391304348, 'X[0] <= -0.727\\ngini = 0.5\\nsamples = 2\\nvalue = [1, 1]'),\n",
       " Text(26.73804398689752, 80.35826086956521, 'gini = 0.0\\nsamples = 1\\nvalue = [1, 0]'),\n",
       " Text(26.90515676181563, 80.35826086956521, 'gini = 0.0\\nsamples = 1\\nvalue = [0, 1]'),\n",
       " Text(26.988713149274684, 89.81217391304348, 'gini = 0.0\\nsamples = 1\\nvalue = [0, 1]'),\n",
       " Text(28.04361254094525, 108.72, 'X[3] <= 0.048\\ngini = 0.491\\nsamples = 88\\nvalue = [50, 38]'),\n",
       " Text(27.678053345811886, 99.26608695652173, 'X[2] <= 1.272\\ngini = 0.5\\nsamples = 68\\nvalue = [35, 33]'),\n",
       " Text(27.36471689284043, 89.81217391304348, 'X[0] <= -0.727\\ngini = 0.492\\nsamples = 57\\nvalue = [32, 25]'),\n",
       " Text(27.155825924192794, 80.35826086956521, 'X[5] <= 0.951\\ngini = 0.494\\nsamples = 54\\nvalue = [30, 24]'),\n",
       " Text(26.988713149274684, 70.90434782608696, 'X[4] <= -1.2\\ngini = 0.493\\nsamples = 41\\nvalue = [23, 18]'),\n",
       " Text(26.90515676181563, 61.45043478260868, 'gini = 0.493\\nsamples = 34\\nvalue = [19, 15]'),\n",
       " Text(27.07226953673374, 61.45043478260868, 'gini = 0.49\\nsamples = 7\\nvalue = [4, 3]'),\n",
       " Text(27.322938699110903, 70.90434782608696, 'X[4] <= -1.2\\ngini = 0.497\\nsamples = 13\\nvalue = [7, 6]'),\n",
       " Text(27.23938231165185, 61.45043478260868, 'gini = 0.49\\nsamples = 7\\nvalue = [4, 3]'),\n",
       " Text(27.406495086569958, 61.45043478260868, 'gini = 0.5\\nsamples = 6\\nvalue = [3, 3]'),\n",
       " Text(27.573607861488068, 80.35826086956521, 'X[4] <= -1.2\\ngini = 0.444\\nsamples = 3\\nvalue = [2, 1]'),\n",
       " Text(27.490051474029013, 70.90434782608696, 'gini = 0.5\\nsamples = 2\\nvalue = [1, 1]'),\n",
       " Text(27.657164248947122, 70.90434782608696, 'gini = 0.0\\nsamples = 1\\nvalue = [1, 0]'),\n",
       " Text(27.99138979878334, 89.81217391304348, 'X[5] <= 0.951\\ngini = 0.397\\nsamples = 11\\nvalue = [3, 8]'),\n",
       " Text(27.907833411324287, 80.35826086956521, 'X[2] <= 2.426\\ngini = 0.49\\nsamples = 7\\nvalue = [3, 4]'),\n",
       " Text(27.824277023865232, 70.90434782608696, 'gini = 0.375\\nsamples = 4\\nvalue = [1, 3]'),\n",
       " Text(27.99138979878334, 70.90434782608696, 'gini = 0.444\\nsamples = 3\\nvalue = [2, 1]'),\n",
       " Text(28.074946186242396, 80.35826086956521, 'gini = 0.0\\nsamples = 4\\nvalue = [0, 4]'),\n",
       " Text(28.409171736078616, 99.26608695652173, 'X[5] <= 0.951\\ngini = 0.375\\nsamples = 20\\nvalue = [15, 5]'),\n",
       " Text(28.32561534861956, 89.81217391304348, 'X[0] <= -0.727\\ngini = 0.415\\nsamples = 17\\nvalue = [12, 5]'),\n",
       " Text(28.242058961160506, 80.35826086956521, 'X[4] <= -1.2\\ngini = 0.459\\nsamples = 14\\nvalue = [9, 5]'),\n",
       " Text(28.15850257370145, 70.90434782608696, 'X[2] <= 1.849\\ngini = 0.426\\nsamples = 13\\nvalue = [9, 4]'),\n",
       " Text(28.074946186242396, 61.45043478260868, 'gini = 0.444\\nsamples = 12\\nvalue = [8, 4]'),\n",
       " Text(28.242058961160506, 61.45043478260868, 'gini = 0.0\\nsamples = 1\\nvalue = [1, 0]'),\n",
       " Text(28.32561534861956, 70.90434782608696, 'gini = 0.0\\nsamples = 1\\nvalue = [0, 1]'),\n",
       " Text(28.409171736078616, 80.35826086956521, 'gini = 0.0\\nsamples = 3\\nvalue = [3, 0]'),\n",
       " Text(28.49272812353767, 89.81217391304348, 'gini = 0.0\\nsamples = 3\\nvalue = [3, 0]'),\n",
       " Text(31.900262049602247, 155.98956521739132, 'X[2] <= 3.581\\ngini = 0.468\\nsamples = 279\\nvalue = [175, 104]'),\n",
       " Text(31.816705662143193, 146.53565217391304, 'X[5] <= 0.951\\ngini = 0.47\\nsamples = 276\\nvalue = [172, 104]'),\n",
       " Text(30.753972859148337, 137.08173913043478, 'X[4] <= -1.2\\ngini = 0.465\\nsamples = 245\\nvalue = [155, 90]'),\n",
       " Text(29.86096396817969, 127.62782608695652, 'X[3] <= 5.314\\ngini = 0.476\\nsamples = 226\\nvalue = [138, 88]'),\n",
       " Text(29.69385119326158, 118.17391304347825, 'X[3] <= 4.261\\ngini = 0.478\\nsamples = 220\\nvalue = [133, 87]'),\n",
       " Text(29.610294805802525, 108.72, 'X[6] <= -0.424\\ngini = 0.476\\nsamples = 218\\nvalue = [133, 85]'),\n",
       " Text(28.743397285914835, 99.26608695652173, 'X[2] <= 1.272\\ngini = 0.375\\nsamples = 4\\nvalue = [1, 3]'),\n",
       " Text(28.65984089845578, 89.81217391304348, 'X[5] <= 0.217\\ngini = 0.5\\nsamples = 2\\nvalue = [1, 1]'),\n",
       " Text(28.576284510996725, 80.35826086956521, 'gini = 0.0\\nsamples = 1\\nvalue = [0, 1]'),\n",
       " Text(28.743397285914835, 80.35826086956521, 'gini = 0.0\\nsamples = 1\\nvalue = [1, 0]'),\n",
       " Text(28.82695367337389, 89.81217391304348, 'gini = 0.0\\nsamples = 2\\nvalue = [0, 2]'),\n",
       " Text(30.47719232569022, 99.26608695652173, 'X[2] <= 1.272\\ngini = 0.473\\nsamples = 214\\nvalue = [132, 82]'),\n",
       " Text(29.64162845109967, 89.81217391304348, 'X[6] <= 1.095\\ngini = 0.479\\nsamples = 191\\nvalue = [115, 76]'),\n",
       " Text(28.910510060832944, 80.35826086956521, 'X[5] <= 0.217\\ngini = 0.491\\nsamples = 109\\nvalue = [62, 47]'),\n",
       " Text(28.59717360786149, 70.90434782608696, 'X[3] <= 3.208\\ngini = 0.5\\nsamples = 66\\nvalue = [33, 33]'),\n",
       " Text(28.513617220402434, 61.45043478260868, 'X[3] <= 2.155\\ngini = 0.5\\nsamples = 65\\nvalue = [32, 33]'),\n",
       " Text(28.43006083294338, 51.99652173913043, 'X[5] <= -1.251\\ngini = 0.5\\nsamples = 61\\nvalue = [31, 30]'),\n",
       " Text(28.137613476836687, 42.54260869565218, 'X[5] <= -1.985\\ngini = 0.488\\nsamples = 19\\nvalue = [11, 8]'),\n",
       " Text(28.054057089377633, 33.0886956521739, 'X[6] <= 0.336\\ngini = 0.494\\nsamples = 18\\nvalue = [10, 8]'),\n",
       " Text(27.886944314459523, 23.634782608695645, 'X[5] <= -2.719\\ngini = 0.5\\nsamples = 12\\nvalue = [6, 6]'),\n",
       " Text(27.80338792700047, 14.180869565217392, 'gini = 0.5\\nsamples = 2\\nvalue = [1, 1]'),\n",
       " Text(27.970500701918578, 14.180869565217392, 'X[0] <= -0.727\\ngini = 0.5\\nsamples = 10\\nvalue = [5, 5]'),\n",
       " Text(27.886944314459523, 4.726956521739112, 'gini = 0.5\\nsamples = 6\\nvalue = [3, 3]'),\n",
       " Text(28.054057089377633, 4.726956521739112, 'gini = 0.5\\nsamples = 4\\nvalue = [2, 2]'),\n",
       " Text(28.221169864295742, 23.634782608695645, 'X[5] <= -2.719\\ngini = 0.444\\nsamples = 6\\nvalue = [4, 2]'),\n",
       " Text(28.137613476836687, 14.180869565217392, 'gini = 0.0\\nsamples = 1\\nvalue = [1, 0]'),\n",
       " Text(28.304726251754797, 14.180869565217392, 'X[0] <= -0.727\\ngini = 0.48\\nsamples = 5\\nvalue = [3, 2]'),\n",
       " Text(28.221169864295742, 4.726956521739112, 'gini = 0.5\\nsamples = 4\\nvalue = [2, 2]'),\n",
       " Text(28.388282639213852, 4.726956521739112, 'gini = 0.0\\nsamples = 1\\nvalue = [1, 0]'),\n",
       " Text(28.221169864295742, 33.0886956521739, 'gini = 0.0\\nsamples = 1\\nvalue = [1, 0]'),\n",
       " Text(28.72250818905007, 42.54260869565218, 'X[0] <= -0.727\\ngini = 0.499\\nsamples = 42\\nvalue = [20, 22]'),\n",
       " Text(28.638951801591016, 33.0886956521739, 'X[6] <= 0.336\\ngini = 0.5\\nsamples = 40\\nvalue = [20, 20]'),\n",
       " Text(28.55539541413196, 23.634782608695645, 'X[5] <= -0.517\\ngini = 0.495\\nsamples = 29\\nvalue = [16, 13]'),\n",
       " Text(28.471839026672907, 14.180869565217392, 'gini = 0.0\\nsamples = 1\\nvalue = [0, 1]'),\n",
       " Text(28.638951801591016, 14.180869565217392, 'gini = 0.49\\nsamples = 28\\nvalue = [16, 12]'),\n",
       " Text(28.72250818905007, 23.634782608695645, 'gini = 0.463\\nsamples = 11\\nvalue = [4, 7]'),\n",
       " Text(28.806064576509126, 33.0886956521739, 'gini = 0.0\\nsamples = 2\\nvalue = [0, 2]'),\n",
       " Text(28.59717360786149, 51.99652173913043, 'gini = 0.375\\nsamples = 4\\nvalue = [1, 3]'),\n",
       " Text(28.680729995320544, 61.45043478260868, 'gini = 0.0\\nsamples = 1\\nvalue = [1, 0]'),\n",
       " Text(29.2238465138044, 70.90434782608696, 'X[6] <= 0.336\\ngini = 0.439\\nsamples = 43\\nvalue = [29, 14]'),\n",
       " Text(29.05673373888629, 61.45043478260868, 'X[3] <= 2.155\\ngini = 0.397\\nsamples = 22\\nvalue = [16, 6]'),\n",
       " Text(28.973177351427235, 51.99652173913043, 'X[0] <= -0.727\\ngini = 0.42\\nsamples = 20\\nvalue = [14, 6]'),\n",
       " Text(28.88962096396818, 42.54260869565218, 'gini = 0.391\\nsamples = 15\\nvalue = [11, 4]'),\n",
       " Text(29.05673373888629, 42.54260869565218, 'gini = 0.48\\nsamples = 5\\nvalue = [3, 2]'),\n",
       " Text(29.140290126345345, 51.99652173913043, 'gini = 0.0\\nsamples = 2\\nvalue = [2, 0]'),\n",
       " Text(29.39095928872251, 61.45043478260868, 'X[3] <= 2.155\\ngini = 0.472\\nsamples = 21\\nvalue = [13, 8]'),\n",
       " Text(29.307402901263455, 51.99652173913043, 'gini = 0.444\\nsamples = 18\\nvalue = [12, 6]'),\n",
       " Text(29.47451567618156, 51.99652173913043, 'gini = 0.444\\nsamples = 3\\nvalue = [1, 2]'),\n",
       " Text(30.3727468413664, 80.35826086956521, 'X[5] <= 0.217\\ngini = 0.457\\nsamples = 82\\nvalue = [53, 29]'),\n",
       " Text(30.017632194665417, 70.90434782608696, 'X[0] <= -0.727\\ngini = 0.413\\nsamples = 48\\nvalue = [34, 14]'),\n",
       " Text(29.725184838558725, 61.45043478260868, 'X[5] <= -2.719\\ngini = 0.381\\nsamples = 43\\nvalue = [32, 11]'),\n",
       " Text(29.64162845109967, 51.99652173913043, 'gini = 0.0\\nsamples = 3\\nvalue = [3, 0]'),\n",
       " Text(29.80874122601778, 51.99652173913043, 'X[5] <= -0.884\\ngini = 0.399\\nsamples = 40\\nvalue = [29, 11]'),\n",
       " Text(29.64162845109967, 42.54260869565218, 'X[5] <= -1.985\\ngini = 0.49\\nsamples = 7\\nvalue = [4, 3]'),\n",
       " Text(29.558072063640616, 33.0886956521739, 'gini = 0.375\\nsamples = 4\\nvalue = [3, 1]'),\n",
       " Text(29.725184838558725, 33.0886956521739, 'gini = 0.444\\nsamples = 3\\nvalue = [1, 2]'),\n",
       " Text(29.97585400093589, 42.54260869565218, 'X[3] <= 2.681\\ngini = 0.367\\nsamples = 33\\nvalue = [25, 8]'),\n",
       " Text(29.892297613476835, 33.0886956521739, 'gini = 0.375\\nsamples = 32\\nvalue = [24, 8]'),\n",
       " Text(30.059410388394944, 33.0886956521739, 'gini = 0.0\\nsamples = 1\\nvalue = [1, 0]'),\n",
       " Text(30.31007955077211, 61.45043478260868, 'X[5] <= -1.251\\ngini = 0.48\\nsamples = 5\\nvalue = [2, 3]'),\n",
       " Text(30.226523163313054, 51.99652173913043, 'X[5] <= -2.719\\ngini = 0.375\\nsamples = 4\\nvalue = [1, 3]'),\n",
       " Text(30.142966775854, 42.54260869565218, 'gini = 0.0\\nsamples = 1\\nvalue = [0, 1]'),\n",
       " Text(30.31007955077211, 42.54260869565218, 'gini = 0.444\\nsamples = 3\\nvalue = [1, 2]'),\n",
       " Text(30.393635938231164, 51.99652173913043, 'gini = 0.0\\nsamples = 1\\nvalue = [1, 0]'),\n",
       " Text(30.727861488067383, 70.90434782608696, 'X[3] <= 3.208\\ngini = 0.493\\nsamples = 34\\nvalue = [19, 15]'),\n",
       " Text(30.644305100608328, 61.45043478260868, 'X[3] <= 2.155\\ngini = 0.489\\nsamples = 33\\nvalue = [19, 14]'),\n",
       " Text(30.560748713149273, 51.99652173913043, 'X[0] <= -0.727\\ngini = 0.495\\nsamples = 31\\nvalue = [17, 14]'),\n",
       " Text(30.47719232569022, 42.54260869565218, 'gini = 0.498\\nsamples = 30\\nvalue = [16, 14]'),\n",
       " Text(30.644305100608328, 42.54260869565218, 'gini = 0.0\\nsamples = 1\\nvalue = [1, 0]'),\n",
       " Text(30.727861488067383, 51.99652173913043, 'gini = 0.0\\nsamples = 2\\nvalue = [2, 0]'),\n",
       " Text(30.811417875526438, 61.45043478260868, 'gini = 0.0\\nsamples = 1\\nvalue = [0, 1]'),\n",
       " Text(31.312756200280766, 89.81217391304348, 'X[6] <= 1.095\\ngini = 0.386\\nsamples = 23\\nvalue = [17, 6]'),\n",
       " Text(31.145643425362657, 80.35826086956521, 'X[6] <= 0.336\\ngini = 0.245\\nsamples = 14\\nvalue = [12, 2]'),\n",
       " Text(31.062087037903602, 70.90434782608696, 'X[0] <= -0.727\\ngini = 0.32\\nsamples = 10\\nvalue = [8, 2]'),\n",
       " Text(30.978530650444547, 61.45043478260868, 'X[5] <= 0.217\\ngini = 0.444\\nsamples = 6\\nvalue = [4, 2]'),\n",
       " Text(30.894974262985492, 51.99652173913043, 'X[5] <= -0.517\\ngini = 0.32\\nsamples = 5\\nvalue = [4, 1]'),\n",
       " Text(30.811417875526438, 42.54260869565218, 'gini = 0.0\\nsamples = 1\\nvalue = [1, 0]'),\n",
       " Text(30.978530650444547, 42.54260869565218, 'X[2] <= 2.426\\ngini = 0.375\\nsamples = 4\\nvalue = [3, 1]'),\n",
       " Text(30.894974262985492, 33.0886956521739, 'gini = 0.444\\nsamples = 3\\nvalue = [2, 1]'),\n",
       " Text(31.062087037903602, 33.0886956521739, 'gini = 0.0\\nsamples = 1\\nvalue = [1, 0]'),\n",
       " Text(31.062087037903602, 51.99652173913043, 'gini = 0.0\\nsamples = 1\\nvalue = [0, 1]'),\n",
       " Text(31.145643425362657, 61.45043478260868, 'gini = 0.0\\nsamples = 4\\nvalue = [4, 0]'),\n",
       " Text(31.22919981282171, 70.90434782608696, 'gini = 0.0\\nsamples = 4\\nvalue = [4, 0]'),\n",
       " Text(31.479868975198876, 80.35826086956521, 'X[5] <= 0.217\\ngini = 0.494\\nsamples = 9\\nvalue = [5, 4]'),\n",
       " Text(31.39631258773982, 70.90434782608696, 'gini = 0.0\\nsamples = 3\\nvalue = [0, 3]'),\n",
       " Text(31.56342536265793, 70.90434782608696, 'X[2] <= 2.426\\ngini = 0.278\\nsamples = 6\\nvalue = [5, 1]'),\n",
       " Text(31.479868975198876, 61.45043478260868, 'gini = 0.0\\nsamples = 5\\nvalue = [5, 0]'),\n",
       " Text(31.646981750116986, 61.45043478260868, 'gini = 0.0\\nsamples = 1\\nvalue = [0, 1]'),\n",
       " Text(29.777407580720634, 108.72, 'gini = 0.0\\nsamples = 2\\nvalue = [0, 2]'),\n",
       " Text(30.0280767430978, 118.17391304347825, 'X[5] <= 0.217\\ngini = 0.278\\nsamples = 6\\nvalue = [5, 1]'),\n",
       " Text(29.944520355638744, 108.72, 'gini = 0.0\\nsamples = 5\\nvalue = [5, 0]'),\n",
       " Text(30.111633130556854, 108.72, 'gini = 0.0\\nsamples = 1\\nvalue = [0, 1]'),\n",
       " Text(31.646981750116986, 127.62782608695652, 'X[2] <= 1.272\\ngini = 0.188\\nsamples = 19\\nvalue = [17, 2]'),\n",
       " Text(31.56342536265793, 118.17391304347825, 'X[5] <= 0.217\\ngini = 0.105\\nsamples = 18\\nvalue = [17, 1]'),\n",
       " Text(31.479868975198876, 108.72, 'gini = 0.0\\nsamples = 9\\nvalue = [9, 0]'),\n",
       " Text(31.646981750116986, 108.72, 'X[3] <= 2.155\\ngini = 0.198\\nsamples = 9\\nvalue = [8, 1]'),\n",
       " Text(31.56342536265793, 99.26608695652173, 'X[6] <= -0.424\\ngini = 0.245\\nsamples = 7\\nvalue = [6, 1]'),\n",
       " Text(31.479868975198876, 89.81217391304348, 'gini = 0.0\\nsamples = 2\\nvalue = [2, 0]'),\n",
       " Text(31.646981750116986, 89.81217391304348, 'gini = 0.32\\nsamples = 5\\nvalue = [4, 1]'),\n",
       " Text(31.73053813757604, 99.26608695652173, 'gini = 0.0\\nsamples = 2\\nvalue = [2, 0]'),\n",
       " Text(31.73053813757604, 118.17391304347825, 'gini = 0.0\\nsamples = 1\\nvalue = [0, 1]'),\n",
       " Text(32.879438465138044, 137.08173913043478, 'X[6] <= 1.095\\ngini = 0.495\\nsamples = 31\\nvalue = [17, 14]'),\n",
       " Text(32.52432381843706, 127.62782608695652, 'X[4] <= -1.2\\ngini = 0.363\\nsamples = 21\\nvalue = [16, 5]'),\n",
       " Text(32.23187646233037, 118.17391304347825, 'X[2] <= 1.272\\ngini = 0.231\\nsamples = 15\\nvalue = [13, 2]'),\n",
       " Text(32.06476368741226, 108.72, 'X[6] <= 0.336\\ngini = 0.153\\nsamples = 12\\nvalue = [11, 1]'),\n",
       " Text(31.981207299953205, 99.26608695652173, 'X[3] <= 3.208\\ngini = 0.198\\nsamples = 9\\nvalue = [8, 1]'),\n",
       " Text(31.89765091249415, 89.81217391304348, 'X[0] <= -0.727\\ngini = 0.219\\nsamples = 8\\nvalue = [7, 1]'),\n",
       " Text(31.814094525035095, 80.35826086956521, 'X[6] <= -0.424\\ngini = 0.245\\nsamples = 7\\nvalue = [6, 1]'),\n",
       " Text(31.73053813757604, 70.90434782608696, 'gini = 0.0\\nsamples = 1\\nvalue = [1, 0]'),\n",
       " Text(31.89765091249415, 70.90434782608696, 'gini = 0.278\\nsamples = 6\\nvalue = [5, 1]'),\n",
       " Text(31.981207299953205, 80.35826086956521, 'gini = 0.0\\nsamples = 1\\nvalue = [1, 0]'),\n",
       " Text(32.06476368741226, 89.81217391304348, 'gini = 0.0\\nsamples = 1\\nvalue = [1, 0]'),\n",
       " Text(32.148320074871314, 99.26608695652173, 'gini = 0.0\\nsamples = 3\\nvalue = [3, 0]'),\n",
       " Text(32.39898923724848, 108.72, 'X[6] <= 0.336\\ngini = 0.444\\nsamples = 3\\nvalue = [2, 1]'),\n",
       " Text(32.315432849789424, 99.26608695652173, 'gini = 0.0\\nsamples = 2\\nvalue = [2, 0]'),\n",
       " Text(32.482545624707534, 99.26608695652173, 'gini = 0.0\\nsamples = 1\\nvalue = [0, 1]'),\n",
       " Text(32.81677117454375, 118.17391304347825, 'X[2] <= 1.849\\ngini = 0.5\\nsamples = 6\\nvalue = [3, 3]'),\n",
       " Text(32.7332147870847, 108.72, 'X[0] <= -0.727\\ngini = 0.48\\nsamples = 5\\nvalue = [2, 3]'),\n",
       " Text(32.64965839962564, 99.26608695652173, 'X[6] <= 0.336\\ngini = 0.5\\nsamples = 4\\nvalue = [2, 2]'),\n",
       " Text(32.482545624707534, 89.81217391304348, 'X[3] <= 2.155\\ngini = 0.5\\nsamples = 2\\nvalue = [1, 1]'),\n",
       " Text(32.39898923724848, 80.35826086956521, 'gini = 0.0\\nsamples = 1\\nvalue = [1, 0]'),\n",
       " Text(32.56610201216659, 80.35826086956521, 'gini = 0.0\\nsamples = 1\\nvalue = [0, 1]'),\n",
       " Text(32.81677117454375, 89.81217391304348, 'X[3] <= 2.155\\ngini = 0.5\\nsamples = 2\\nvalue = [1, 1]'),\n",
       " Text(32.7332147870847, 80.35826086956521, 'gini = 0.0\\nsamples = 1\\nvalue = [0, 1]'),\n",
       " Text(32.90032756200281, 80.35826086956521, 'gini = 0.0\\nsamples = 1\\nvalue = [1, 0]'),\n",
       " Text(32.81677117454375, 99.26608695652173, 'gini = 0.0\\nsamples = 1\\nvalue = [0, 1]'),\n",
       " Text(32.90032756200281, 108.72, 'gini = 0.0\\nsamples = 1\\nvalue = [1, 0]'),\n",
       " Text(33.23455311183903, 127.62782608695652, 'X[4] <= -1.2\\ngini = 0.18\\nsamples = 10\\nvalue = [1, 9]'),\n",
       " Text(33.15099672437997, 118.17391304347825, 'X[0] <= -0.727\\ngini = 0.278\\nsamples = 6\\nvalue = [1, 5]'),\n",
       " Text(33.06744033692092, 108.72, 'gini = 0.32\\nsamples = 5\\nvalue = [1, 4]'),\n",
       " Text(33.23455311183903, 108.72, 'gini = 0.0\\nsamples = 1\\nvalue = [0, 1]'),\n",
       " Text(33.31810949929808, 118.17391304347825, 'gini = 0.0\\nsamples = 4\\nvalue = [0, 4]'),\n",
       " Text(31.983818437061302, 146.53565217391304, 'gini = 0.0\\nsamples = 3\\nvalue = [3, 0]'),\n",
       " Text(39.248001871782876, 174.89739130434782, 'X[4] <= -1.2\\ngini = 0.447\\nsamples = 982\\nvalue = [331, 651]'),\n",
       " Text(37.558596162845106, 165.44347826086957, 'X[6] <= 2.614\\ngini = 0.414\\nsamples = 792\\nvalue = [232, 560]'),\n",
       " Text(35.824801123069726, 155.98956521739132, 'X[2] <= 0.117\\ngini = 0.395\\nsamples = 678\\nvalue = [184, 494]'),\n",
       " Text(34.78034627983154, 146.53565217391304, 'X[3] <= 5.314\\ngini = 0.363\\nsamples = 445\\nvalue = [106, 339]'),\n",
       " Text(34.696789892372486, 137.08173913043478, 'X[0] <= -0.727\\ngini = 0.361\\nsamples = 444\\nvalue = [105, 339]'),\n",
       " Text(34.070116986429575, 127.62782608695652, 'X[5] <= 0.217\\ngini = 0.364\\nsamples = 426\\nvalue = [102, 324]'),\n",
       " Text(33.610556855404774, 118.17391304347825, 'X[3] <= 1.101\\ngini = 0.346\\nsamples = 193\\nvalue = [43, 150]'),\n",
       " Text(33.40166588675714, 108.72, 'X[3] <= 0.048\\ngini = 0.337\\nsamples = 182\\nvalue = [39, 143]'),\n",
       " Text(33.31810949929808, 99.26608695652173, 'X[5] <= -1.251\\ngini = 0.353\\nsamples = 166\\nvalue = [38, 128]'),\n",
       " Text(33.15099672437997, 89.81217391304348, 'X[5] <= -1.985\\ngini = 0.48\\nsamples = 5\\nvalue = [2, 3]'),\n",
       " Text(33.06744033692092, 80.35826086956521, 'gini = 0.444\\nsamples = 3\\nvalue = [1, 2]'),\n",
       " Text(33.23455311183903, 80.35826086956521, 'gini = 0.5\\nsamples = 2\\nvalue = [1, 1]'),\n",
       " Text(33.48522227421619, 89.81217391304348, 'X[5] <= -0.517\\ngini = 0.347\\nsamples = 161\\nvalue = [36, 125]'),\n",
       " Text(33.40166588675714, 80.35826086956521, 'gini = 0.0\\nsamples = 4\\nvalue = [0, 4]'),\n",
       " Text(33.568778661675246, 80.35826086956521, 'gini = 0.353\\nsamples = 157\\nvalue = [36, 121]'),\n",
       " Text(33.48522227421619, 99.26608695652173, 'gini = 0.117\\nsamples = 16\\nvalue = [1, 15]'),\n",
       " Text(33.81944782405241, 108.72, 'X[3] <= 3.208\\ngini = 0.463\\nsamples = 11\\nvalue = [4, 7]'),\n",
       " Text(33.735891436593356, 99.26608695652173, 'X[5] <= -0.884\\ngini = 0.48\\nsamples = 10\\nvalue = [4, 6]'),\n",
       " Text(33.6523350491343, 89.81217391304348, 'gini = 0.0\\nsamples = 1\\nvalue = [0, 1]'),\n",
       " Text(33.81944782405241, 89.81217391304348, 'gini = 0.494\\nsamples = 9\\nvalue = [4, 5]'),\n",
       " Text(33.903004211511465, 99.26608695652173, 'gini = 0.0\\nsamples = 1\\nvalue = [0, 1]'),\n",
       " Text(34.529677117454376, 118.17391304347825, 'X[3] <= 1.101\\ngini = 0.378\\nsamples = 233\\nvalue = [59, 174]'),\n",
       " Text(34.237229761347685, 108.72, 'X[5] <= 0.951\\ngini = 0.385\\nsamples = 215\\nvalue = [56, 159]'),\n",
       " Text(34.070116986429575, 99.26608695652173, 'X[3] <= 0.048\\ngini = 0.397\\nsamples = 187\\nvalue = [51, 136]'),\n",
       " Text(33.98656059897052, 89.81217391304348, 'gini = 0.387\\nsamples = 168\\nvalue = [44, 124]'),\n",
       " Text(34.15367337388863, 89.81217391304348, 'gini = 0.465\\nsamples = 19\\nvalue = [7, 12]'),\n",
       " Text(34.404342536265794, 99.26608695652173, 'X[3] <= 0.048\\ngini = 0.293\\nsamples = 28\\nvalue = [5, 23]'),\n",
       " Text(34.32078614880674, 89.81217391304348, 'gini = 0.311\\nsamples = 26\\nvalue = [5, 21]'),\n",
       " Text(34.48789892372485, 89.81217391304348, 'gini = 0.0\\nsamples = 2\\nvalue = [0, 2]'),\n",
       " Text(34.82212447356107, 108.72, 'X[3] <= 2.155\\ngini = 0.278\\nsamples = 18\\nvalue = [3, 15]'),\n",
       " Text(34.73856808610201, 99.26608695652173, 'X[5] <= 0.951\\ngini = 0.219\\nsamples = 16\\nvalue = [2, 14]'),\n",
       " Text(34.65501169864296, 89.81217391304348, 'gini = 0.133\\nsamples = 14\\nvalue = [1, 13]'),\n",
       " Text(34.82212447356107, 89.81217391304348, 'gini = 0.5\\nsamples = 2\\nvalue = [1, 1]'),\n",
       " Text(34.90568086102012, 99.26608695652173, 'gini = 0.5\\nsamples = 2\\nvalue = [1, 1]'),\n",
       " Text(35.3234627983154, 127.62782608695652, 'X[3] <= 0.048\\ngini = 0.278\\nsamples = 18\\nvalue = [3, 15]'),\n",
       " Text(35.23990641085634, 118.17391304347825, 'X[5] <= 0.951\\ngini = 0.32\\nsamples = 15\\nvalue = [3, 12]'),\n",
       " Text(35.15635002339729, 108.72, 'X[5] <= 0.217\\ngini = 0.278\\nsamples = 12\\nvalue = [2, 10]'),\n",
       " Text(35.07279363593823, 99.26608695652173, 'gini = 0.375\\nsamples = 4\\nvalue = [1, 3]'),\n",
       " Text(35.23990641085634, 99.26608695652173, 'gini = 0.219\\nsamples = 8\\nvalue = [1, 7]'),\n",
       " Text(35.3234627983154, 108.72, 'gini = 0.444\\nsamples = 3\\nvalue = [1, 2]'),\n",
       " Text(35.40701918577445, 118.17391304347825, 'gini = 0.0\\nsamples = 3\\nvalue = [0, 3]'),\n",
       " Text(34.863902667290596, 137.08173913043478, 'gini = 0.0\\nsamples = 1\\nvalue = [1, 0]'),\n",
       " Text(36.86925596630791, 146.53565217391304, 'X[5] <= 0.217\\ngini = 0.445\\nsamples = 233\\nvalue = [78, 155]'),\n",
       " Text(36.05458118858213, 137.08173913043478, 'X[5] <= -1.251\\ngini = 0.373\\nsamples = 121\\nvalue = [30, 91]'),\n",
       " Text(35.74124473561067, 127.62782608695652, 'X[2] <= 2.426\\ngini = 0.494\\nsamples = 9\\nvalue = [5, 4]'),\n",
       " Text(35.657688348151616, 118.17391304347825, 'X[2] <= 1.272\\ngini = 0.469\\nsamples = 8\\nvalue = [5, 3]'),\n",
       " Text(35.57413196069256, 108.72, 'X[5] <= -2.719\\ngini = 0.5\\nsamples = 6\\nvalue = [3, 3]'),\n",
       " Text(35.40701918577445, 99.26608695652173, 'X[3] <= 0.575\\ngini = 0.5\\nsamples = 2\\nvalue = [1, 1]'),\n",
       " Text(35.3234627983154, 89.81217391304348, 'gini = 0.0\\nsamples = 1\\nvalue = [0, 1]'),\n",
       " Text(35.49057557323351, 89.81217391304348, 'gini = 0.0\\nsamples = 1\\nvalue = [1, 0]'),\n",
       " Text(35.74124473561067, 99.26608695652173, 'X[3] <= 0.575\\ngini = 0.5\\nsamples = 4\\nvalue = [2, 2]'),\n",
       " Text(35.657688348151616, 89.81217391304348, 'X[5] <= -1.985\\ngini = 0.444\\nsamples = 3\\nvalue = [2, 1]'),\n",
       " Text(35.57413196069256, 80.35826086956521, 'gini = 0.0\\nsamples = 1\\nvalue = [1, 0]'),\n",
       " Text(35.74124473561067, 80.35826086956521, 'gini = 0.5\\nsamples = 2\\nvalue = [1, 1]'),\n",
       " Text(35.824801123069726, 89.81217391304348, 'gini = 0.0\\nsamples = 1\\nvalue = [0, 1]'),\n",
       " Text(35.74124473561067, 108.72, 'gini = 0.0\\nsamples = 2\\nvalue = [2, 0]'),\n",
       " Text(35.824801123069726, 118.17391304347825, 'gini = 0.0\\nsamples = 1\\nvalue = [0, 1]'),\n",
       " Text(36.36791764155358, 127.62782608695652, 'X[2] <= 1.272\\ngini = 0.347\\nsamples = 112\\nvalue = [25, 87]'),\n",
       " Text(36.159026672905945, 118.17391304347825, 'X[3] <= 0.048\\ngini = 0.327\\nsamples = 97\\nvalue = [20, 77]'),\n",
       " Text(35.991913897987835, 108.72, 'X[0] <= -0.727\\ngini = 0.366\\nsamples = 54\\nvalue = [13, 41]'),\n",
       " Text(35.90835751052878, 99.26608695652173, 'gini = 0.37\\nsamples = 53\\nvalue = [13, 40]'),\n",
       " Text(36.07547028544689, 99.26608695652173, 'gini = 0.0\\nsamples = 1\\nvalue = [0, 1]'),\n",
       " Text(36.326139447824055, 108.72, 'X[3] <= 2.155\\ngini = 0.273\\nsamples = 43\\nvalue = [7, 36]'),\n",
       " Text(36.242583060365, 99.26608695652173, 'X[5] <= -0.517\\ngini = 0.289\\nsamples = 40\\nvalue = [7, 33]'),\n",
       " Text(36.159026672905945, 89.81217391304348, 'gini = 0.0\\nsamples = 1\\nvalue = [0, 1]'),\n",
       " Text(36.326139447824055, 89.81217391304348, 'X[3] <= 1.101\\ngini = 0.295\\nsamples = 39\\nvalue = [7, 32]'),\n",
       " Text(36.242583060365, 80.35826086956521, 'gini = 0.305\\nsamples = 16\\nvalue = [3, 13]'),\n",
       " Text(36.40969583528311, 80.35826086956521, 'gini = 0.287\\nsamples = 23\\nvalue = [4, 19]'),\n",
       " Text(36.40969583528311, 99.26608695652173, 'gini = 0.0\\nsamples = 3\\nvalue = [0, 3]'),\n",
       " Text(36.57680861020122, 118.17391304347825, 'X[5] <= -0.517\\ngini = 0.444\\nsamples = 15\\nvalue = [5, 10]'),\n",
       " Text(36.493252222742164, 108.72, 'gini = 0.0\\nsamples = 1\\nvalue = [1, 0]'),\n",
       " Text(36.660364997660274, 108.72, 'X[3] <= 0.575\\ngini = 0.408\\nsamples = 14\\nvalue = [4, 10]'),\n",
       " Text(36.57680861020122, 99.26608695652173, 'gini = 0.346\\nsamples = 9\\nvalue = [2, 7]'),\n",
       " Text(36.74392138511933, 99.26608695652173, 'X[2] <= 3.581\\ngini = 0.48\\nsamples = 5\\nvalue = [2, 3]'),\n",
       " Text(36.660364997660274, 89.81217391304348, 'X[2] <= 2.426\\ngini = 0.5\\nsamples = 4\\nvalue = [2, 2]'),\n",
       " Text(36.57680861020122, 80.35826086956521, 'gini = 0.5\\nsamples = 2\\nvalue = [1, 1]'),\n",
       " Text(36.74392138511933, 80.35826086956521, 'gini = 0.5\\nsamples = 2\\nvalue = [1, 1]'),\n",
       " Text(36.82747777257838, 89.81217391304348, 'gini = 0.0\\nsamples = 1\\nvalue = [0, 1]'),\n",
       " Text(37.68393074403369, 137.08173913043478, 'X[2] <= 1.272\\ngini = 0.49\\nsamples = 112\\nvalue = [48, 64]'),\n",
       " Text(37.45415067852129, 127.62782608695652, 'X[3] <= 5.84\\ngini = 0.495\\nsamples = 102\\nvalue = [46, 56]'),\n",
       " Text(37.37059429106224, 118.17391304347825, 'X[5] <= 0.951\\ngini = 0.498\\nsamples = 99\\nvalue = [46, 53]'),\n",
       " Text(37.1617033224146, 108.72, 'X[3] <= 2.155\\ngini = 0.5\\nsamples = 83\\nvalue = [41, 42]'),\n",
       " Text(37.07814693495555, 99.26608695652173, 'X[0] <= -0.727\\ngini = 0.499\\nsamples = 81\\nvalue = [39, 42]'),\n",
       " Text(36.99459054749649, 89.81217391304348, 'X[3] <= 1.101\\ngini = 0.5\\nsamples = 78\\nvalue = [38, 40]'),\n",
       " Text(36.91103416003744, 80.35826086956521, 'X[3] <= 0.048\\ngini = 0.499\\nsamples = 52\\nvalue = [25, 27]'),\n",
       " Text(36.82747777257838, 70.90434782608696, 'gini = 0.5\\nsamples = 43\\nvalue = [21, 22]'),\n",
       " Text(36.99459054749649, 70.90434782608696, 'gini = 0.494\\nsamples = 9\\nvalue = [4, 5]'),\n",
       " Text(37.07814693495555, 80.35826086956521, 'gini = 0.5\\nsamples = 26\\nvalue = [13, 13]'),\n",
       " Text(37.1617033224146, 89.81217391304348, 'gini = 0.444\\nsamples = 3\\nvalue = [1, 2]'),\n",
       " Text(37.24525970987366, 99.26608695652173, 'gini = 0.0\\nsamples = 2\\nvalue = [2, 0]'),\n",
       " Text(37.57948525970987, 108.72, 'X[3] <= 1.101\\ngini = 0.43\\nsamples = 16\\nvalue = [5, 11]'),\n",
       " Text(37.41237248479177, 99.26608695652173, 'X[3] <= 0.048\\ngini = 0.298\\nsamples = 11\\nvalue = [2, 9]'),\n",
       " Text(37.32881609733271, 89.81217391304348, 'X[0] <= -0.727\\ngini = 0.375\\nsamples = 8\\nvalue = [2, 6]'),\n",
       " Text(37.24525970987366, 80.35826086956521, 'gini = 0.408\\nsamples = 7\\nvalue = [2, 5]'),\n",
       " Text(37.41237248479177, 80.35826086956521, 'gini = 0.0\\nsamples = 1\\nvalue = [0, 1]'),\n",
       " Text(37.495928872250815, 89.81217391304348, 'gini = 0.0\\nsamples = 3\\nvalue = [0, 3]'),\n",
       " Text(37.74659803462798, 99.26608695652173, 'X[3] <= 2.155\\ngini = 0.48\\nsamples = 5\\nvalue = [3, 2]'),\n",
       " Text(37.663041647168924, 89.81217391304348, 'gini = 0.444\\nsamples = 3\\nvalue = [2, 1]'),\n",
       " Text(37.830154422087034, 89.81217391304348, 'gini = 0.5\\nsamples = 2\\nvalue = [1, 1]'),\n",
       " Text(37.53770706598034, 118.17391304347825, 'gini = 0.0\\nsamples = 3\\nvalue = [0, 3]'),\n",
       " Text(37.91371080954609, 127.62782608695652, 'X[2] <= 5.313\\ngini = 0.32\\nsamples = 10\\nvalue = [2, 8]'),\n",
       " Text(37.830154422087034, 118.17391304347825, 'X[3] <= 0.048\\ngini = 0.198\\nsamples = 9\\nvalue = [1, 8]'),\n",
       " Text(37.74659803462798, 108.72, 'gini = 0.245\\nsamples = 7\\nvalue = [1, 6]'),\n",
       " Text(37.91371080954609, 108.72, 'gini = 0.0\\nsamples = 2\\nvalue = [0, 2]'),\n",
       " Text(37.997267197005144, 118.17391304347825, 'gini = 0.0\\nsamples = 1\\nvalue = [1, 0]'),\n",
       " Text(39.29239120262049, 155.98956521739132, 'X[3] <= 3.208\\ngini = 0.488\\nsamples = 114\\nvalue = [48, 66]'),\n",
       " Text(39.20883481516144, 146.53565217391304, 'X[2] <= 0.117\\ngini = 0.482\\nsamples = 111\\nvalue = [45, 66]'),\n",
       " Text(38.58216190921853, 137.08173913043478, 'X[0] <= -0.727\\ngini = 0.455\\nsamples = 77\\nvalue = [27, 50]'),\n",
       " Text(38.49860552175947, 127.62782608695652, 'X[5] <= -1.618\\ngini = 0.469\\nsamples = 72\\nvalue = [27, 45]'),\n",
       " Text(38.41504913430042, 118.17391304347825, 'gini = 0.0\\nsamples = 1\\nvalue = [1, 0]'),\n",
       " Text(38.58216190921853, 118.17391304347825, 'X[5] <= 0.217\\ngini = 0.464\\nsamples = 71\\nvalue = [26, 45]'),\n",
       " Text(38.24793635938231, 108.72, 'X[3] <= 0.048\\ngini = 0.49\\nsamples = 35\\nvalue = [15, 20]'),\n",
       " Text(38.0808235844642, 99.26608695652173, 'X[5] <= -0.517\\ngini = 0.475\\nsamples = 31\\nvalue = [12, 19]'),\n",
       " Text(37.997267197005144, 89.81217391304348, 'gini = 0.5\\nsamples = 2\\nvalue = [1, 1]'),\n",
       " Text(38.16437997192325, 89.81217391304348, 'gini = 0.471\\nsamples = 29\\nvalue = [11, 18]'),\n",
       " Text(38.41504913430042, 99.26608695652173, 'X[3] <= 1.101\\ngini = 0.375\\nsamples = 4\\nvalue = [3, 1]'),\n",
       " Text(38.33149274684136, 89.81217391304348, 'gini = 0.0\\nsamples = 2\\nvalue = [2, 0]'),\n",
       " Text(38.49860552175947, 89.81217391304348, 'gini = 0.5\\nsamples = 2\\nvalue = [1, 1]'),\n",
       " Text(38.91638745905475, 108.72, 'X[3] <= 0.048\\ngini = 0.424\\nsamples = 36\\nvalue = [11, 25]'),\n",
       " Text(38.74927468413664, 99.26608695652173, 'X[5] <= 0.951\\ngini = 0.444\\nsamples = 30\\nvalue = [10, 20]'),\n",
       " Text(38.66571829667758, 89.81217391304348, 'gini = 0.435\\nsamples = 25\\nvalue = [8, 17]'),\n",
       " Text(38.83283107159569, 89.81217391304348, 'gini = 0.48\\nsamples = 5\\nvalue = [2, 3]'),\n",
       " Text(39.083500233972856, 99.26608695652173, 'X[3] <= 1.628\\ngini = 0.278\\nsamples = 6\\nvalue = [1, 5]'),\n",
       " Text(38.9999438465138, 89.81217391304348, 'gini = 0.32\\nsamples = 5\\nvalue = [1, 4]'),\n",
       " Text(39.16705662143191, 89.81217391304348, 'gini = 0.0\\nsamples = 1\\nvalue = [0, 1]'),\n",
       " Text(38.66571829667758, 127.62782608695652, 'gini = 0.0\\nsamples = 5\\nvalue = [0, 5]'),\n",
       " Text(39.83550772110435, 137.08173913043478, 'X[2] <= 2.426\\ngini = 0.498\\nsamples = 34\\nvalue = [18, 16]'),\n",
       " Text(39.751951333645295, 127.62782608695652, 'X[2] <= 1.272\\ngini = 0.492\\nsamples = 32\\nvalue = [18, 14]'),\n",
       " Text(39.66839494618624, 118.17391304347825, 'X[5] <= 0.951\\ngini = 0.498\\nsamples = 30\\nvalue = [16, 14]'),\n",
       " Text(39.584838558727185, 108.72, 'X[5] <= 0.217\\ngini = 0.499\\nsamples = 29\\nvalue = [15, 14]'),\n",
       " Text(39.417725783809075, 99.26608695652173, 'X[3] <= 0.048\\ngini = 0.473\\nsamples = 13\\nvalue = [8, 5]'),\n",
       " Text(39.33416939635002, 89.81217391304348, 'X[0] <= -0.727\\ngini = 0.496\\nsamples = 11\\nvalue = [6, 5]'),\n",
       " Text(39.250613008890966, 80.35826086956521, 'gini = 0.48\\nsamples = 10\\nvalue = [6, 4]'),\n",
       " Text(39.417725783809075, 80.35826086956521, 'gini = 0.0\\nsamples = 1\\nvalue = [0, 1]'),\n",
       " Text(39.50128217126813, 89.81217391304348, 'gini = 0.0\\nsamples = 2\\nvalue = [2, 0]'),\n",
       " Text(39.751951333645295, 99.26608695652173, 'X[0] <= -0.727\\ngini = 0.492\\nsamples = 16\\nvalue = [7, 9]'),\n",
       " Text(39.66839494618624, 89.81217391304348, 'X[3] <= 1.101\\ngini = 0.48\\nsamples = 15\\nvalue = [6, 9]'),\n",
       " Text(39.584838558727185, 80.35826086956521, 'X[3] <= 0.048\\ngini = 0.49\\nsamples = 14\\nvalue = [6, 8]'),\n",
       " Text(39.50128217126813, 70.90434782608696, 'gini = 0.463\\nsamples = 11\\nvalue = [4, 7]'),\n",
       " Text(39.66839494618624, 70.90434782608696, 'gini = 0.444\\nsamples = 3\\nvalue = [2, 1]'),\n",
       " Text(39.751951333645295, 80.35826086956521, 'gini = 0.0\\nsamples = 1\\nvalue = [0, 1]'),\n",
       " Text(39.83550772110435, 89.81217391304348, 'gini = 0.0\\nsamples = 1\\nvalue = [1, 0]'),\n",
       " Text(39.751951333645295, 108.72, 'gini = 0.0\\nsamples = 1\\nvalue = [1, 0]'),\n",
       " Text(39.83550772110435, 118.17391304347825, 'gini = 0.0\\nsamples = 2\\nvalue = [2, 0]'),\n",
       " Text(39.919064108563404, 127.62782608695652, 'gini = 0.0\\nsamples = 2\\nvalue = [0, 2]'),\n",
       " Text(39.37594759007955, 146.53565217391304, 'gini = 0.0\\nsamples = 3\\nvalue = [3, 0]'),\n",
       " Text(40.93740758072064, 165.44347826086957, 'X[5] <= 0.217\\ngini = 0.499\\nsamples = 190\\nvalue = [99, 91]'),\n",
       " Text(40.16973327094057, 155.98956521739132, 'X[2] <= 0.117\\ngini = 0.414\\nsamples = 41\\nvalue = [29, 12]'),\n",
       " Text(40.086176883481514, 146.53565217391304, 'X[5] <= -1.251\\ngini = 0.469\\nsamples = 32\\nvalue = [20, 12]'),\n",
       " Text(40.00262049602246, 137.08173913043478, 'gini = 0.0\\nsamples = 1\\nvalue = [0, 1]'),\n",
       " Text(40.16973327094057, 137.08173913043478, 'X[0] <= -0.727\\ngini = 0.458\\nsamples = 31\\nvalue = [20, 11]'),\n",
       " Text(40.086176883481514, 127.62782608695652, 'X[3] <= 1.101\\ngini = 0.471\\nsamples = 29\\nvalue = [18, 11]'),\n",
       " Text(40.00262049602246, 118.17391304347825, 'X[6] <= 2.614\\ngini = 0.477\\nsamples = 28\\nvalue = [17, 11]'),\n",
       " Text(39.919064108563404, 108.72, 'gini = 0.476\\nsamples = 23\\nvalue = [14, 9]'),\n",
       " Text(40.086176883481514, 108.72, 'gini = 0.48\\nsamples = 5\\nvalue = [3, 2]'),\n",
       " Text(40.16973327094057, 118.17391304347825, 'gini = 0.0\\nsamples = 1\\nvalue = [1, 0]'),\n",
       " Text(40.25328965839962, 127.62782608695652, 'gini = 0.0\\nsamples = 2\\nvalue = [2, 0]'),\n",
       " Text(40.25328965839962, 146.53565217391304, 'gini = 0.0\\nsamples = 9\\nvalue = [9, 0]'),\n",
       " Text(41.7050818905007, 155.98956521739132, 'X[0] <= -0.727\\ngini = 0.498\\nsamples = 149\\nvalue = [70, 79]'),\n",
       " Text(41.53796911558259, 146.53565217391304, 'X[3] <= 3.208\\ngini = 0.497\\nsamples = 145\\nvalue = [67, 78]'),\n",
       " Text(41.454412728123536, 137.08173913043478, 'X[5] <= 0.951\\ngini = 0.497\\nsamples = 144\\nvalue = [66, 78]'),\n",
       " Text(40.6710715956949, 127.62782608695652, 'X[2] <= 0.117\\ngini = 0.5\\nsamples = 67\\nvalue = [33, 34]'),\n",
       " Text(40.33684604585868, 118.17391304347825, 'X[3] <= 2.155\\ngini = 0.498\\nsamples = 51\\nvalue = [24, 27]'),\n",
       " Text(40.25328965839962, 108.72, 'X[3] <= 0.048\\ngini = 0.497\\nsamples = 48\\nvalue = [22, 26]'),\n",
       " Text(40.086176883481514, 99.26608695652173, 'X[6] <= 2.614\\ngini = 0.5\\nsamples = 41\\nvalue = [20, 21]'),\n",
       " Text(40.00262049602246, 89.81217391304348, 'gini = 0.499\\nsamples = 40\\nvalue = [19, 21]'),\n",
       " Text(40.16973327094057, 89.81217391304348, 'gini = 0.0\\nsamples = 1\\nvalue = [1, 0]'),\n",
       " Text(40.42040243331773, 99.26608695652173, 'X[3] <= 1.101\\ngini = 0.408\\nsamples = 7\\nvalue = [2, 5]'),\n",
       " Text(40.33684604585868, 89.81217391304348, 'gini = 0.0\\nsamples = 3\\nvalue = [0, 3]'),\n",
       " Text(40.50395882077679, 89.81217391304348, 'gini = 0.5\\nsamples = 4\\nvalue = [2, 2]'),\n",
       " Text(40.42040243331773, 108.72, 'gini = 0.444\\nsamples = 3\\nvalue = [2, 1]'),\n",
       " Text(41.00529714553112, 118.17391304347825, 'X[6] <= 2.614\\ngini = 0.492\\nsamples = 16\\nvalue = [9, 7]'),\n",
       " Text(40.92174075807206, 108.72, 'X[2] <= 1.849\\ngini = 0.48\\nsamples = 15\\nvalue = [9, 6]'),\n",
       " Text(40.75462798315395, 99.26608695652173, 'X[3] <= 0.575\\ngini = 0.463\\nsamples = 11\\nvalue = [7, 4]'),\n",
       " Text(40.6710715956949, 89.81217391304348, 'gini = 0.444\\nsamples = 9\\nvalue = [6, 3]'),\n",
       " Text(40.83818437061301, 89.81217391304348, 'gini = 0.5\\nsamples = 2\\nvalue = [1, 1]'),\n",
       " Text(41.08885353299017, 99.26608695652173, 'X[3] <= 0.048\\ngini = 0.5\\nsamples = 4\\nvalue = [2, 2]'),\n",
       " Text(41.00529714553112, 89.81217391304348, 'gini = 0.444\\nsamples = 3\\nvalue = [1, 2]'),\n",
       " Text(41.172409920449226, 89.81217391304348, 'gini = 0.0\\nsamples = 1\\nvalue = [1, 0]'),\n",
       " Text(41.08885353299017, 108.72, 'gini = 0.0\\nsamples = 1\\nvalue = [0, 1]'),\n",
       " Text(42.237753860552175, 127.62782608695652, 'X[2] <= 1.272\\ngini = 0.49\\nsamples = 77\\nvalue = [33, 44]'),\n",
       " Text(42.15419747309312, 118.17391304347825, 'X[6] <= 2.614\\ngini = 0.491\\nsamples = 76\\nvalue = [33, 43]'),\n",
       " Text(41.79908282639214, 108.72, 'X[2] <= 0.117\\ngini = 0.486\\nsamples = 65\\nvalue = [27, 38]'),\n",
       " Text(41.506635470285445, 99.26608695652173, 'X[3] <= 1.101\\ngini = 0.491\\nsamples = 53\\nvalue = [23, 30]'),\n",
       " Text(41.339522695367336, 89.81217391304348, 'X[3] <= 0.048\\ngini = 0.495\\nsamples = 49\\nvalue = [22, 27]'),\n",
       " Text(41.25596630790828, 80.35826086956521, 'X[5] <= 1.685\\ngini = 0.489\\nsamples = 47\\nvalue = [20, 27]'),\n",
       " Text(41.172409920449226, 70.90434782608696, 'gini = 0.488\\nsamples = 45\\nvalue = [19, 26]'),\n",
       " Text(41.339522695367336, 70.90434782608696, 'gini = 0.5\\nsamples = 2\\nvalue = [1, 1]'),\n",
       " Text(41.42307908282639, 80.35826086956521, 'gini = 0.0\\nsamples = 2\\nvalue = [2, 0]'),\n",
       " Text(41.673748245203555, 89.81217391304348, 'X[3] <= 2.155\\ngini = 0.375\\nsamples = 4\\nvalue = [1, 3]'),\n",
       " Text(41.5901918577445, 80.35826086956521, 'gini = 0.0\\nsamples = 2\\nvalue = [0, 2]'),\n",
       " Text(41.75730463266261, 80.35826086956521, 'gini = 0.5\\nsamples = 2\\nvalue = [1, 1]'),\n",
       " Text(42.09153018249883, 99.26608695652173, 'X[3] <= 2.155\\ngini = 0.444\\nsamples = 12\\nvalue = [4, 8]'),\n",
       " Text(42.007973795039774, 89.81217391304348, 'X[3] <= 1.101\\ngini = 0.463\\nsamples = 11\\nvalue = [4, 7]'),\n",
       " Text(41.92441740758072, 80.35826086956521, 'X[3] <= 0.048\\ngini = 0.42\\nsamples = 10\\nvalue = [3, 7]'),\n",
       " Text(41.840861020121665, 70.90434782608696, 'gini = 0.444\\nsamples = 6\\nvalue = [2, 4]'),\n",
       " Text(42.007973795039774, 70.90434782608696, 'gini = 0.375\\nsamples = 4\\nvalue = [1, 3]'),\n",
       " Text(42.09153018249883, 80.35826086956521, 'gini = 0.0\\nsamples = 1\\nvalue = [1, 0]'),\n",
       " Text(42.175086569957884, 89.81217391304348, 'gini = 0.0\\nsamples = 1\\nvalue = [0, 1]'),\n",
       " Text(42.5093121197941, 108.72, 'X[3] <= 0.048\\ngini = 0.496\\nsamples = 11\\nvalue = [6, 5]'),\n",
       " Text(42.42575573233505, 99.26608695652173, 'X[2] <= 0.117\\ngini = 0.494\\nsamples = 9\\nvalue = [4, 5]'),\n",
       " Text(42.34219934487599, 89.81217391304348, 'gini = 0.469\\nsamples = 8\\nvalue = [3, 5]'),\n",
       " Text(42.5093121197941, 89.81217391304348, 'gini = 0.0\\nsamples = 1\\nvalue = [1, 0]'),\n",
       " Text(42.59286850725316, 99.26608695652173, 'gini = 0.0\\nsamples = 2\\nvalue = [2, 0]'),\n",
       " Text(42.32131024801123, 118.17391304347825, 'gini = 0.0\\nsamples = 1\\nvalue = [0, 1]'),\n",
       " Text(41.621525503041646, 137.08173913043478, 'gini = 0.0\\nsamples = 1\\nvalue = [1, 0]'),\n",
       " Text(41.87219466541881, 146.53565217391304, 'X[5] <= 0.951\\ngini = 0.375\\nsamples = 4\\nvalue = [3, 1]'),\n",
       " Text(41.788638277959755, 137.08173913043478, 'gini = 0.0\\nsamples = 1\\nvalue = [0, 1]'),\n",
       " Text(41.955751052877865, 137.08173913043478, 'gini = 0.0\\nsamples = 3\\nvalue = [3, 0]'),\n",
       " Text(51.60488184370613, 184.3513043478261, 'X[4] <= -1.2\\ngini = 0.389\\nsamples = 1250\\nvalue = [919, 331]'),\n",
       " Text(48.81324988301357, 174.89739130434782, 'X[3] <= 1.101\\ngini = 0.424\\nsamples = 977\\nvalue = [679, 298]'),\n",
       " Text(47.14799719232569, 165.44347826086957, 'X[6] <= 1.095\\ngini = 0.439\\nsamples = 791\\nvalue = [534, 257]'),\n",
       " Text(46.01084698175011, 155.98956521739132, 'X[6] <= 0.336\\ngini = 0.429\\nsamples = 740\\nvalue = [509, 231]'),\n",
       " Text(45.20922788956481, 146.53565217391304, 'X[3] <= 0.048\\ngini = 0.433\\nsamples = 723\\nvalue = [494, 229]'),\n",
       " Text(44.2953299017314, 137.08173913043478, 'X[2] <= 0.117\\ngini = 0.425\\nsamples = 628\\nvalue = [436, 192]'),\n",
       " Text(43.491099672438, 127.62782608695652, 'X[5] <= -0.517\\ngini = 0.432\\nsamples = 564\\nvalue = [386, 178]'),\n",
       " Text(43.09420683200749, 118.17391304347825, 'X[6] <= -0.424\\ngini = 0.475\\nsamples = 36\\nvalue = [22, 14]'),\n",
       " Text(42.84353766963032, 108.72, 'X[5] <= -2.719\\ngini = 0.444\\nsamples = 27\\nvalue = [18, 9]'),\n",
       " Text(42.75998128217127, 99.26608695652173, 'gini = 0.0\\nsamples = 1\\nvalue = [0, 1]'),\n",
       " Text(42.92709405708938, 99.26608695652173, 'X[5] <= -1.985\\ngini = 0.426\\nsamples = 26\\nvalue = [18, 8]'),\n",
       " Text(42.84353766963032, 89.81217391304348, 'gini = 0.32\\nsamples = 5\\nvalue = [4, 1]'),\n",
       " Text(43.01065044454843, 89.81217391304348, 'X[5] <= -1.251\\ngini = 0.444\\nsamples = 21\\nvalue = [14, 7]'),\n",
       " Text(42.92709405708938, 80.35826086956521, 'gini = 0.444\\nsamples = 3\\nvalue = [2, 1]'),\n",
       " Text(43.09420683200749, 80.35826086956521, 'gini = 0.444\\nsamples = 18\\nvalue = [12, 6]'),\n",
       " Text(43.34487599438465, 108.72, 'X[5] <= -1.251\\ngini = 0.494\\nsamples = 9\\nvalue = [4, 5]'),\n",
       " Text(43.261319606925596, 99.26608695652173, 'X[5] <= -1.985\\ngini = 0.444\\nsamples = 6\\nvalue = [4, 2]'),\n",
       " Text(43.17776321946654, 89.81217391304348, 'gini = 0.0\\nsamples = 2\\nvalue = [2, 0]'),\n",
       " Text(43.34487599438465, 89.81217391304348, 'gini = 0.5\\nsamples = 4\\nvalue = [2, 2]'),\n",
       " Text(43.428432381843706, 99.26608695652173, 'gini = 0.0\\nsamples = 3\\nvalue = [0, 3]'),\n",
       " Text(43.88799251286851, 118.17391304347825, 'X[5] <= 0.217\\ngini = 0.428\\nsamples = 528\\nvalue = [364, 164]'),\n",
       " Text(43.67910154422087, 108.72, 'X[6] <= -0.424\\ngini = 0.416\\nsamples = 343\\nvalue = [242, 101]'),\n",
       " Text(43.595545156761816, 99.26608695652173, 'gini = 0.399\\nsamples = 287\\nvalue = [208, 79]'),\n",
       " Text(43.762657931679925, 99.26608695652173, 'gini = 0.477\\nsamples = 56\\nvalue = [34, 22]'),\n",
       " Text(44.096883481516144, 108.72, 'X[6] <= -0.424\\ngini = 0.449\\nsamples = 185\\nvalue = [122, 63]'),\n",
       " Text(43.929770706598035, 99.26608695652173, 'X[5] <= 0.951\\ngini = 0.467\\nsamples = 140\\nvalue = [88, 52]'),\n",
       " Text(43.84621431913898, 89.81217391304348, 'gini = 0.473\\nsamples = 94\\nvalue = [58, 36]'),\n",
       " Text(44.01332709405709, 89.81217391304348, 'gini = 0.454\\nsamples = 46\\nvalue = [30, 16]'),\n",
       " Text(44.263996256434254, 99.26608695652173, 'X[5] <= 1.685\\ngini = 0.369\\nsamples = 45\\nvalue = [34, 11]'),\n",
       " Text(44.1804398689752, 89.81217391304348, 'X[5] <= 0.951\\ngini = 0.375\\nsamples = 44\\nvalue = [33, 11]'),\n",
       " Text(44.096883481516144, 80.35826086956521, 'gini = 0.375\\nsamples = 28\\nvalue = [21, 7]'),\n",
       " Text(44.263996256434254, 80.35826086956521, 'gini = 0.375\\nsamples = 16\\nvalue = [12, 4]'),\n",
       " Text(44.34755264389331, 89.81217391304348, 'gini = 0.0\\nsamples = 1\\nvalue = [1, 0]'),\n",
       " Text(45.0995601310248, 127.62782608695652, 'X[2] <= 7.044\\ngini = 0.342\\nsamples = 64\\nvalue = [50, 14]'),\n",
       " Text(45.01600374356575, 118.17391304347825, 'X[5] <= 0.951\\ngini = 0.328\\nsamples = 63\\nvalue = [50, 13]'),\n",
       " Text(44.93244735610669, 108.72, 'X[2] <= 3.581\\ngini = 0.357\\nsamples = 56\\nvalue = [43, 13]'),\n",
       " Text(44.84889096864764, 99.26608695652173, 'X[2] <= 1.272\\ngini = 0.385\\nsamples = 50\\nvalue = [37, 13]'),\n",
       " Text(44.51466541881142, 89.81217391304348, 'X[5] <= -0.517\\ngini = 0.332\\nsamples = 38\\nvalue = [30, 8]'),\n",
       " Text(44.431109031352364, 80.35826086956521, 'gini = 0.0\\nsamples = 1\\nvalue = [0, 1]'),\n",
       " Text(44.59822180627047, 80.35826086956521, 'X[5] <= 0.217\\ngini = 0.307\\nsamples = 37\\nvalue = [30, 7]'),\n",
       " Text(44.431109031352364, 70.90434782608696, 'X[6] <= -0.424\\ngini = 0.269\\nsamples = 25\\nvalue = [21, 4]'),\n",
       " Text(44.34755264389331, 61.45043478260868, 'gini = 0.278\\nsamples = 12\\nvalue = [10, 2]'),\n",
       " Text(44.51466541881142, 61.45043478260868, 'gini = 0.26\\nsamples = 13\\nvalue = [11, 2]'),\n",
       " Text(44.76533458118858, 70.90434782608696, 'X[6] <= -0.424\\ngini = 0.375\\nsamples = 12\\nvalue = [9, 3]'),\n",
       " ...]"
      ]
     },
     "execution_count": 111,
     "metadata": {},
     "output_type": "execute_result"
    },
    {
     "data": {
      "image/png": "[encoded data removed]",
      "text/plain": [
       "<Figure size 432x288 with 1 Axes>"
      ]
     },
     "metadata": {
      "needs_background": "light"
     },
     "output_type": "display_data"
    }
   ],
   "source": [
    "tree.plot_tree(clf, filled=True)"
   ]
  },
  {
   "cell_type": "markdown",
   "metadata": {},
   "source": [
    "Is it easy to interpret its results? Are you able to explain to a random person why would they survive / die on the titanic?"
   ]
  }
 ],
 "metadata": {
  "kernelspec": {
   "display_name": "Python 3 (ipykernel)",
   "language": "python",
   "name": "python3"
  },
  "language_info": {
   "codemirror_mode": {
    "name": "ipython",
    "version": 3
   },
   "file_extension": ".py",
   "mimetype": "text/x-python",
   "name": "python",
   "nbconvert_exporter": "python",
   "pygments_lexer": "ipython3",
   "version": "3.9.7"
  },
  "toc": {
   "base_numbering": 1,
   "nav_menu": {},
   "number_sections": true,
   "sideBar": true,
   "skip_h1_title": false,
   "title_cell": "Table of Contents",
   "title_sidebar": "Contents",
   "toc_cell": false,
   "toc_position": {
    "height": "calc(100% - 180px)",
    "left": "10px",
    "top": "150px",
    "width": "235px"
   },
   "toc_section_display": true,
   "toc_window_display": true
  }
 },
 "nbformat": 4,
 "nbformat_minor": 4
}
